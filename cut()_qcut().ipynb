{
  "nbformat": 4,
  "nbformat_minor": 0,
  "metadata": {
    "colab": {
      "private_outputs": true,
      "provenance": [],
      "authorship_tag": "ABX9TyMgIh7n4ETB107kZDMKaFGk",
      "include_colab_link": true
    },
    "kernelspec": {
      "name": "python3",
      "display_name": "Python 3"
    },
    "language_info": {
      "name": "python"
    }
  },
  "cells": [
    {
      "cell_type": "markdown",
      "metadata": {
        "id": "view-in-github",
        "colab_type": "text"
      },
      "source": [
        "<a href=\"https://colab.research.google.com/github/makhmudovamunira/DataScience_Mohirdev/blob/main/cut()_qcut().ipynb\" target=\"_parent\"><img src=\"https://colab.research.google.com/assets/colab-badge.svg\" alt=\"Open In Colab\"/></a>"
      ]
    },
    {
      "cell_type": "code",
      "execution_count": null,
      "metadata": {
        "id": "XxdhmGK7Ea4H"
      },
      "outputs": [],
      "source": [
        "import pandas as pd"
      ]
    },
    {
      "cell_type": "code",
      "source": [
        "df = pd.read_csv('https://raw.githubusercontent.com/anvarnarz/praktikum_datasets/main/world_population_duplicates.csv', usecols=['country','pop2021','area'], index_col='country')\n",
        "df.head()"
      ],
      "metadata": {
        "id": "ARJa86IaElQm"
      },
      "execution_count": null,
      "outputs": []
    },
    {
      "cell_type": "code",
      "source": [
        "df.drop_duplicates(inplace=True)"
      ],
      "metadata": {
        "id": "PVYP9ZcXEpMU"
      },
      "execution_count": null,
      "outputs": []
    },
    {
      "cell_type": "code",
      "source": [
        "df.head()"
      ],
      "metadata": {
        "id": "pqvcAI7GEw6b"
      },
      "execution_count": null,
      "outputs": []
    },
    {
      "cell_type": "code",
      "source": [
        "df.sort_index(inplace=True)"
      ],
      "metadata": {
        "id": "HycD6aFVEzGR"
      },
      "execution_count": null,
      "outputs": []
    },
    {
      "cell_type": "code",
      "source": [
        "df.head()"
      ],
      "metadata": {
        "id": "CMktdoKJFB1j"
      },
      "execution_count": null,
      "outputs": []
    },
    {
      "cell_type": "code",
      "source": [
        "df.loc['China']"
      ],
      "metadata": {
        "id": "J2Vt8mVtFC_q"
      },
      "execution_count": null,
      "outputs": []
    },
    {
      "cell_type": "code",
      "source": [
        "df.loc['Uzbekistan']"
      ],
      "metadata": {
        "id": "7xHsDxtGFG0W"
      },
      "execution_count": null,
      "outputs": []
    },
    {
      "cell_type": "markdown",
      "source": [
        "Keling, quyidagi oraliqlarda nechtadan davlat borligini tahlil qilamiz:\n",
        "- 1 milliongacha (`0-1000`)\n",
        "- 1-10mln oraqlida (`1000-10000`)\n",
        "- 10-30mln oraliqda (`10000-30000`)\n",
        "- 30-50mln oraliqda (`30000-50000`)\n",
        "- 50-100mln (`50000-10000`)\n",
        "- 100-300mln (`100000-300000`)\n",
        "- 300mln-1.5mlrd (`300000-1500000`)\n",
        "\n",
        "Buning uchun quydagi bin (nuqtalarni) yaratib olamiz:"
      ],
      "metadata": {
        "id": "IkII2OA1FWhw"
      }
    },
    {
      "cell_type": "code",
      "source": [
        "bins=[0,1000, 10000, 30000, 50000, 100000, 300000, 1500000]"
      ],
      "metadata": {
        "id": "khHGEUU7FM7w"
      },
      "execution_count": null,
      "outputs": []
    },
    {
      "cell_type": "code",
      "source": [
        "population=df.pop2021"
      ],
      "metadata": {
        "id": "1dP8vUVFFpRu"
      },
      "execution_count": null,
      "outputs": []
    },
    {
      "cell_type": "code",
      "source": [
        "oraliq=pd.cut(population, bins)"
      ],
      "metadata": {
        "id": "vel1wZOhFvyu"
      },
      "execution_count": null,
      "outputs": []
    },
    {
      "cell_type": "code",
      "source": [
        "oraliq"
      ],
      "metadata": {
        "id": "cVG4weZdF13Z"
      },
      "execution_count": null,
      "outputs": []
    },
    {
      "cell_type": "code",
      "source": [
        "oraliq.value_counts()"
      ],
      "metadata": {
        "id": "G5AHBY9GF8Fz"
      },
      "execution_count": null,
      "outputs": []
    },
    {
      "cell_type": "code",
      "source": [
        "df['popBins']=oraliq"
      ],
      "metadata": {
        "id": "EbSEroR7GE-2"
      },
      "execution_count": null,
      "outputs": []
    },
    {
      "cell_type": "code",
      "source": [
        "df.head()"
      ],
      "metadata": {
        "id": "Z6_GtUzIGL6y"
      },
      "execution_count": null,
      "outputs": []
    },
    {
      "cell_type": "code",
      "source": [
        "df = pd.read_csv(\"https://github.com/anvarnarz/praktikum_datasets/raw/main/automobile_data.csv\", index_col=0)\n",
        "df.head()"
      ],
      "metadata": {
        "id": "Gdz__KrEGMuM"
      },
      "execution_count": null,
      "outputs": []
    },
    {
      "cell_type": "code",
      "source": [
        "df.price.describe()"
      ],
      "metadata": {
        "id": "_f6SRl-lGg0e"
      },
      "execution_count": null,
      "outputs": []
    },
    {
      "cell_type": "code",
      "source": [
        "bins=[0,10000, 20000, 50000]"
      ],
      "metadata": {
        "id": "vkb2Lg_CGjii"
      },
      "execution_count": null,
      "outputs": []
    },
    {
      "cell_type": "code",
      "source": [
        "range=pd.cut(df.price, bins)"
      ],
      "metadata": {
        "id": "1IfXndlnGx-w"
      },
      "execution_count": null,
      "outputs": []
    },
    {
      "cell_type": "code",
      "source": [
        "range.value_counts()"
      ],
      "metadata": {
        "id": "ZL2AQU3tG3jS"
      },
      "execution_count": null,
      "outputs": []
    },
    {
      "cell_type": "code",
      "source": [
        "groups=['arzon',\"o'rta\", 'qimmat']\n",
        "range=pd.cut(df.price, bins, labels=groups)\n",
        "range.value_counts()"
      ],
      "metadata": {
        "id": "GZmbgqpLHCsS"
      },
      "execution_count": null,
      "outputs": []
    },
    {
      "cell_type": "code",
      "source": [
        "range=pd.cut(df.price,3)\n",
        "range.value_counts()"
      ],
      "metadata": {
        "id": "_GP37bTmO5YO"
      },
      "execution_count": null,
      "outputs": []
    },
    {
      "cell_type": "code",
      "source": [
        "range=pd.cut(df.price, 4)\n",
        "range.value_counts()"
      ],
      "metadata": {
        "id": "5AgRdHRaPOet"
      },
      "execution_count": null,
      "outputs": []
    },
    {
      "cell_type": "code",
      "source": [
        "range=pd.qcut(df.price, 3)\n",
        "range.value_counts()"
      ],
      "metadata": {
        "id": "MTyN67YfPWmd"
      },
      "execution_count": null,
      "outputs": []
    },
    {
      "cell_type": "code",
      "source": [
        "range=pd.qcut(df.horsepower, 3)\n",
        "range.value_counts()"
      ],
      "metadata": {
        "id": "lZ20a5flPjNI"
      },
      "execution_count": null,
      "outputs": []
    },
    {
      "cell_type": "code",
      "source": [],
      "metadata": {
        "id": "Sw4rVciUPrDR"
      },
      "execution_count": null,
      "outputs": []
    }
  ]
}