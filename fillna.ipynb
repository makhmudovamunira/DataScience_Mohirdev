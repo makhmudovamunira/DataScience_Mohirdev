{
  "nbformat": 4,
  "nbformat_minor": 0,
  "metadata": {
    "colab": {
      "private_outputs": true,
      "provenance": [],
      "authorship_tag": "ABX9TyNI5RkTWxl6osleRHCzIpZo",
      "include_colab_link": true
    },
    "kernelspec": {
      "name": "python3",
      "display_name": "Python 3"
    },
    "language_info": {
      "name": "python"
    }
  },
  "cells": [
    {
      "cell_type": "markdown",
      "metadata": {
        "id": "view-in-github",
        "colab_type": "text"
      },
      "source": [
        "<a href=\"https://colab.research.google.com/github/makhmudovamunira/DataScience_Mohirdev/blob/main/fillna.ipynb\" target=\"_parent\"><img src=\"https://colab.research.google.com/assets/colab-badge.svg\" alt=\"Open In Colab\"/></a>"
      ]
    },
    {
      "cell_type": "markdown",
      "source": [
        "![Imgur](https://i.imgur.com/5pXzCIu.png)\n",
        "\n",
        "# Data Science va Sun'iy Intellekt Praktikum\n",
        "\n",
        "## 3-MODUL. MA’LUMOTLARGA ISHLOV BERISH\n",
        "\n",
        "### 3.2 Ma'lumotlarni tozalash va tayyorlash\n",
        "\n",
        "## Ma'lumotlarni to'ldirish"
      ],
      "metadata": {
        "id": "dkQeSvSCOKFR"
      }
    },
    {
      "cell_type": "code",
      "execution_count": null,
      "metadata": {
        "id": "r9zsxxkFOIxe"
      },
      "outputs": [],
      "source": [
        "import pandas as pd\n",
        "import numpy as np"
      ]
    },
    {
      "cell_type": "code",
      "source": [
        "df = pd.read_csv(\"https://github.com/anvarnarz/praktikum_datasets/raw/main/automobile_data_nan.csv\", index_col=0)\n",
        "df.head()"
      ],
      "metadata": {
        "id": "ZrGlCVQHOPtc"
      },
      "execution_count": null,
      "outputs": []
    },
    {
      "cell_type": "code",
      "source": [
        "df.fillna(0)"
      ],
      "metadata": {
        "id": "MUB5eOwGOTy4"
      },
      "execution_count": null,
      "outputs": []
    },
    {
      "cell_type": "code",
      "source": [
        "df.fillna({\"wheel-base\":90, \"horsepower\":100})"
      ],
      "metadata": {
        "id": "nXjptovlOazz"
      },
      "execution_count": null,
      "outputs": []
    },
    {
      "cell_type": "code",
      "source": [
        "df[df['company']=='audi']"
      ],
      "metadata": {
        "id": "Z1daG-uJOrU9"
      },
      "execution_count": null,
      "outputs": []
    },
    {
      "cell_type": "code",
      "source": [
        "df[df['company']=='audi'].fillna(method='ffill')"
      ],
      "metadata": {
        "id": "txYzcRscO6NG"
      },
      "execution_count": null,
      "outputs": []
    },
    {
      "cell_type": "code",
      "source": [
        "df[df['company']==\"toyota\"]"
      ],
      "metadata": {
        "id": "hFLQrfrnPvAU"
      },
      "execution_count": null,
      "outputs": []
    },
    {
      "cell_type": "code",
      "source": [
        "df[df['company']==\"toyota\"].fillna(method='bfill')"
      ],
      "metadata": {
        "id": "nVfhe9x2PfVr"
      },
      "execution_count": null,
      "outputs": []
    },
    {
      "cell_type": "code",
      "source": [
        "dfh=df[df['body-style']=='hatchback']\n",
        "dfh"
      ],
      "metadata": {
        "id": "MjHbor0GPsn9"
      },
      "execution_count": null,
      "outputs": []
    },
    {
      "cell_type": "code",
      "source": [
        "dfh.fillna(dfh.select_dtypes(include=['number']).mean())"
      ],
      "metadata": {
        "id": "7JqCL9nPSF2A"
      },
      "execution_count": null,
      "outputs": []
    },
    {
      "cell_type": "code",
      "source": [
        "df.fillna({\"horsepower\":np.mean(df['horsepower']), \"wheel-base\":np.mean(df['wheel-base'])})"
      ],
      "metadata": {
        "id": "gXjTJdZaSK4c"
      },
      "execution_count": null,
      "outputs": []
    },
    {
      "cell_type": "code",
      "source": [],
      "metadata": {
        "id": "uGeC2Ky9ZAQ6"
      },
      "execution_count": null,
      "outputs": []
    }
  ]
}