{
  "nbformat": 4,
  "nbformat_minor": 0,
  "metadata": {
    "colab": {
      "private_outputs": true,
      "provenance": [],
      "authorship_tag": "ABX9TyMlVvHa31oRNyM+NPe98AnB",
      "include_colab_link": true
    },
    "kernelspec": {
      "name": "python3",
      "display_name": "Python 3"
    },
    "language_info": {
      "name": "python"
    }
  },
  "cells": [
    {
      "cell_type": "markdown",
      "metadata": {
        "id": "view-in-github",
        "colab_type": "text"
      },
      "source": [
        "<a href=\"https://colab.research.google.com/github/makhmudovamunira/DataScience_Mohirdev/blob/main/KMeans.ipynb\" target=\"_parent\"><img src=\"https://colab.research.google.com/assets/colab-badge.svg\" alt=\"Open In Colab\"/></a>"
      ]
    },
    {
      "cell_type": "markdown",
      "source": [
        "![Imgur](https://i.imgur.com/5pXzCIu.png)\n",
        "\n",
        "# Data Science va Sun'iy Intellekt Praktikum\n",
        "\n",
        "## 5-MODUL. Machine Learning.\n",
        "\n",
        "# Clustering\n",
        "\n",
        "Klasterlash unsupervised learningning bir ko'rinishi hisoblanadi.\n",
        "\n",
        "Klasterlash yordamida yorliqlanmagan (label yo'q) ma'lumotlarni klasterlarga ajratamiz.\n",
        "\n",
        "Klasterdagi boshqa obyektlarga o'xshash va boshqa klasterlardagi obyektlarga o'xshamaydigan obyektlar guruhi.\n",
        "\n",
        "**Klasterlash qayerda ishlatiladi?**\n",
        "- SAVDO VA MARKETING\n",
        "    - Mijozalr xarid odatlarini aniqlash\n",
        "    - Tavsiya tizimlari\n",
        "- BANK VA MOLIYA\n",
        "    - Firibgarlikni aniqlash\n",
        "    - Customer churn\n",
        "- SUG’URTA\n",
        "    - Firibgarlikni aniqlash\n",
        "    - Mijozlarning riskini baholash\n",
        "- NASHRIYOT\n",
        "    - Yangiliklarni mavzu bo’yicha saralash\n",
        "    - Tavsiya tizimlari\n",
        "- TIBBIYOT\n",
        "    - Kasallarning odatlarini aniqlash\n",
        "- BIOLOGIYA\n",
        "    - Genetik markerlarni tahlil qilish orqali qarindoshlikni aniqlash\n",
        "    \n",
        "## Amaliyot\n",
        "Ushbu amaliyotda biz tasodifiy nuqtalar yaratamiz va bu nuqtalarni klasterlaymiz. Maqsad: klasterlash algoritmi qanday ishlashini ko'rish:"
      ],
      "metadata": {
        "id": "YEbsfpg6BckZ"
      }
    },
    {
      "cell_type": "code",
      "execution_count": null,
      "metadata": {
        "id": "MIYTWsaABb-O"
      },
      "outputs": [],
      "source": [
        "import pandas as pd\n",
        "import numpy as np\n",
        "import matplotlib.pyplot as plt\n",
        "from sklearn.cluster import KMeans\n",
        "from sklearn.datasets import make_blobs\n",
        "%matplotlib inline"
      ]
    },
    {
      "cell_type": "markdown",
      "source": [
        "Tasodifiy nuqtalar klasterini yaratish uchun `make_blobs` funksiyasidan foydalanamiz. Bu funksiya quyidagi parametrlarni qabul qiladi:\n",
        "- `n_samples` - nuqtalar soni\n",
        "- `centers` - klasterlar markazi (sentroid) koordinatalari\n",
        "-`cluster_std` - markazdan standart og'ish\n",
        "\n",
        "`make_blobs` funksiyasi nuqtalarning `x` va `y` koordinatalarini qaytaradi."
      ],
      "metadata": {
        "id": "VUP6as1cCiWZ"
      }
    },
    {
      "cell_type": "code",
      "source": [
        "np.random.seed(0)\n",
        "centroids=[[3,3],[-3,2],[2,-3],[0,0]]\n",
        "X,y = make_blobs(n_samples=5000, centers=centroids, cluster_std=0.8)"
      ],
      "metadata": {
        "id": "mQOjFOLiB4O-"
      },
      "execution_count": null,
      "outputs": []
    },
    {
      "cell_type": "markdown",
      "source": [
        "Nuqatlarni chizamiz"
      ],
      "metadata": {
        "id": "U5eCi4NMly5c"
      }
    },
    {
      "cell_type": "code",
      "source": [
        "plt.scatter(X[:,0],X[:,1], marker='.')\n",
        "plt.show()"
      ],
      "metadata": {
        "id": "Iuf2ZSq2C7oJ"
      },
      "execution_count": null,
      "outputs": []
    },
    {
      "cell_type": "markdown",
      "source": [
        "Tasodifiy nuqtalar klasterini yaratish uchun `make_blobs` funksiyasidan foydalanamiz. Bu funksiya quyidagi parametrlarni qabul qiladi:\n",
        "- `n_samples` - nuqtalar soni\n",
        "- `centers` - klasterlar markazi (sentroid) koordinatalari\n",
        "-`cluster_std` - markazdan standart og'ish\n",
        "\n",
        "`make_blobs` funksiyasi nuqtalarning `x` va `y` koordinatalarini qaytaradi."
      ],
      "metadata": {
        "id": "kkUd1mCOmOc9"
      }
    },
    {
      "cell_type": "markdown",
      "source": [
        "### k-means algoritmi\n",
        "`KMeans` funksiyasi quyidagi parametrlarni qabul qiladi:\n",
        "- `init` - sentrodilarni tanlash usuli (`k-means++` yoki `random`)\n",
        "- `n_clusters` - klastertlar soni\n",
        "- `n_init` - algoritmni necha marta ishga tushirish (turli sentroidlar bilan qayta-qayta ishga tushirib, modelni qurishni boshlash uchun eng yaxshi sentroidlar tanlanadi)\n",
        "\n",
        "`KMeans` boshqa parametrlari haqida rasmiy sahifasidan ma'lumot olasiz: https://scikit-learn.org/stable/modules/generated/sklearn.cluster.KMeans.html"
      ],
      "metadata": {
        "id": "-9butcjtngRo"
      }
    },
    {
      "cell_type": "code",
      "source": [
        "k_means=KMeans(init='random', n_clusters=4, n_init=15)"
      ],
      "metadata": {
        "id": "aa0NdNDhmDO6"
      },
      "execution_count": null,
      "outputs": []
    },
    {
      "cell_type": "markdown",
      "source": [
        "Modelni tarbiyalaymiz"
      ],
      "metadata": {
        "id": "d7kL1mNjnxgd"
      }
    },
    {
      "cell_type": "code",
      "source": [
        "k_means.fit(X)"
      ],
      "metadata": {
        "id": "gsAO3SvdnQ9G"
      },
      "execution_count": null,
      "outputs": []
    },
    {
      "cell_type": "markdown",
      "source": [
        "Nuqtalar klasterlandi. Klaster raqamini ko'rish uchun `.labels_` parametriga murojaat qilamiz."
      ],
      "metadata": {
        "id": "ANPj9fyXodsi"
      }
    },
    {
      "cell_type": "code",
      "source": [
        "k_means.labels_"
      ],
      "metadata": {
        "id": "XxUnB6_yn1sM"
      },
      "execution_count": null,
      "outputs": []
    },
    {
      "cell_type": "markdown",
      "source": [
        "Klaster markazlarini ko'rich uchun `.cluster_centers_` parametriga murojaat qilamiz."
      ],
      "metadata": {
        "id": "uis72QcLosIT"
      }
    },
    {
      "cell_type": "code",
      "source": [
        "k_means.cluster_centers_"
      ],
      "metadata": {
        "id": "zBaYTOOsocDY"
      },
      "execution_count": null,
      "outputs": []
    },
    {
      "cell_type": "code",
      "source": [
        "print(centroids)"
      ],
      "metadata": {
        "id": "IdlPgytRohKQ"
      },
      "execution_count": null,
      "outputs": []
    },
    {
      "cell_type": "code",
      "source": [
        "print(np.round(k_means.cluster_centers_))"
      ],
      "metadata": {
        "id": "g-xvygY8o4aU"
      },
      "execution_count": null,
      "outputs": []
    },
    {
      "cell_type": "markdown",
      "source": [
        "### Grafik chizamiz"
      ],
      "metadata": {
        "id": "3R9LYG23qPDl"
      }
    },
    {
      "cell_type": "code",
      "source": [
        "fig=plt.figure(figsize=(8,8))\n",
        "#har bir claster uchun alohida rang\n",
        "colors=plt.cm.Spectral(np.linspace(0,1, len(set(k_means.labels_))))\n",
        "ax=fig.add_subplot(1,1,1)\n",
        "\n",
        "for k, col in zip(range(len([[3,3], [-3, -2], [2, -3], [0, 0]])), colors):\n",
        "  # Create a list of all data points, where the data points that are\n",
        "  # in the cluster (ex. cluster 0) are labeled as true, else they are\n",
        "  # labeled as false.\n",
        "  my_members=(k_means.labels_==k)\n",
        "\n",
        "  # Define the centroid, or cluster center.\n",
        "  cluster_center=k_means.cluster_centers_[k]\n",
        "\n",
        "  # Plots the datapoints with color col.\n",
        "  ax.plot(X[my_members, 0], X[my_members, 1], 'w', markerfacecolor=col, marker='.')\n",
        "\n",
        "    # Plots the centroids with specified color, but with a darker outline\n",
        "  ax.plot(cluster_center[0], cluster_center[1], 'o', markerfacecolor=col,  markeredgecolor='k', markersize=6)\n",
        "\n",
        "# Title of the plot\n",
        "ax.set_title('KMeans')\n",
        "\n",
        "# Remove x-axis ticks\n",
        "ax.set_xticks(())\n",
        "\n",
        "# Remove y-axis ticks\n",
        "ax.set_yticks(())\n",
        "\n",
        "# Show the plot\n",
        "plt.show()"
      ],
      "metadata": {
        "id": "NxJ5aLxWqNMU"
      },
      "execution_count": null,
      "outputs": []
    },
    {
      "cell_type": "markdown",
      "source": [
        "## VAZIFA\n",
        "`KMeans` algoritmini turli `k` (klasterlar soni) va boshqa `init` parametri (`k-means++`) bilan ishga tushirib ko'ring."
      ],
      "metadata": {
        "id": "ioC6OXyPxWPw"
      }
    },
    {
      "cell_type": "code",
      "source": [
        "np.random.seed(0)\n",
        "centroid=[[3,3],[-1,2],[3,-2]]\n",
        "X,y=make_blobs(n_samples=4500, centers=centroid, cluster_std=0.7)"
      ],
      "metadata": {
        "id": "m_DuW318u37N"
      },
      "execution_count": null,
      "outputs": []
    },
    {
      "cell_type": "code",
      "source": [
        "plt.scatter(X[:,0],X[:,1], marker='.')\n",
        "plt.show()"
      ],
      "metadata": {
        "id": "jEFDNeqEyPLk"
      },
      "execution_count": null,
      "outputs": []
    },
    {
      "cell_type": "code",
      "source": [
        "k_means=KMeans(n_clusters=3,init='k-means++',n_init=12)\n",
        "k_means.fit(X)"
      ],
      "metadata": {
        "id": "2Z5W_xPIzOa5"
      },
      "execution_count": null,
      "outputs": []
    },
    {
      "cell_type": "code",
      "source": [
        "k_means.labels_"
      ],
      "metadata": {
        "id": "zAmD1pUUzoPp"
      },
      "execution_count": null,
      "outputs": []
    },
    {
      "cell_type": "code",
      "source": [
        "np.round(k_means.cluster_centers_)"
      ],
      "metadata": {
        "id": "PHguHXYXz0mO"
      },
      "execution_count": null,
      "outputs": []
    },
    {
      "cell_type": "code",
      "source": [
        "print(centroid)"
      ],
      "metadata": {
        "id": "HXOcxE02z3_P"
      },
      "execution_count": null,
      "outputs": []
    },
    {
      "cell_type": "code",
      "source": [
        "fig = plt.figure(figsize=(8, 8))\n",
        "# Har bir klaster uchun alohida rang\n",
        "colors = plt.cm.Spectral(np.linspace(0, 1, len(set(k_means.labels_))))\n",
        "ax = fig.add_subplot(1, 1, 1)\n",
        "\n",
        "for k, col in zip(range(len([[3,3], [-3, -2], [2, -3], [0, 0]])), colors):\n",
        "\n",
        "    # Create a list of all data points, where the data points that are\n",
        "    # in the cluster (ex. cluster 0) are labeled as true, else they are\n",
        "    # labeled as false.\n",
        "    my_members = (k_means.labels_ == k)\n",
        "\n",
        "    # Define the centroid, or cluster center.\n",
        "    cluster_center = k_means.cluster_centers_[k]\n",
        "\n",
        "    # Plots the datapoints with color col.\n",
        "    ax.plot(X[my_members, 0], X[my_members, 1], 'w', markerfacecolor=col, marker='.')\n",
        "\n",
        "    # Plots the centroids with specified color, but with a darker outline\n",
        "    ax.plot(cluster_center[0], cluster_center[1], 'o', markerfacecolor=col,  markeredgecolor='k', markersize=6)\n",
        "\n",
        "# Title of the plot\n",
        "ax.set_title('KMeans')\n",
        "\n",
        "# Remove x-axis ticks\n",
        "ax.set_xticks(())\n",
        "\n",
        "# Remove y-axis ticks\n",
        "ax.set_yticks(())\n",
        "\n",
        "# Show the plot\n",
        "plt.show()"
      ],
      "metadata": {
        "id": "1fr4elljz_wB"
      },
      "execution_count": null,
      "outputs": []
    }
  ]
}