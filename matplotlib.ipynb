{
  "nbformat": 4,
  "nbformat_minor": 0,
  "metadata": {
    "colab": {
      "private_outputs": true,
      "provenance": [],
      "authorship_tag": "ABX9TyPzkqEkvp1hLH06Kmzn2GKz",
      "include_colab_link": true
    },
    "kernelspec": {
      "name": "python3",
      "display_name": "Python 3"
    },
    "language_info": {
      "name": "python"
    }
  },
  "cells": [
    {
      "cell_type": "markdown",
      "metadata": {
        "id": "view-in-github",
        "colab_type": "text"
      },
      "source": [
        "<a href=\"https://colab.research.google.com/github/makhmudovamunira/DataScience_Mohirdev/blob/main/matplotlib.ipynb\" target=\"_parent\"><img src=\"https://colab.research.google.com/assets/colab-badge.svg\" alt=\"Open In Colab\"/></a>"
      ]
    },
    {
      "cell_type": "code",
      "execution_count": null,
      "metadata": {
        "id": "HyLHRrh1mTSQ"
      },
      "outputs": [],
      "source": [
        "import pandas as pd\n",
        "import numpy as np"
      ]
    },
    {
      "cell_type": "code",
      "source": [
        "import matplotlib.pyplot as plt\n",
        "%matplotlib inline"
      ],
      "metadata": {
        "id": "3pLsDhqEmZeB"
      },
      "execution_count": null,
      "outputs": []
    },
    {
      "cell_type": "code",
      "source": [
        "sonlar=np.arange(10)\n",
        "print(sonlar)"
      ],
      "metadata": {
        "id": "Pd247Wg9mh0l"
      },
      "execution_count": null,
      "outputs": []
    },
    {
      "cell_type": "code",
      "source": [
        "plt.plot(sonlar)\n",
        "plt.show()"
      ],
      "metadata": {
        "id": "x7vUTwf9m7uw"
      },
      "execution_count": null,
      "outputs": []
    },
    {
      "cell_type": "code",
      "source": [
        "x=np.arange(0, 4*np.pi, 0.1)\n",
        "y=np.sin(x)"
      ],
      "metadata": {
        "id": "Z6bDXPCQnCQe"
      },
      "execution_count": null,
      "outputs": []
    },
    {
      "cell_type": "code",
      "source": [
        "plt.plot(x,y)\n",
        "plt.show()"
      ],
      "metadata": {
        "id": "GM8wMbkMnYu1"
      },
      "execution_count": null,
      "outputs": []
    },
    {
      "cell_type": "markdown",
      "source": [
        "Grafiklarning turli parametrlarini o'zgartirish yordamida uning tashqi ko'rinishini ham o'zgartirish mumkin:\n",
        "- `linewidth` - chiziq qalinligi (0.5 dan 3 gacha)\n",
        "- `linestyle` - chiziq stili\n",
        "  - `-` - oddiy chiziq\n",
        "  - `--` - yuliq chiziq\n",
        "  - `-.` - chiziq va nuqta\n",
        "  - `:` - nuqtali chiziq\n",
        "  - `None` yoki `''` - chiziq yo'q\n",
        "- `color` - chiziq rangi\n",
        "  - `'b'` - ko'k (blue)\n",
        "  - `'c'` - havorang (cyan)\n",
        "  - `'g'` - yashil (green)\n",
        "  - `'k'` - qora (black)\n",
        "  - `'m'` - pushti (magenta)\n",
        "  - `'r'` - qizil (red)\n",
        "  - `'y'` - sariq (yellow)\n",
        "  - Bundan tashqari ranglar HEX (`'#FF5733'`) yoki RGBA `(255,182,193,0.5)`  formatlarida ham berilishi mumkin*.\n",
        "- `alpha` - chiziq shaffofligi (`0` shaffof, `0.5` yarim-shaffof, `1` shaffof emas)\n",
        "- `marker` - marker\n",
        "  - `'.'` - nuqta\n",
        "  - `'o'` - aylana\n",
        "  - `'v'` - pastga qaragan uchburchak\n",
        "  - `'^'` - tepaga qaragan uchburchak\n",
        "  - `'*'` - yulduz\n",
        "  - To'liq ro'yxat: https://matplotlib.org/3.1.0/gallery/lines_bars_and_markers/marker_reference.html\n",
        "\n",
        "**`*`**Turli ranglar uchun HEX va RGBA qiymatlarni https://htmlcolorcodes.com/ sahifasidan olishingiz mumkin.\n",
        "![](https://i.imgur.com/SG3TVun.png)"
      ],
      "metadata": {
        "id": "Kv4FkkTzoFI6"
      }
    },
    {
      "cell_type": "code",
      "source": [
        "plt.plot(x, y, linewidth=2, linestyle='--', alpha=0.8)\n",
        "plt.grid(linestyle=':')\n",
        "plt.title('sin(x) funksiya grafigi')\n",
        "plt.xlabel('pi')\n",
        "plt.ylabel('sin(x)')\n",
        "plt.show()"
      ],
      "metadata": {
        "id": "lMQ9ouRFnigS"
      },
      "execution_count": null,
      "outputs": []
    },
    {
      "cell_type": "markdown",
      "source": [
        "#grafik hajmini o'zgartirish"
      ],
      "metadata": {
        "id": "9jbxiINEsSYJ"
      }
    },
    {
      "cell_type": "code",
      "source": [
        "plt.figure(figsize=(8,4))\n",
        "plt.plot(x, y, linewidth=2, linestyle='--', alpha=0.8)\n",
        "plt.grid(linestyle=':')\n",
        "plt.title('sin(x) funksiya grafigi')\n",
        "plt.xlabel('pi')\n",
        "plt.ylabel('sin(x)')\n",
        "plt.show()"
      ],
      "metadata": {
        "id": "xSSRcjWxoUye"
      },
      "execution_count": null,
      "outputs": []
    },
    {
      "cell_type": "code",
      "source": [
        "x=np.arange(0, 4*np.pi, 0.1)\n",
        "sin=np.sin(x)\n",
        "cos=np.cos(x)\n",
        "\n",
        "plt.plot(x, sin,\n",
        "         linewidth=1, linestyle='-.', alpha=0.7, marker='h', color='red')\n",
        "\n",
        "plt.plot(x, cos,\n",
        "         linewidth=1.7, linestyle=':', alpha=0.9, marker='^', color='green')\n",
        "\n",
        "plt.xlabel('pi')\n",
        "plt.ylabel('sin(x) va cos(x)')\n",
        "plt.title('sin(x) va cos(x) funksiyalar grafiklari')\n",
        "plt.legend(['sin(x)', 'cos(x)'], loc=0)\n",
        "plt.grid(color='tomato', alpha=0.6, linestyle='--')\n",
        "plt.show()"
      ],
      "metadata": {
        "id": "1A5JRSPdscEy"
      },
      "execution_count": null,
      "outputs": []
    },
    {
      "cell_type": "markdown",
      "source": [
        "grafikni saqlash uchun `plt.savefig()` funksiyasidan foydalanishingiz mumkin:"
      ],
      "metadata": {
        "id": "2rV1sx-cu0Zl"
      }
    },
    {
      "cell_type": "code",
      "source": [
        "x=np.arange(0, 4*np.pi, 0.1)\n",
        "sin=np.sin(x)\n",
        "cos=np.cos(x)\n",
        "\n",
        "plt.plot(x, sin,\n",
        "         linewidth=1, linestyle='-.', alpha=0.7, marker='h', color='red')\n",
        "\n",
        "plt.plot(x, cos,\n",
        "         linewidth=1.7, linestyle=':', alpha=0.9, marker='^', color='green')\n",
        "\n",
        "plt.xlabel('pi')\n",
        "plt.ylabel('sin(x) va cos(x)')\n",
        "plt.title('sin(x) va cos(x) funksiyalar grafiklari')\n",
        "plt.legend(['sin(x)', 'cos(x)'], loc=0)\n",
        "plt.grid(color='tomato', alpha=0.6, linestyle='--')\n",
        "plt.savefig('sin-cos grafik.png')\n",
        "plt.show()"
      ],
      "metadata": {
        "id": "QGtg3Zmmt8jw"
      },
      "execution_count": null,
      "outputs": []
    },
    {
      "cell_type": "markdown",
      "source": [
        "rasmni ochib ko'ramiz"
      ],
      "metadata": {
        "id": "F33Jhft4vaTu"
      }
    },
    {
      "cell_type": "code",
      "source": [
        "from IPython.display import Image\n",
        "Image('/content/sin-cos grafik.png')"
      ],
      "metadata": {
        "id": "sI-CyehRvF3l"
      },
      "execution_count": null,
      "outputs": []
    }
  ]
}