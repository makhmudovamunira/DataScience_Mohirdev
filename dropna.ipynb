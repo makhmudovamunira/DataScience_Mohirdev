{
  "nbformat": 4,
  "nbformat_minor": 0,
  "metadata": {
    "colab": {
      "private_outputs": true,
      "provenance": [],
      "authorship_tag": "ABX9TyNDS6E5uICqy4OO/prQ5KvL",
      "include_colab_link": true
    },
    "kernelspec": {
      "name": "python3",
      "display_name": "Python 3"
    },
    "language_info": {
      "name": "python"
    }
  },
  "cells": [
    {
      "cell_type": "markdown",
      "metadata": {
        "id": "view-in-github",
        "colab_type": "text"
      },
      "source": [
        "<a href=\"https://colab.research.google.com/github/makhmudovamunira/DataScience_Mohirdev/blob/main/dropna.ipynb\" target=\"_parent\"><img src=\"https://colab.research.google.com/assets/colab-badge.svg\" alt=\"Open In Colab\"/></a>"
      ]
    },
    {
      "cell_type": "code",
      "execution_count": null,
      "metadata": {
        "id": "xcMQKoyyd-1_"
      },
      "outputs": [],
      "source": [
        "import pandas as pd"
      ]
    },
    {
      "cell_type": "code",
      "source": [
        "df = pd.read_csv(\"https://github.com/anvarnarz/praktikum_datasets/raw/main/automobile_data_nan.csv\", index_col=0)\n",
        "df.head()"
      ],
      "metadata": {
        "id": "lfus6RRkeUVR"
      },
      "execution_count": null,
      "outputs": []
    },
    {
      "cell_type": "markdown",
      "source": [
        "**Mavjud bo'lmagan qiymatlarga ishlov berishning yagona, universal formulasi yo'q.**\n",
        "\n",
        "Bunday holatda sizning birinchi savolingiz \"Nima uchun mu qiymat mavjud emas? Ma'lumot yozib olinmaganmi yoki umuman mavjud emasmi?\" bo'lishi kerak. Misol uchun, siz so'rovnoma yordamida odamlar haqida ma'lumotlar jamlayapsiz, so'rovnomangizda \"nikohdan o'tgan yilingiz\" degan bo'lim bor. Tabiiyki, turmush qurmaghanlar uchun bu qiymat mabjud bo'lmaydi va bu xato emas. Aksincha, \"tug'ilgan yilingiz\" qiymati mavjud bo'lmasligi esa, ma'lumot mavjud lekin yozib olinmaganini anglatadi.\n",
        "\n",
        "Data Science muhandisi sifatida siz mavjud bo'lmagan ma'lumotlarni topishga, buning imkoni bo'lmasa ularni approksimasiya qilishga (tahminiy qiymat topishga) harakat qilishingiz, buni ham iloji bo'lmasa bunday ustun (yoki qatorlardan) voz kechishni hal qilishingiz kerak bo'ladi.\n",
        "\n",
        "Avvalo, keling, DF da mavjud bo'lmagan (`NaN`) qiymatlar sonini topaylik."
      ],
      "metadata": {
        "id": "XPzJoIrBehlF"
      }
    },
    {
      "cell_type": "code",
      "source": [
        "df.isnull()"
      ],
      "metadata": {
        "id": "gx0Jm2eQeW4K"
      },
      "execution_count": null,
      "outputs": []
    },
    {
      "cell_type": "code",
      "source": [
        "df.notnull()"
      ],
      "metadata": {
        "id": "3B7TzPByejz7"
      },
      "execution_count": null,
      "outputs": []
    },
    {
      "cell_type": "code",
      "source": [
        "df.isnull().sum()"
      ],
      "metadata": {
        "id": "t9DUuoEEeoSV"
      },
      "execution_count": null,
      "outputs": []
    },
    {
      "cell_type": "markdown",
      "source": [
        "Ko'rib turganingizdek, `horsepower` ustunida 16 ta, `wheel-base` va `average-milega` ustunlarida 15 tadan va hokazo qiymatlar mavjud emas.\n",
        "\n",
        "Keling bu ko'rsatkichlarni jami ma'lumotlarning foizi sifatida chiqaramiz."
      ],
      "metadata": {
        "id": "hSlqUo5qe3vD"
      }
    },
    {
      "cell_type": "code",
      "source": [
        "nulls=df.isnull().sum()\n",
        "rows=df.shape[0]\n",
        "(nulls/rows)*100"
      ],
      "metadata": {
        "id": "CgYNy4zGesDk"
      },
      "execution_count": null,
      "outputs": []
    },
    {
      "cell_type": "markdown",
      "source": [
        "Yuoqirdan ba'zi ustunlardagi `NaN` qiymatlar soni 25% dan ham ko'p ekanini ko'rishimiz mumkin. Bu, albatta, yaxshi emas.\n",
        "\n",
        "`pandas` da `NaN` qiymatlar bilan ishlash uchun bir nechta metodlar bor:\n",
        "- `dropna` - `NaN` qiymatlar bor ustun yoki qatorlarni o'chirib tashlash\n",
        "- `fillna` - `NaN` qiymmatlarni boshqa qiymatlar yordamida to'ldirib ketish (misol uchun avvalgi yoki keyingi qator qiymatlari)\n",
        "- `isnull` - `NaN` qiymatlarni filtrlash (`NaN` qiymat `True` qaytaradi)\n",
        "- `notnull` - `isnull` ning aksi"
      ],
      "metadata": {
        "id": "h5lmU3-6fQ4h"
      }
    },
    {
      "cell_type": "markdown",
      "source": [
        "### `.dropna()` `NaN` qiymatlarni tashlab yuborish\n",
        "Ushbu metod yordamida `NaN` qiymatlar bor ustun yoki qatorlarni butunlay tashlab yuborish mumkin.\n",
        "\n",
        "Qatorlardan voz kechish uchun `.dropna()` funksiyasini parametrsiz chaqirish kifoya:"
      ],
      "metadata": {
        "id": "qQr87zftfWwq"
      }
    },
    {
      "cell_type": "code",
      "source": [
        "df2=df.dropna()\n",
        "df2"
      ],
      "metadata": {
        "id": "KI86FeyWfCYK"
      },
      "execution_count": null,
      "outputs": []
    },
    {
      "cell_type": "code",
      "source": [
        "df2.shape"
      ],
      "metadata": {
        "id": "Rw93FNaUfaUd"
      },
      "execution_count": null,
      "outputs": []
    },
    {
      "cell_type": "code",
      "source": [
        "df.shape"
      ],
      "metadata": {
        "id": "1YMMQDMbfeI1"
      },
      "execution_count": null,
      "outputs": []
    },
    {
      "cell_type": "code",
      "source": [
        "df.dropna(axis=1)"
      ],
      "metadata": {
        "id": "7vv8dmVwfjD1"
      },
      "execution_count": null,
      "outputs": []
    },
    {
      "cell_type": "markdown",
      "source": [
        "Yuqoridagi natijadan ko'rishimiz mumkinki, `NaN` bor barcha ustunlar tushib qoldi va DF deyarli yaroqsiz holatga keldi.\n",
        "\n",
        "`thresh` parametri yordamida biz `NaN` bo'lmagan qiymatlarining soniga chegara belgilashimiz mumkin. Misol uchun, quyidagi kodimiz `NaN` bo'lmagan qiymatlar 48 dan kam bo'lgan ustunlarni tashlab yuboradi."
      ],
      "metadata": {
        "id": "0JnZDsaMf2CH"
      }
    },
    {
      "cell_type": "code",
      "source": [
        "df.dropna(axis=1, thresh=48)"
      ],
      "metadata": {
        "id": "gt2tuz_ifoJ2"
      },
      "execution_count": null,
      "outputs": []
    },
    {
      "cell_type": "code",
      "source": [
        "df.dropna(subset=['length', 'body-style'])"
      ],
      "metadata": {
        "id": "MWStIrkSgAQq"
      },
      "execution_count": null,
      "outputs": []
    },
    {
      "cell_type": "code",
      "source": [
        "df.dropna(subset=['price'], inplace=True)"
      ],
      "metadata": {
        "id": "HTfUA38fgwC8"
      },
      "execution_count": null,
      "outputs": []
    },
    {
      "cell_type": "code",
      "source": [
        "df.shape"
      ],
      "metadata": {
        "id": "LC_JD51MhGxd"
      },
      "execution_count": null,
      "outputs": []
    },
    {
      "cell_type": "code",
      "source": [
        "df.head()"
      ],
      "metadata": {
        "id": "KMuWunNVhSyI"
      },
      "execution_count": null,
      "outputs": []
    },
    {
      "cell_type": "code",
      "source": [],
      "metadata": {
        "id": "eBNd6YuMhUwK"
      },
      "execution_count": null,
      "outputs": []
    }
  ]
}