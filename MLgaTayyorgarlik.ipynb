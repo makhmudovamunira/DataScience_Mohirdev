{
  "nbformat": 4,
  "nbformat_minor": 0,
  "metadata": {
    "colab": {
      "private_outputs": true,
      "provenance": [],
      "authorship_tag": "ABX9TyPMa/RB0Y9cTg6J+jnJRJpj",
      "include_colab_link": true
    },
    "kernelspec": {
      "name": "python3",
      "display_name": "Python 3"
    },
    "language_info": {
      "name": "python"
    }
  },
  "cells": [
    {
      "cell_type": "markdown",
      "metadata": {
        "id": "view-in-github",
        "colab_type": "text"
      },
      "source": [
        "<a href=\"https://colab.research.google.com/github/makhmudovamunira/DataScience_Mohirdev/blob/main/MLgaTayyorgarlik.ipynb\" target=\"_parent\"><img src=\"https://colab.research.google.com/assets/colab-badge.svg\" alt=\"Open In Colab\"/></a>"
      ]
    },
    {
      "cell_type": "markdown",
      "source": [
        "## 3-QADAM. Ma'lumotlarni Machine Learning uchun tayyorlash\n",
        "Keyingi katta qadam ma'lumotlarni ML uchun tayyorlash. Avvalgi qadamlarda biz ma'lumotlarga to'g'ridan-to'g'ri ishlov berib, ularni tahlil qildik. O'zimiz uchun ba'zi kerakli xulosalarni oldik. Qaysidur ustunlardagi qiymatlarni o'zgartirtish, yangi ustunlar yaratish kabi ishlarni rejalashtirib oldik. Umuman olganda, ma'lumotlarg bo'lgan talabni shakllantridik. Navbat shu talablar asosida ma'lumotlarni tayyorlash.\n",
        "\n",
        "Buning uchun endi biz ma'lumotlar bilan to'g'ridan-to'g'ri emas, funksiyalar orqali ishlaymiz. Ya'ni, avvalgi qismda bajargan barcha jarayonlarnbi funksiyalar yordamida avtomatlashtiramiz.\n",
        "Bunday qilishimizdan maqsad esa, kelajakda yangi ma'lumotlarga ishlov berishda tayyor funksiyani ishga tushirish orqali ma'lumotlarni bittada bizga kerak ko'rinishga keltirib olamiz."
      ],
      "metadata": {
        "id": "U4QCtgCSg-45"
      }
    },
    {
      "cell_type": "code",
      "execution_count": null,
      "metadata": {
        "id": "VjK_RTkIgsk8"
      },
      "outputs": [],
      "source": [
        "import pandas as pd\n",
        "import numpy as np\n",
        "import sklearn"
      ]
    },
    {
      "cell_type": "code",
      "source": [
        "URL = \"https://github.com/ageron/handson-ml2/blob/master/datasets/housing/housing.csv?raw=true\"\n",
        "df = pd.read_csv(URL)\n",
        "df.head()"
      ],
      "metadata": {
        "id": "tSaJ4sc2hHv5"
      },
      "execution_count": null,
      "outputs": []
    },
    {
      "cell_type": "markdown",
      "source": [
        "Ma'lumotlarni train va test setga ajratamiz.\n",
        "1. Oddiy (muvozanatsiz) train/test set"
      ],
      "metadata": {
        "id": "iJvTYOxchqGK"
      }
    },
    {
      "cell_type": "code",
      "source": [
        "from sklearn.model_selection import train_test_split\n",
        "train_set, test_set = train_test_split(df, test_size=0.2, random_state=42)"
      ],
      "metadata": {
        "id": "lwBq86eahMz6"
      },
      "execution_count": null,
      "outputs": []
    },
    {
      "cell_type": "markdown",
      "source": [
        "2. Muvozanatli (Stratified) train/test set"
      ],
      "metadata": {
        "id": "4TZlqXkohq4N"
      }
    },
    {
      "cell_type": "code",
      "source": [
        "df['income_cat']=pd.cut(df['median_income'], bins=[0., 1.5, 3., 4.5, 6., np.inf], labels=[1,2,3,4,5])\n",
        "\n",
        "from sklearn.model_selection import StratifiedShuffleSplit\n",
        "stratified_split=StratifiedShuffleSplit(n_splits=1, test_size=0.2, random_state=42)\n",
        "\n",
        "for train_index, test_index in stratified_split.split(df, df['income_cat']):\n",
        "  strat_train_set=df.loc[train_index]\n",
        "  strat_test_set=df.loc[test_index]\n",
        "\n",
        "\n",
        "strat_train_set.drop('income_cat', axis=1, inplace=True)\n",
        "strat_test_set.drop('income_cat', axis=1, inplace=True)"
      ],
      "metadata": {
        "id": "5Fu1KQs1hlGQ"
      },
      "execution_count": null,
      "outputs": []
    },
    {
      "cell_type": "markdown",
      "source": [
        "3. Ishlash uchun muvozanatli setlarni tanlaymiz.\n",
        "\n",
        "Bu safar `label` (basorat qilishimiz kerak bo'lgan) ustun `median_house_value` ni ham alohida ajratamiz.\n",
        "Bunga sabab, qolgan ustunlarga qo'llangan o'zgarishlarni labelga ham qo'llamaslik."
      ],
      "metadata": {
        "id": "7gz0E-D9k-qX"
      }
    },
    {
      "cell_type": "code",
      "source": [
        "housing=strat_train_set.drop('median_house_value', axis=1)\n",
        "housing_labels=strat_train_set['median_house_value'].copy()"
      ],
      "metadata": {
        "id": "NQ6b2JmajraY"
      },
      "execution_count": null,
      "outputs": []
    },
    {
      "cell_type": "markdown",
      "source": [
        "![Imgur](https://i.imgur.com/lO0yL15.png)"
      ],
      "metadata": {
        "id": "1nWRmj12mqyV"
      }
    },
    {
      "cell_type": "markdown",
      "source": [
        "### 3.1 Tozalash"
      ],
      "metadata": {
        "id": "4XcNZeFymus_"
      }
    },
    {
      "cell_type": "code",
      "source": [
        "df.info()"
      ],
      "metadata": {
        "id": "6VfyB2B2maSA"
      },
      "execution_count": null,
      "outputs": []
    },
    {
      "cell_type": "markdown",
      "source": [
        "Esingizda bo'lsa, `df.info()` yordamida `total_bedrooms ` ustunida ba'zi qatorlarda qiymatlar yo'q (`NaN`) ekanini aniqlagan edik.\n",
        "\n",
        "Ushbu qatorlar bizga halaqit bermasligi uchun oldimizda 3 ta yo'l bor:\n",
        "1. Qatorlarni (hududlarni) o'chirib tashlash\n",
        "2. Bu ustunni umuman tashlab yuborish\n",
        "3. `NaN` qiymatlarni to'ldirish (`0`, o'rtacha yoki median qiymat bilan)\n",
        "\n",
        "Bulardan qay birini tanlash, loyihadan loyihaga qarab o'zgaradi. Agar birinchi ikki usulni tansalangiz, buning yo'li oson:"
      ],
      "metadata": {
        "id": "WhvVnU6DnGsi"
      }
    },
    {
      "cell_type": "code",
      "source": [
        "# 1-variant. Qatorlarni tashlab yuborish\n",
        "housing.dropna(subset='total_bedrooms')# inplace=True qilishni unutmang"
      ],
      "metadata": {
        "id": "otyg9tw9mxuQ"
      },
      "execution_count": null,
      "outputs": []
    },
    {
      "cell_type": "code",
      "source": [
        "# 2-variant. Ustunni tashlab yuborish\n",
        "housing.drop('total_bedrooms',axis=1) # inplace=True"
      ],
      "metadata": {
        "id": "B9AZvoa5nvse"
      },
      "execution_count": null,
      "outputs": []
    },
    {
      "cell_type": "code",
      "source": [
        "# 3-variant. Median qiymat bilan to'ldirish\n",
        "median=housing['total_bedrooms'].median()\n",
        "housing['total_bedrooms'].fillna(median)"
      ],
      "metadata": {
        "id": "4lkU7hHrn88M"
      },
      "execution_count": null,
      "outputs": []
    },
    {
      "cell_type": "markdown",
      "source": [
        "Biz 3-variantni tanlaymiz va buni biroz takomillashtiramiz.\n",
        "\n",
        "Gap shundaki, bu safar bizga kelgan datasetda `total_bedrooms` ustunida `NaN` qiymatlar bor edi, lekin kelgusida yangi ma'lumotlar kelganda, boshqa, deylik `population` ustunida `NaN` qiymatlar bo'lishi mumkin. Biz yuqorida ma'lumotlarga ishlov berishni avtomatlashtirish haqida gapirdik, demak bizning funksiyamiz, har qanday ustundagi `NaN` qiymatlarni to'ldirib ketishi kerak.\n",
        "\n",
        "Buning uchun `sklearn` tarkibida maxsus `SimpleImputer` funksiyasi mavjud."
      ],
      "metadata": {
        "id": "O2IvheZlof0a"
      }
    },
    {
      "cell_type": "code",
      "source": [
        "# SimpleImputer klassini chaqiramiz\n",
        "from sklearn.impute import SimpleImputer\n",
        "\n",
        "# SimpleImputer dan yangi obyekt yaratamiz va va NaN qiymatlarni median qiymatlarni median qiymatlar bilan to'ldirishini ko'rsatamiz\n",
        "\n",
        "imputer=SimpleImputer(strategy='median')"
      ],
      "metadata": {
        "id": "Xv_hon-QoT_O"
      },
      "execution_count": null,
      "outputs": []
    },
    {
      "cell_type": "markdown",
      "source": [
        "Dataset uchun median qiymatni hisoblash uchun `imputer` obyekti ichidagi `.fit()` metodiga murojaat qilamiz.\n",
        "Dataset ustunlariga e'tibor bersak, oxirgi `ocean_proximity` ustuni sonli emas. `imputer` esa faqatgina sonli qiymatlar bilan ishlaydi (sonsiz qiymatlarnini o'rta qiymati mavjud emas)."
      ],
      "metadata": {
        "id": "ft_lheWApjkL"
      }
    },
    {
      "cell_type": "code",
      "source": [
        "imputer.fit(housing)"
      ],
      "metadata": {
        "id": "VtIB_-WMotBP"
      },
      "execution_count": null,
      "outputs": []
    },
    {
      "cell_type": "markdown",
      "source": [
        "Yuqoridagi xatoning oldini olish uchun, sonli ustunlarni alohida ajratib olamiz:"
      ],
      "metadata": {
        "id": "VwAipt-np2yO"
      }
    },
    {
      "cell_type": "code",
      "source": [
        "housing_num = housing.drop(\"ocean_proximity\", axis=1)\n",
        "imputer.fit(housing_num)"
      ],
      "metadata": {
        "id": "GS-K68hLpmHq"
      },
      "execution_count": null,
      "outputs": []
    },
    {
      "cell_type": "code",
      "source": [
        "imputer.fit(housing_num)"
      ],
      "metadata": {
        "id": "iq30qOVkpuX-"
      },
      "execution_count": null,
      "outputs": []
    },
    {
      "cell_type": "markdown",
      "source": [
        "Hisoblangan median qiymatlar `statistics_` atrributida saqlanadi:"
      ],
      "metadata": {
        "id": "9WjQt7ZSsm04"
      }
    },
    {
      "cell_type": "code",
      "source": [
        "imputer.statistics_"
      ],
      "metadata": {
        "id": "KtX1LSfor9LG"
      },
      "execution_count": null,
      "outputs": []
    },
    {
      "cell_type": "code",
      "source": [
        "X=imputer.transform(housing_num)\n",
        "X"
      ],
      "metadata": {
        "id": "DarLtotbsLt1"
      },
      "execution_count": null,
      "outputs": []
    },
    {
      "cell_type": "code",
      "source": [
        "type(X)"
      ],
      "metadata": {
        "id": "-ufO3Rdns2II"
      },
      "execution_count": null,
      "outputs": []
    },
    {
      "cell_type": "markdown",
      "source": [
        " `.transform()` funksiyasi numpy array qaytaradi. Arrayni qaytarib dataframega o'tkazamiz:"
      ],
      "metadata": {
        "id": "cZvvgRBYtHAZ"
      }
    },
    {
      "cell_type": "code",
      "source": [
        "housing_tr=pd.DataFrame(X, columns=housing_num.columns, index=housing_num.index)\n",
        "housing_tr.head()"
      ],
      "metadata": {
        "id": "yfItsl41tI4e"
      },
      "execution_count": null,
      "outputs": []
    },
    {
      "cell_type": "markdown",
      "source": [
        "### 3.2 Matnli ustunlarni shakl almashtirish\n",
        "Datasetimizning `ocean_proximity` ustuni matnli ustun. Keling boshlanishga bu ustunni ajratib olamiz."
      ],
      "metadata": {
        "id": "nSyymUL8ty7p"
      }
    },
    {
      "cell_type": "code",
      "source": [
        "housing_cat=housing[['ocean_proximity']]"
      ],
      "metadata": {
        "id": "PDjiZrfPtI1A"
      },
      "execution_count": null,
      "outputs": []
    },
    {
      "cell_type": "code",
      "source": [
        "housing_cat['ocean_proximity'].head(10)"
      ],
      "metadata": {
        "id": "IeXUudn2tIxb"
      },
      "execution_count": null,
      "outputs": []
    },
    {
      "cell_type": "markdown",
      "source": [
        " ML algoritmlar sonlar bilan ishlaydi. Shuning uchun bu ustunni ham sonlarga o'zgartirishimiz kerak."
      ],
      "metadata": {
        "id": "pzkw240WyDYf"
      }
    },
    {
      "cell_type": "markdown",
      "source": [
        "Buning 2 usuli bor:\n",
        "1. Har bir matnni son bilan almashtirish.\n",
        "\n",
        "Buning uchun sklearn tarkibida `OrdinalEncoder`dan foydalanamiz:"
      ],
      "metadata": {
        "id": "6xnDDJ6qyDVJ"
      }
    },
    {
      "cell_type": "code",
      "source": [
        "from sklearn.preprocessing import OrdinalEncoder\n",
        "ordinal_encoder=OrdinalEncoder()\n",
        "housing_cat_encoder=ordinal_encoder.fit_transform(housing_cat)\n",
        "housing_cat_encoder[:10]"
      ],
      "metadata": {
        "id": "eGC1QlFEt8f_"
      },
      "execution_count": null,
      "outputs": []
    },
    {
      "cell_type": "code",
      "source": [
        "ordinal_encoder.categories_"
      ],
      "metadata": {
        "id": "6h0p1Y69ywKp"
      },
      "execution_count": null,
      "outputs": []
    },
    {
      "cell_type": "markdown",
      "source": [
        "Bizda, ahamiyat bersangiz qo'shni qiymatlar (matnlar) bir-biriga yaqin emas. `<1H OCEAN` va `INLAND` ga `0.0` va `1.0` qiymatlari berilgan, vaholanki, mantiqan o'ylansa bu ikkisi bir-biridan uzoq. `NEAR BAY`, `NEAR OCEAN` qiymatlari esa aksincha, `<1H OCEAN`dan uzoqlashib ketgan."
      ],
      "metadata": {
        "id": "ebEMmRZp2uTq"
      }
    },
    {
      "cell_type": "markdown",
      "source": [
        "2. `OneHotEncoder` - usuli yordamida har bir noyob qiymat alohida ustunga aylanadi va mos keluvchi ustunga 1, qolganlariga 0 qo'yiladi. Tushunarli bo'lishi uchun keyingi kodga ahamiyat bering."
      ],
      "metadata": {
        "id": "KZGGyZSd2t9w"
      }
    },
    {
      "cell_type": "code",
      "source": [
        "from sklearn.preprocessing import OneHotEncoder\n",
        "cat_encoder = OneHotEncoder()\n",
        "housing_cat_1hot=cat_encoder.fit_transform(housing_cat)\n",
        "housing_cat_1hot.toarray()"
      ],
      "metadata": {
        "id": "LYc0BEPB2NG5"
      },
      "execution_count": null,
      "outputs": []
    },
    {
      "cell_type": "markdown",
      "source": [
        "Yuqorida nima bo'ldi, bizda 5 ta kategoriya bor edi ('<1H OCEAN', 'INLAND', 'ISLAND', 'NEAR BAY', 'NEAR OCEAN').\n",
        "\n",
        "OneHotEncoder 5 ta ustundan iborat yangi matrisa yaratdi. Har bir ustun yuqoridagi bitta kategoriyaga mos keladi: 1-ustun:'<1H OCEAN', 2-ustun:'INLAND' va hokazo.\n",
        "Endi, har bir qatordagi matnning qiymatiga qarab mos keluvchi ustunga 1 qo'yiladi (qolgani 0 bo'ladi).\n",
        "\n",
        "Masalan, `housing_cat` dataset 1-qatorini ko'rsak, `<1H OCEAN` qiymati turibdi, demak matrisaning 1-ustuni `1` qolganlari `0` bo'ladi. Buni yuoqridagi katakda ko'rishimiz mumkin."
      ],
      "metadata": {
        "id": "6I7-LwVQ3fTN"
      }
    },
    {
      "cell_type": "code",
      "source": [
        "housing_cat.head(10)"
      ],
      "metadata": {
        "id": "VrS89qqOGE0_"
      },
      "execution_count": null,
      "outputs": []
    },
    {
      "cell_type": "markdown",
      "source": [
        "Birinchi yoki ikkinchi usuldan qayerda foydalanish sizga havola. Agar matnli qiymatlarning turi judayam ko'p bo'lsa 2-usul datasetning kattalshib ketishiga sabab bo'ladi. Yuqorida, bizda 5 ta kategoriya bo'lgani uchun, datasetga yana 5 ta ustun qo'shishimiz kerak, bizda 16512 qator borligini hisobga olsak bu 82560 ta qo'shimcha qiymat degani.\n",
        "\n",
        "Demak kategoriyalar soni oshgan sari, ishlov berish kerak bo'lgan ustunlar ham oshib ketadi bu esa ortiqcha resurs ishlatilishiga va qo'shimcha moliyaviy harajatlarga olib keladi."
      ],
      "metadata": {
        "id": "jqTWdyamGIZw"
      }
    },
    {
      "cell_type": "markdown",
      "source": [
        "### 3.3 Transfomer\n",
        "\n",
        "Yuqorida ma'lumotlarg ishlov berishda biz `sklearn` tarkibidagi tayyor obyektlar va ulardagi `.fit()` yoki `.fit_transform()` funksiyalariga murojaat qildik.\n",
        "Bu funksiyalar (`imputer`, `OneHotEncoder` va hokazo) **transformer**lar deb ataladi.\n",
        "\n",
        "Umuman olganda `sklearn` tarkibidagi obyektlar uch turli bo'ladi:\n",
        "1. **Estimator** - tahmin qiluvchi (baholovchi) funksiyalar. Bunday obyektlar `.fit()` metodiga ega bo'ladi, bu metod berilgan ma'lumotlardan qandaydur qiymatni hisoblaydi (masalan, avvalroq biz `imputer.fit()` yordamida median qiymatni hisobladik)\n",
        "2. **Transformer** - ham tahmin qilib ham ma'lumotga ishlov beruvchi obyekt. Bunday obyektlar `.fit_transform()` metodiga ega bo'ladi, ya'ni avval qandaydur qiymatnbi hisoblaydi, keyin esa hisoblashni ma'lumotlarga qo'llaydi. Yuoqirdagi `OrdinalEncoder` va `OneHotEncoder` shunday obyektlardan.\n",
        "3. **Predictor** - bashorat qiluvchi obyektlar. Bunday obyektlar `.predict()` metodiga ega bo'ladi. Ular biz bergan ma'lumotlar asosida bashoratlar qaytaradi. Dars davomida predictor obyektlar bilan ko'p ishlaymiz.\n",
        "\n",
        "Obyektlarning afzalligi, ular hisob kitob natijalarini ichki attributrlarda saqlab qoladi. Masalan, yuqorida ko'rganimiz `imputer.statistics_`.\n",
        "\n",
        "Keling endi o'zimiz ham transformer yozishni o'rganamiz.\n",
        "\n",
        "Esingizda bo'lsa, avvalgi darsimizda biz ma'lumotlarg yangi 2 ustun qo'shdik: `rooms_per_household` va `bedrooms_per_room`.\n",
        "\n",
        "Keling berilgan ma'lumotlarga shu ikki ustunni avtomat ravishda qo'shadigan transformer yasaymiz.\n",
        "\n",
        "Buning uchun `sklearn` tarkibida `BaseEstimator` va `TransformerMixin` klasslaridan meros olib yangi klass yasaymiz va bu klassimizga kabi `fit()` va `transform()` metodlarini qo'shamiz:"
      ],
      "metadata": {
        "id": "ip4LN_xXGKN6"
      }
    },
    {
      "cell_type": "code",
      "source": [
        "from sklearn.base import BaseEstimator, TransformerMixin\n",
        "\n",
        "rooms_ix, bedrooms_ix, population_ix, household_ix=3,4,5,6\n",
        "\n",
        "class ConditionalAttributesAdder(BaseEstimator, TransformerMixin):\n",
        "  def __init__(self, add_bedroom_per_room=True):\n",
        "    self.add_bedroom_per_room=add_bedroom_per_room\n",
        "\n",
        "  def fit(self, X, y=None):\n",
        "    return self\n",
        "  def transform(self,X):\n",
        "    rooms_per_houshold=X[:, rooms_ix]/X[:,household_ix]\n",
        "    population_per_houshold=X[:,population_ix]/X[:,household_ix]\n",
        "    if self.add_bedroom_per_room:\n",
        "      bedroom_per_room= X[:, bedrooms_ix] / X[:, rooms_ix]\n",
        "      return np.c_[X, rooms_per_houshold, population_per_houshold,bedroom_per_room]\n",
        "    else:\n",
        "      return np.c_[X, rooms_per_houshold, population_per_houshold]\n",
        "\n"
      ],
      "metadata": {
        "id": "8k73Lz_x3PiA"
      },
      "execution_count": null,
      "outputs": []
    },
    {
      "cell_type": "code",
      "source": [
        "attr_adder=ConditionalAttributesAdder(add_bedroom_per_room=False)\n",
        "housing_extra_attribs=attr_adder.transform(housing.values)\n",
        "housing_extra_attribs[:,0]"
      ],
      "metadata": {
        "id": "isjFBaaeK6B5"
      },
      "execution_count": null,
      "outputs": []
    },
    {
      "cell_type": "code",
      "source": [
        "housing_extra_attribs"
      ],
      "metadata": {
        "id": "JqW1pIWQkCtS"
      },
      "execution_count": null,
      "outputs": []
    },
    {
      "cell_type": "code",
      "source": [
        "attr_adder=ConditionalAttributesAdder(add_bedroom_per_room=True)\n",
        "housing_extra_attribs=attr_adder.transform(housing.values)\n",
        "housing_extra_attribs[:,0]"
      ],
      "metadata": {
        "id": "c9g1qXtgkF19"
      },
      "execution_count": null,
      "outputs": []
    },
    {
      "cell_type": "markdown",
      "source": [
        "### 3.4 Standartizasiya va normalizasiya\n",
        "\n",
        "Ahamiyat bersangiz, bizdagi ustunlardagi qiymatlar diapazoni turlicha, masalan:\n",
        "- `housing_median_age` - `0-50` oralig'ida\n",
        "- `total_rooms` esa `6-39000` oralig'ida\n",
        "- `median_income` - `0.5-15` oralig'ida\n",
        "\n",
        "Bularning hammasi kelgusi hisob kitoblarda algoritmlarning to'gri ishlashiga ta'sir ko'rsatadi.\n",
        "\n",
        "Buning oldini olish uchun barcha ustundagi qiymatlarni bir diapazonga keltirib olish tavsiya qilinadi.\n",
        "\n",
        "Buning uchun ML da min-max normallashtirish (_min-max scaling_) yoki standartlash (_standartization_) qo'llaniladi."
      ],
      "metadata": {
        "id": "_Uu-TBmAkjsm"
      }
    },
    {
      "cell_type": "markdown",
      "source": [
        "#### 3.4.1 Min-max scaling\n",
        "\n",
        "Min-max scaling berilgan qiymatlarni 0-1 oralig'iga olib keladi.\n",
        "\n",
        "Buning uchun biror ustundagi barcha qiymatlarning min ($x_{min}$) va max ($x_{max}$) qiymatlari topiladi. Keyin esa ustundagi har bir qiymat ($x$) quyidagi formula asosida hisoblab chiqiladi:\n",
        "\n",
        "![](https://arshpreetsingh.files.wordpress.com/2017/03/normal.png)"
      ],
      "metadata": {
        "id": "ttt9vxjVklcv"
      }
    },
    {
      "cell_type": "code",
      "source": [
        "from sklearn.preprocessing import MinMaxScaler\n",
        "min_max__scaler=MinMaxScaler()\n",
        "min_max__scaler.fit_transform(housing_num)"
      ],
      "metadata": {
        "id": "LykbHJNikUyy"
      },
      "execution_count": null,
      "outputs": []
    },
    {
      "cell_type": "markdown",
      "source": [
        "#### 3.4.2 Standard Scaler - standartlash\n",
        "StandardScaler biroz boshqa usulda ishlaydi. Sonlarni standartlas hcuhn bizga berilgan ustun bo'yicha o'rta qiymat ($\\mu$) va standart cheklanish ($\\sigma$) talab qilinadi. Har bir qatordag qiymat esa quydagicha hisoblanadi\n",
        "\n",
        "![](https://encrypted-tbn0.gstatic.com/images?q=tbn:ANd9GcQxeMnm1BSa8qyNkCB6wqiYa790XtNxCdM48k_be-9zESUvivv_nuY6SXk8fpJK_psGiA&usqp=CAU)"
      ],
      "metadata": {
        "id": "8JhZ7IuDk8Oh"
      }
    },
    {
      "cell_type": "code",
      "source": [
        "from sklearn.preprocessing import StandardScaler\n",
        "standart_scaler = StandardScaler()\n",
        "standart_scaler.fit_transform(housing_num)"
      ],
      "metadata": {
        "id": "ul7HG6utk6AP"
      },
      "execution_count": null,
      "outputs": []
    },
    {
      "cell_type": "code",
      "source": [
        "housing.head()"
      ],
      "metadata": {
        "id": "201dZ-mClWJY"
      },
      "execution_count": null,
      "outputs": []
    },
    {
      "cell_type": "code",
      "source": [
        "housing_onehot=pd.get_dummies(housing['ocean_proximity'])\n",
        "housing_onehot"
      ],
      "metadata": {
        "id": "Xh1njYSmlj9Y"
      },
      "execution_count": null,
      "outputs": []
    },
    {
      "cell_type": "code",
      "source": [
        "housing_num.head()"
      ],
      "metadata": {
        "id": "QyE6Q5H4l5qX"
      },
      "execution_count": null,
      "outputs": []
    }
  ]
}