{
  "nbformat": 4,
  "nbformat_minor": 0,
  "metadata": {
    "colab": {
      "private_outputs": true,
      "provenance": [],
      "authorship_tag": "ABX9TyPpVLDw4mdJQAbSHt1Ujqun",
      "include_colab_link": true
    },
    "kernelspec": {
      "name": "python3",
      "display_name": "Python 3"
    },
    "language_info": {
      "name": "python"
    }
  },
  "cells": [
    {
      "cell_type": "markdown",
      "metadata": {
        "id": "view-in-github",
        "colab_type": "text"
      },
      "source": [
        "<a href=\"https://colab.research.google.com/github/makhmudovamunira/DataScience_Mohirdev/blob/main/Sublpot.ipynb\" target=\"_parent\"><img src=\"https://colab.research.google.com/assets/colab-badge.svg\" alt=\"Open In Colab\"/></a>"
      ]
    },
    {
      "cell_type": "code",
      "execution_count": null,
      "metadata": {
        "id": "IbB2yxT5C35y"
      },
      "outputs": [],
      "source": [
        "import pandas as pd\n",
        "import numpy as np\n",
        "import matplotlib.pyplot as plt\n",
        "%matplotlib inline\n",
        "import seaborn as sns # agar seaborn o'rnatilmagan bo'lsa pip install seaborn"
      ]
    },
    {
      "cell_type": "code",
      "source": [
        "x= np.arange(0, 4*np.pi, 0.1)\n",
        "sin=np.sin(x)\n",
        "cos=np.cos(x)\n",
        "plt.figure(figsize=(12,6))\n",
        "plt.subplot(2,1,1)\n",
        "plt.plot(x, sin,\n",
        "         color='#8E44AD', linewidth=1.5,\n",
        "         linestyle='-', marker='h', alpha=0.7)\n",
        "plt.title('sin(x) funksiya grafigi')\n",
        "plt.grid(color='tomato', linestyle='--', alpha=.5)\n",
        "\n",
        "\n",
        "plt.subplot(2,1,2)\n",
        "plt.title('cos(x) funksiya grafigi')\n",
        "plt.plot(x, cos,\n",
        "         color='c', linewidth=1.5,\n",
        "         linestyle='-', marker='v', alpha=0.7)\n",
        "plt.title('sin(x) funksiya grafigi')\n",
        "plt.grid(color='tomato', linestyle='--', alpha=.5)\n",
        "plt.show()"
      ],
      "metadata": {
        "id": "kfHur-3zDbA1"
      },
      "execution_count": null,
      "outputs": []
    },
    {
      "cell_type": "markdown",
      "source": [
        "## `seaborn` va `subplot`"
      ],
      "metadata": {
        "id": "VkG-3GwfFDMs"
      }
    },
    {
      "cell_type": "code",
      "source": [
        "df = pd.read_csv(\"https://raw.githubusercontent.com/anvarnarz/praktikum_datasets/main/merc.csv\")\n",
        "df=df[df.year>=2010] # 2010-yildan keyin chiqqan mashinalarni saqlab qolamiz\n",
        "df=df[df.transmission!='Other'] # Faqat avtomat, mexanik va yarim-avtomat mashinalarni olib qolamiz\n",
        "df=df[df.fuelType!='Other'] # Faqat benzin, dizel va gibrid mashinalarni olib qolamiz\n",
        "df.head()"
      ],
      "metadata": {
        "id": "7z71Yy8lE4J0"
      },
      "execution_count": null,
      "outputs": []
    },
    {
      "cell_type": "markdown",
      "source": [
        "`subplots` funksiyasi 2 ta obyekt qaytaradi:\n",
        "1. Umumiy chizma obyekti\n",
        "2. Chizma tarkibidagi grafiklar ro'yxati\n",
        "\n",
        "Biz quyida, qulaylik uchun, bu ikkalasini `fig` (figure) va `ax` (axes) o'zgaruvchilariga saqlab olamiz:"
      ],
      "metadata": {
        "id": "VoqoMPE-Fc-r"
      }
    },
    {
      "cell_type": "code",
      "source": [
        "fig, ax=plt.subplots(2,1, figsize=(10,10))\n",
        "fig.suptitle('Grafik 1')\n",
        "sns.histplot(ax=ax[0], data=df, x='price')\n",
        "sns.scatterplot(ax=ax[1], data=df, x='year', y='price', hue='fuelType', s=50)\n",
        "plt.show()"
      ],
      "metadata": {
        "id": "xsrQxuiHO9HR"
      },
      "execution_count": null,
      "outputs": []
    },
    {
      "cell_type": "code",
      "source": [
        "fig, ax = plt.subplots(2,2, figsize=(15,10))\n",
        "\n",
        "fig.suptitle('Grafik 2')\n",
        "sns.histplot(ax=ax[0,0], data=df, x='price')\n",
        "sns.histplot(ax=ax[0,1], data=df, x='mileage')\n",
        "sns.scatterplot(ax=ax[1,0], data=df, x='year', y='price', hue='fuelType', s=50)\n",
        "sns.scatterplot(ax=ax[1,1], data=df, x='year', y='mileage', hue='fuelType', s=50)\n",
        "ax[0,0].set_title('Price Distrubtion')\n",
        "ax[0,1].set_title('Mileage Distrubtion')\n",
        "ax[1,0].set_title('Price and Year Distrubtion')\n",
        "ax[1,1].set_title('Mileage and Year Distrubtion')\n",
        "plt.show()"
      ],
      "metadata": {
        "id": "xJxinSMtPhYz"
      },
      "execution_count": null,
      "outputs": []
    },
    {
      "cell_type": "code",
      "source": [],
      "metadata": {
        "id": "QnCKRmhgTA6G"
      },
      "execution_count": null,
      "outputs": []
    }
  ]
}