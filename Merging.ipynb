{
  "nbformat": 4,
  "nbformat_minor": 0,
  "metadata": {
    "colab": {
      "private_outputs": true,
      "provenance": [],
      "authorship_tag": "ABX9TyO5p7fbqsOKAMcMUwIJRsVa",
      "include_colab_link": true
    },
    "kernelspec": {
      "name": "python3",
      "display_name": "Python 3"
    },
    "language_info": {
      "name": "python"
    }
  },
  "cells": [
    {
      "cell_type": "markdown",
      "metadata": {
        "id": "view-in-github",
        "colab_type": "text"
      },
      "source": [
        "<a href=\"https://colab.research.google.com/github/makhmudovamunira/DataScience_Mohirdev/blob/main/Merging.ipynb\" target=\"_parent\"><img src=\"https://colab.research.google.com/assets/colab-badge.svg\" alt=\"Open In Colab\"/></a>"
      ]
    },
    {
      "cell_type": "code",
      "execution_count": null,
      "metadata": {
        "id": "D3CsfGBIJaDn"
      },
      "outputs": [],
      "source": [
        "import pandas as pd\n",
        "import numpy as np"
      ]
    },
    {
      "cell_type": "code",
      "source": [
        "!git clone https://github.com/MansurCompAI/Practicum_Datasets.git"
      ],
      "metadata": {
        "id": "gHP-CWjeJj8U"
      },
      "execution_count": null,
      "outputs": []
    },
    {
      "cell_type": "code",
      "source": [
        "movies=pd.read_csv('/content/Practicum_Datasets/IMDb/IMDb_movies.csv')\n",
        "movies.head()"
      ],
      "metadata": {
        "id": "_7gD6dWYKGM3"
      },
      "execution_count": null,
      "outputs": []
    },
    {
      "cell_type": "code",
      "source": [
        " ratings=pd.read_csv('/content/Practicum_Datasets/IMDb/IMDb_ratings.csv')\n",
        " ratings.info()"
      ],
      "metadata": {
        "id": "QNzGRnuWKQ-K"
      },
      "execution_count": null,
      "outputs": []
    },
    {
      "cell_type": "markdown",
      "source": [
        "## `Merging`"
      ],
      "metadata": {
        "id": "Fmhu5oxRLC8e"
      }
    },
    {
      "cell_type": "code",
      "source": [
        "movies.head()"
      ],
      "metadata": {
        "id": "CY20--0xKqol"
      },
      "execution_count": null,
      "outputs": []
    },
    {
      "cell_type": "code",
      "source": [
        "ratings.head()"
      ],
      "metadata": {
        "id": "_eHc9Bw9LE1K"
      },
      "execution_count": null,
      "outputs": []
    },
    {
      "cell_type": "code",
      "source": [
        "movies_ratings=pd.merge(movies, ratings)\n",
        "movies_ratings.columns"
      ],
      "metadata": {
        "id": "gp1-tPYWLGxe"
      },
      "execution_count": null,
      "outputs": []
    },
    {
      "cell_type": "code",
      "source": [
        "extracted=movies_ratings[['imdb_title_id','weighted_average_vote','total_votes']]\n",
        "extracted"
      ],
      "metadata": {
        "id": "uwZ9PdkpLk9l"
      },
      "execution_count": null,
      "outputs": []
    },
    {
      "cell_type": "code",
      "source": [
        "A=pd.DataFrame({'Transport': ['poezd', 'avtomabil', 'kema'],\n",
        "                  'Tezligi':['70', '180', '45']})\n",
        "A"
      ],
      "metadata": {
        "id": "5JvmMBmBMU2p"
      },
      "execution_count": null,
      "outputs": []
    },
    {
      "cell_type": "code",
      "source": [
        "B=pd.DataFrame({'Transport': ['poezd', 'avtomabil', 'tramvay'],\n",
        "                  'Narxi':['98000', '10000', '65000']})\n",
        "B"
      ],
      "metadata": {
        "id": "f_JeX1dLMmXv"
      },
      "execution_count": null,
      "outputs": []
    },
    {
      "cell_type": "markdown",
      "source": [
        "### `merge`"
      ],
      "metadata": {
        "id": "Mt_ucRDKNiEO"
      }
    },
    {
      "cell_type": "markdown",
      "source": [
        "#Ichki uyg'unlashish"
      ],
      "metadata": {
        "id": "Vm80j_zPNjy-"
      }
    },
    {
      "cell_type": "code",
      "source": [
        "merged=pd.merge(A,B, how='inner')\n",
        "merged"
      ],
      "metadata": {
        "id": "b3PELjp1M5cX"
      },
      "execution_count": null,
      "outputs": []
    },
    {
      "cell_type": "code",
      "source": [
        "merged_outer=pd.merge(A,B, how='outer')\n",
        "merged_outer"
      ],
      "metadata": {
        "id": "VbBYSjMsN2qX"
      },
      "execution_count": null,
      "outputs": []
    },
    {
      "cell_type": "code",
      "source": [
        "merged_left=pd.merge(A, B, how='left')\n",
        "merged_left"
      ],
      "metadata": {
        "id": "o--rf3hDODMP"
      },
      "execution_count": null,
      "outputs": []
    },
    {
      "cell_type": "code",
      "source": [
        "merged_right=pd.merge(A,B, how='right')\n",
        "merged_right"
      ],
      "metadata": {
        "id": "PegIjveWOJvx"
      },
      "execution_count": null,
      "outputs": []
    },
    {
      "cell_type": "markdown",
      "source": [
        "## Indeks va ustun ustida birlashtirish"
      ],
      "metadata": {
        "id": "1soLVY77PoP3"
      }
    },
    {
      "cell_type": "code",
      "source": [
        "A=pd.DataFrame({'Transport_turi': ['poezd', 'avtomabil', 'kema'],\n",
        "                  'Tezligi':['70', '180', '45']})\n",
        "A"
      ],
      "metadata": {
        "id": "nSJGCF8LOSm7"
      },
      "execution_count": null,
      "outputs": []
    },
    {
      "cell_type": "code",
      "source": [
        "B"
      ],
      "metadata": {
        "id": "n1e5NPC_PugJ"
      },
      "execution_count": null,
      "outputs": []
    },
    {
      "cell_type": "code",
      "source": [
        "merg=pd.merge(A, B, left_on='Transport_turi', right_on='Transport')\n",
        "merg"
      ],
      "metadata": {
        "id": "VQZ9LZ32P4xW"
      },
      "execution_count": null,
      "outputs": []
    },
    {
      "cell_type": "code",
      "source": [
        "A=A.set_index('Transport_turi')\n",
        "A"
      ],
      "metadata": {
        "id": "4C7YDbfTQFwx"
      },
      "execution_count": null,
      "outputs": []
    },
    {
      "cell_type": "code",
      "source": [
        "B"
      ],
      "metadata": {
        "id": "crc9YamFQN1a"
      },
      "execution_count": null,
      "outputs": []
    },
    {
      "cell_type": "code",
      "source": [
        "merged1=pd.merge(A, B, left_index=True, right_on='Transport')\n",
        "merged1"
      ],
      "metadata": {
        "id": "56h3EJtnQPXj"
      },
      "execution_count": null,
      "outputs": []
    },
    {
      "cell_type": "code",
      "source": [
        "B=B.set_index('Transport')\n",
        "B"
      ],
      "metadata": {
        "id": "UESum5M9QeMI"
      },
      "execution_count": null,
      "outputs": []
    },
    {
      "cell_type": "code",
      "source": [
        "merged2=pd.merge(A, B, left_index=True, right_index=True)\n",
        "merged2"
      ],
      "metadata": {
        "id": "_G_4eALNQmBc"
      },
      "execution_count": null,
      "outputs": []
    },
    {
      "cell_type": "markdown",
      "source": [
        "##**Concatenation**"
      ],
      "metadata": {
        "id": "rKh0iQOzRoWq"
      }
    },
    {
      "cell_type": "code",
      "source": [
        "!git clone https://github.com/MansurCompAI/Practicum_Datasets.git"
      ],
      "metadata": {
        "id": "htuIAkSpRewn"
      },
      "execution_count": null,
      "outputs": []
    },
    {
      "cell_type": "code",
      "source": [
        "bank=pd.read_csv('/content/Practicum_Datasets/bank.csv', delimiter=';')\n",
        "bank.head()"
      ],
      "metadata": {
        "id": "kHkEHm-MRvBk"
      },
      "execution_count": null,
      "outputs": []
    },
    {
      "cell_type": "code",
      "source": [
        "bank.info()"
      ],
      "metadata": {
        "id": "WXzFhOZ5R0nb"
      },
      "execution_count": null,
      "outputs": []
    },
    {
      "cell_type": "code",
      "source": [
        "bank1,bank2= bank[:2521], bank[2521:]\n",
        "bank2"
      ],
      "metadata": {
        "id": "u55dvZfcSGpZ"
      },
      "execution_count": null,
      "outputs": []
    },
    {
      "cell_type": "markdown",
      "source": [
        "#concat"
      ],
      "metadata": {
        "id": "TxRh8GhMVIh7"
      }
    },
    {
      "cell_type": "code",
      "source": [
        "pd.concat([bank1, bank2])"
      ],
      "metadata": {
        "id": "orq7VoAyS-yO"
      },
      "execution_count": null,
      "outputs": []
    },
    {
      "cell_type": "code",
      "source": [
        "bank1, bank2, bank3 = bank[:1000], bank[1000:2000], bank[2000:]\n",
        "bank2"
      ],
      "metadata": {
        "id": "FJta1f0_VNOZ"
      },
      "execution_count": null,
      "outputs": []
    },
    {
      "cell_type": "code",
      "source": [
        "pd.concat([bank1, bank2, bank3], axis=0)"
      ],
      "metadata": {
        "id": "KdOSwIfMVcQ4"
      },
      "execution_count": null,
      "outputs": []
    },
    {
      "cell_type": "code",
      "source": [
        "pd.concat([bank1, bank2, bank3], axis=1)"
      ],
      "metadata": {
        "id": "BZqBgttxVone"
      },
      "execution_count": null,
      "outputs": []
    },
    {
      "cell_type": "code",
      "source": [
        "bank1=bank1.set_index('age')\n",
        "bank2=bank2.set_index('age')"
      ],
      "metadata": {
        "id": "8QLN8u3EV4aa"
      },
      "execution_count": null,
      "outputs": []
    },
    {
      "cell_type": "code",
      "source": [
        "pd.concat([bank1,bank2], axis=1)"
      ],
      "metadata": {
        "id": "ZSFvJR6JW9oE"
      },
      "execution_count": null,
      "outputs": []
    },
    {
      "cell_type": "markdown",
      "source": [
        "### Uzun datasetdan Keng dataset olish (`pivot`)"
      ],
      "metadata": {
        "id": "rnISWwszXUFd"
      }
    },
    {
      "cell_type": "code",
      "source": [
        "data = pd.read_csv('/content/Practicum_Datasets/data_pivot.csv')\n",
        "data"
      ],
      "metadata": {
        "id": "gnUSrgBdXHeO"
      },
      "execution_count": null,
      "outputs": []
    },
    {
      "cell_type": "code",
      "source": [
        "pivoted_data=data.pivot(index='date',columns='item',values='value')\n",
        "pivoted_data"
      ],
      "metadata": {
        "id": "vSnVqPBzXYRc"
      },
      "execution_count": null,
      "outputs": []
    },
    {
      "cell_type": "code",
      "source": [
        "data['value2']=np.random.randn(len(data))\n",
        "data"
      ],
      "metadata": {
        "id": "55aNX7OuYwdQ"
      },
      "execution_count": null,
      "outputs": []
    },
    {
      "cell_type": "code",
      "source": [
        "pivoted_data=data.pivot(index='date',columns='item')"
      ],
      "metadata": {
        "id": "4v0ME5nBbLxF"
      },
      "execution_count": null,
      "outputs": []
    },
    {
      "cell_type": "code",
      "source": [
        "pivoted_data"
      ],
      "metadata": {
        "id": "fovGhWRCbbZa"
      },
      "execution_count": null,
      "outputs": []
    },
    {
      "cell_type": "code",
      "source": [
        "pivoted_data['value'].head(10)"
      ],
      "metadata": {
        "id": "E6qNjuGFbcxq"
      },
      "execution_count": null,
      "outputs": []
    },
    {
      "cell_type": "code",
      "source": [],
      "metadata": {
        "id": "RyEa4v9sbunO"
      },
      "execution_count": null,
      "outputs": []
    }
  ]
}