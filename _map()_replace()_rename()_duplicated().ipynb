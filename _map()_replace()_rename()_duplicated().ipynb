{
  "nbformat": 4,
  "nbformat_minor": 0,
  "metadata": {
    "colab": {
      "private_outputs": true,
      "provenance": [],
      "authorship_tag": "ABX9TyNRo8uUQ+Oqe1hlaU7iZ1eg",
      "include_colab_link": true
    },
    "kernelspec": {
      "name": "python3",
      "display_name": "Python 3"
    },
    "language_info": {
      "name": "python"
    }
  },
  "cells": [
    {
      "cell_type": "markdown",
      "metadata": {
        "id": "view-in-github",
        "colab_type": "text"
      },
      "source": [
        "<a href=\"https://colab.research.google.com/github/makhmudovamunira/DataScience_Mohirdev/blob/main/_map()_replace()_rename()_duplicated().ipynb\" target=\"_parent\"><img src=\"https://colab.research.google.com/assets/colab-badge.svg\" alt=\"Open In Colab\"/></a>"
      ]
    },
    {
      "cell_type": "code",
      "execution_count": null,
      "metadata": {
        "id": "8oFkpiYn1ynz"
      },
      "outputs": [],
      "source": [
        "import pandas as pd"
      ]
    },
    {
      "cell_type": "code",
      "source": [
        "df = pd.read_csv('https://raw.githubusercontent.com/anvarnarz/praktikum_datasets/main/world_population_duplicates.csv')\n",
        "df.head()"
      ],
      "metadata": {
        "id": "wtEIr9p312qo"
      },
      "execution_count": null,
      "outputs": []
    },
    {
      "cell_type": "code",
      "source": [
        "df.duplicated()"
      ],
      "metadata": {
        "id": "4Y-ITwTq16cf"
      },
      "execution_count": null,
      "outputs": []
    },
    {
      "cell_type": "code",
      "source": [
        "sum(df.duplicated())"
      ],
      "metadata": {
        "id": "ob7-O-RY19TL"
      },
      "execution_count": null,
      "outputs": []
    },
    {
      "cell_type": "code",
      "source": [
        "df.shape"
      ],
      "metadata": {
        "id": "71wWH8Cc2D8U"
      },
      "execution_count": null,
      "outputs": []
    },
    {
      "cell_type": "code",
      "source": [
        "df.drop_duplicates()"
      ],
      "metadata": {
        "id": "rU9icdkh2FwG"
      },
      "execution_count": null,
      "outputs": []
    },
    {
      "cell_type": "code",
      "source": [
        "df"
      ],
      "metadata": {
        "id": "hmlG4KBD2K7a"
      },
      "execution_count": null,
      "outputs": []
    },
    {
      "cell_type": "code",
      "source": [
        "df.drop_duplicates(['country']) #bunda faqat bir xil davlatlarni o'chirib tashlaydi"
      ],
      "metadata": {
        "id": "EsxgfNxb2MQA"
      },
      "execution_count": null,
      "outputs": []
    },
    {
      "cell_type": "code",
      "source": [
        "df.drop_duplicates(['country','rank']) # bunda country va rank bir xil bo'lgan davlalarni o'chirib tashlaydi"
      ],
      "metadata": {
        "id": "rL8ZSlcK2TsV"
      },
      "execution_count": null,
      "outputs": []
    },
    {
      "cell_type": "markdown",
      "source": [
        "### `.map()` metodi yordamida qiymatlarni almashtirish\n",
        "Ushbu metod yordamida biz qatorlardagi qiymatlarni ma'lumo qoida bo'yicha o'zgartirishimiz mumkin.\n",
        "\n",
        "Quyidagi jadvalni olaylik:"
      ],
      "metadata": {
        "id": "Kt-IoH5e2tvV"
      }
    },
    {
      "cell_type": "code",
      "source": [
        "df = pd.read_csv(\"https://github.com/anvarnarz/praktikum_datasets/raw/main/automobile_data_nan.csv\", index_col=0)\n",
        "df.head()"
      ],
      "metadata": {
        "id": "MNkQDiLD2haz"
      },
      "execution_count": null,
      "outputs": []
    },
    {
      "cell_type": "markdown",
      "source": [
        "`num-of-cylinders` ustunida qiymatlar son emas harf bilan yozilga. Keling shu qiymatlarni songa o'zgartiramiz.\n",
        "\n",
        "Avvalo bu ustundagi barcha mavjud qiymatlarni ko'raylik:"
      ],
      "metadata": {
        "id": "oPSJTiKT28TF"
      }
    },
    {
      "cell_type": "code",
      "source": [
        "df['num-of-cylinders'].unique()"
      ],
      "metadata": {
        "id": "FTbwYXyE2zcv"
      },
      "execution_count": null,
      "outputs": []
    },
    {
      "cell_type": "code",
      "source": [
        "dict={'four':4, 'six':6, 'five':5,'three':3,'twelve':12,'two':2,'eight':8}"
      ],
      "metadata": {
        "id": "F29OXl8b3A9y"
      },
      "execution_count": null,
      "outputs": []
    },
    {
      "cell_type": "code",
      "source": [
        "df['cylinders']=df['num-of-cylinders'].map(dict)"
      ],
      "metadata": {
        "id": "YRG2dUuw3a9M"
      },
      "execution_count": null,
      "outputs": []
    },
    {
      "cell_type": "code",
      "source": [
        "df.head()"
      ],
      "metadata": {
        "id": "Cr4G6WgV3o1H"
      },
      "execution_count": null,
      "outputs": []
    },
    {
      "cell_type": "code",
      "source": [
        "df[['num-of-cylinders','cylinders']]"
      ],
      "metadata": {
        "id": "VEcnct9C3sWK"
      },
      "execution_count": null,
      "outputs": []
    },
    {
      "cell_type": "markdown",
      "source": [
        "`.map()` yordamida ustun qiymatlariga boshqa funksiyalarni ham qo'llash mumkin. Misol uchun, keling mashina narxlarini so'mdagi qiymatini topamiz:"
      ],
      "metadata": {
        "id": "wgHUS3L84DmL"
      }
    },
    {
      "cell_type": "code",
      "source": [
        "kurs=12900 # 1$=12900so'm\n",
        "df['price'].map(lambda x: x*kurs)"
      ],
      "metadata": {
        "id": "6l_p1ry437u8"
      },
      "execution_count": null,
      "outputs": []
    },
    {
      "cell_type": "code",
      "source": [
        "df['price_uzs']=df['price'].map(lambda x: x*kurs)\n",
        "df.head()"
      ],
      "metadata": {
        "id": "KtG2lpno4ZfC"
      },
      "execution_count": null,
      "outputs": []
    },
    {
      "cell_type": "code",
      "source": [
        "df.replace('four', 4)"
      ],
      "metadata": {
        "id": "crgIzt4U4sv0"
      },
      "execution_count": null,
      "outputs": []
    },
    {
      "cell_type": "code",
      "source": [
        "df.replace(['four', 'six'], [4,6])"
      ],
      "metadata": {
        "id": "q1y5MplO44FO"
      },
      "execution_count": null,
      "outputs": []
    },
    {
      "cell_type": "code",
      "source": [
        "df.replace({'four':4,'six':6})"
      ],
      "metadata": {
        "id": "h6nh38PQ5FYB"
      },
      "execution_count": null,
      "outputs": []
    },
    {
      "cell_type": "markdown",
      "source": [
        "df2 = pd.read_csv('https://raw.githubusercontent.com/anvarnarz/praktikum_datasets/main/world_population_duplicates.csv', index_col='country')"
      ],
      "metadata": {
        "id": "VDQOxVvF5gti"
      }
    },
    {
      "cell_type": "code",
      "source": [
        "df2 = pd.read_csv('https://raw.githubusercontent.com/anvarnarz/praktikum_datasets/main/world_population_duplicates.csv', index_col='country')"
      ],
      "metadata": {
        "id": "mtLJDoHV5Vpt"
      },
      "execution_count": null,
      "outputs": []
    },
    {
      "cell_type": "code",
      "source": [
        "df2.head()"
      ],
      "metadata": {
        "id": "fgWTJaq25eHR"
      },
      "execution_count": null,
      "outputs": []
    },
    {
      "cell_type": "markdown",
      "source": [
        "`.rename()` metodi yordamida indeks yoki ustunlar nomiga ham o'zgartirish kiritishmiz mumkin.\n",
        "\n",
        "Quyidagi misolda indeks va ustun nomlarini katta harflar bilan yozamiz:"
      ],
      "metadata": {
        "id": "NvVvQ4DE5-UQ"
      }
    },
    {
      "cell_type": "code",
      "source": [
        "df2.rename(index=str.upper, columns=str.upper)"
      ],
      "metadata": {
        "id": "cSCjOHpv5iiv"
      },
      "execution_count": null,
      "outputs": []
    },
    {
      "cell_type": "code",
      "source": [
        "df2.rename(index={'Macau':'MAKAO'}, columns={'pop2021':'population'})"
      ],
      "metadata": {
        "id": "x9Tk1mul6FEY"
      },
      "execution_count": null,
      "outputs": []
    },
    {
      "cell_type": "code",
      "source": [
        " df2.rename(columns=str.capitalize)"
      ],
      "metadata": {
        "id": "v7LlCVB56ejo"
      },
      "execution_count": null,
      "outputs": []
    }
  ]
}