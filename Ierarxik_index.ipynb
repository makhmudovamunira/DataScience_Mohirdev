{
  "nbformat": 4,
  "nbformat_minor": 0,
  "metadata": {
    "colab": {
      "private_outputs": true,
      "provenance": [],
      "authorship_tag": "ABX9TyM4evuVSA1q20GXnPxo7j1A",
      "include_colab_link": true
    },
    "kernelspec": {
      "name": "python3",
      "display_name": "Python 3"
    },
    "language_info": {
      "name": "python"
    }
  },
  "cells": [
    {
      "cell_type": "markdown",
      "metadata": {
        "id": "view-in-github",
        "colab_type": "text"
      },
      "source": [
        "<a href=\"https://colab.research.google.com/github/makhmudovamunira/DataScience_Mohirdev/blob/main/Ierarxik_index.ipynb\" target=\"_parent\"><img src=\"https://colab.research.google.com/assets/colab-badge.svg\" alt=\"Open In Colab\"/></a>"
      ]
    },
    {
      "cell_type": "code",
      "execution_count": null,
      "metadata": {
        "id": "8I9ic-AYdxrj"
      },
      "outputs": [],
      "source": [
        "import pandas as pd\n",
        "import numpy as np"
      ]
    },
    {
      "cell_type": "code",
      "source": [
        "data=pd.Series(np.random.randn(9), index=['a','a','a','b','b','c','c','d','d'])\n",
        "data"
      ],
      "metadata": {
        "id": "SYh4siVueBpG"
      },
      "execution_count": null,
      "outputs": []
    },
    {
      "cell_type": "code",
      "source": [
        "data1=pd.Series(np.random.randn(9), index=[['a','a','a','b','b','c','c','d','d'],[1,2,3,1,2,3,1,2,1]])\n",
        "data1.index"
      ],
      "metadata": {
        "id": "MZ9VCv8pecpu"
      },
      "execution_count": null,
      "outputs": []
    },
    {
      "cell_type": "code",
      "source": [
        "data1"
      ],
      "metadata": {
        "id": "5b3rSHwJerDB"
      },
      "execution_count": null,
      "outputs": []
    },
    {
      "cell_type": "code",
      "source": [
        "data1['a']"
      ],
      "metadata": {
        "id": "yvlz02k8ewXH"
      },
      "execution_count": null,
      "outputs": []
    },
    {
      "cell_type": "code",
      "source": [
        "data1['b':'d']"
      ],
      "metadata": {
        "id": "_h1Y2rXef7ve"
      },
      "execution_count": null,
      "outputs": []
    },
    {
      "cell_type": "code",
      "source": [
        "data1.loc[:,2]"
      ],
      "metadata": {
        "id": "7YNWBGmjgAKS"
      },
      "execution_count": null,
      "outputs": []
    },
    {
      "cell_type": "code",
      "source": [
        "\n"
      ],
      "metadata": {
        "id": "uon1cJIVgIKd"
      },
      "execution_count": null,
      "outputs": []
    },
    {
      "cell_type": "code",
      "source": [
        "data1.loc[['a','c']]"
      ],
      "metadata": {
        "id": "xmo6AafHgRbL"
      },
      "execution_count": null,
      "outputs": []
    },
    {
      "cell_type": "markdown",
      "source": [
        "### `unstack`"
      ],
      "metadata": {
        "id": "eLP4tf2wgjpL"
      }
    },
    {
      "cell_type": "code",
      "source": [
        "data1"
      ],
      "metadata": {
        "id": "TiNXRt73gfGm"
      },
      "execution_count": null,
      "outputs": []
    },
    {
      "cell_type": "code",
      "source": [
        "data1.unstack()"
      ],
      "metadata": {
        "id": "2QgRDC8xgk8Q"
      },
      "execution_count": null,
      "outputs": []
    },
    {
      "cell_type": "markdown",
      "source": [
        "#stack"
      ],
      "metadata": {
        "id": "i8IQ3dF4go2h"
      }
    },
    {
      "cell_type": "code",
      "source": [
        "data1.unstack().stack()"
      ],
      "metadata": {
        "id": "m9i7VQwagmwk"
      },
      "execution_count": null,
      "outputs": []
    },
    {
      "cell_type": "markdown",
      "source": [
        "### Dunyo shaharlarining havo va suv sifati ma'lumotlari ustida amallar bajarish"
      ],
      "metadata": {
        "id": "fNzg70NKg230"
      }
    },
    {
      "cell_type": "code",
      "source": [
        "!git clone https://github.com/MansurCompAI/Practicum_Datasets.git"
      ],
      "metadata": {
        "id": "KM-aidFfgstz"
      },
      "execution_count": null,
      "outputs": []
    },
    {
      "cell_type": "code",
      "source": [
        "df=pd.read_csv('/content/Practicum_Datasets/world_cities_air_water_quality.csv')\n",
        "df"
      ],
      "metadata": {
        "id": "g0_khdWKg8ii"
      },
      "execution_count": null,
      "outputs": []
    },
    {
      "cell_type": "code",
      "source": [
        "df.info()"
      ],
      "metadata": {
        "id": "QvwKUhWwhIIK"
      },
      "execution_count": null,
      "outputs": []
    },
    {
      "cell_type": "code",
      "source": [
        "columns=['City','Region','Country','AirQuality','WaterPollution']\n",
        "df.columns=columns\n",
        "df"
      ],
      "metadata": {
        "id": "D_nzXxnWhM9d"
      },
      "execution_count": null,
      "outputs": []
    },
    {
      "cell_type": "code",
      "source": [
        "df['Region']=df['Region'].map(lambda x: x.replace('\"',''))\n",
        "df"
      ],
      "metadata": {
        "id": "Yxczz_uhhRXC"
      },
      "execution_count": null,
      "outputs": []
    },
    {
      "cell_type": "code",
      "source": [
        "df['Country']=df['Country'].map(lambda x: x.replace('\"',''))\n",
        "df"
      ],
      "metadata": {
        "id": "6qvc8hy0hqh0"
      },
      "execution_count": null,
      "outputs": []
    },
    {
      "cell_type": "code",
      "source": [
        "df.to_csv('Updated_dataset.csv', index=False)"
      ],
      "metadata": {
        "id": "jddbo_EQiEKy"
      },
      "execution_count": null,
      "outputs": []
    },
    {
      "cell_type": "code",
      "source": [
        "df[df['Country']=='Germany']"
      ],
      "metadata": {
        "id": "STCdC2jziQw-"
      },
      "execution_count": null,
      "outputs": []
    },
    {
      "cell_type": "code",
      "source": [
        "df['Country'][2]"
      ],
      "metadata": {
        "id": "pZBgItcziYtv"
      },
      "execution_count": null,
      "outputs": []
    },
    {
      "cell_type": "code",
      "source": [
        "df['Country']=df['Country'].map(lambda x: x.strip())\n",
        "df"
      ],
      "metadata": {
        "id": "-jbRLJlUihKy"
      },
      "execution_count": null,
      "outputs": []
    },
    {
      "cell_type": "code",
      "source": [
        "df[df['Country']=='Germany']"
      ],
      "metadata": {
        "id": "R7Hz48GuivHX"
      },
      "execution_count": null,
      "outputs": []
    },
    {
      "cell_type": "code",
      "source": [
        "df[df['Country']=='Uzbekistan']"
      ],
      "metadata": {
        "id": "pWSiZXAHi4zK"
      },
      "execution_count": null,
      "outputs": []
    },
    {
      "cell_type": "code",
      "source": [
        "df.to_csv('Updated_dataset.csv', index=False)"
      ],
      "metadata": {
        "id": "K5XTnXWqjVwB"
      },
      "execution_count": null,
      "outputs": []
    },
    {
      "cell_type": "markdown",
      "source": [
        "### `pivot_table` orqali irarxik indekslash"
      ],
      "metadata": {
        "id": "7FdnWhEvjnKB"
      }
    },
    {
      "cell_type": "code",
      "source": [
        "df.index"
      ],
      "metadata": {
        "id": "NkwLDN0gjcT4"
      },
      "execution_count": null,
      "outputs": []
    },
    {
      "cell_type": "code",
      "source": [
        "df1=pd.pivot_table(df, index=['Country', 'City'], values=['AirQuality', 'WaterPollution'], aggfunc='sum')\n",
        "df1"
      ],
      "metadata": {
        "id": "pekTsA8fjpSD"
      },
      "execution_count": null,
      "outputs": []
    },
    {
      "cell_type": "code",
      "source": [
        "df1.loc[['Uzbekistan', 'Germany', 'Tajikistan']]"
      ],
      "metadata": {
        "id": "6MG4HWBwj2Za"
      },
      "execution_count": null,
      "outputs": []
    },
    {
      "cell_type": "code",
      "source": [
        "df2=df1.copy()\n",
        "df2"
      ],
      "metadata": {
        "id": "iW-MA1W0l06E"
      },
      "execution_count": null,
      "outputs": []
    },
    {
      "cell_type": "code",
      "source": [
        "df2['AirPollution']=100-df2['AirQuality']\n",
        "df2['WaterQuality']=100-df2['WaterPollution']"
      ],
      "metadata": {
        "id": "Ix1T5q0ql5mg"
      },
      "execution_count": null,
      "outputs": []
    },
    {
      "cell_type": "code",
      "source": [
        "df2"
      ],
      "metadata": {
        "id": "2W9okNaumI5H"
      },
      "execution_count": null,
      "outputs": []
    },
    {
      "cell_type": "markdown",
      "source": [
        "## Irarxik ustunli ma'lumotlar to'plami"
      ],
      "metadata": {
        "id": "VC2_9bw8mwZD"
      }
    },
    {
      "cell_type": "code",
      "source": [
        "df3=pd.DataFrame(df2.values, index=df2.index, columns=[['AIR','AIR','WATER','WATER'],['AirQuality', 'AirPollution','WaterPollution','WaterQuality']])"
      ],
      "metadata": {
        "id": "WSi3pjJxmJ1s"
      },
      "execution_count": null,
      "outputs": []
    },
    {
      "cell_type": "code",
      "source": [
        "df3"
      ],
      "metadata": {
        "id": "0A96S9_QnSQV"
      },
      "execution_count": null,
      "outputs": []
    },
    {
      "cell_type": "code",
      "source": [
        "df3['AIR']"
      ],
      "metadata": {
        "id": "je895bUEnVKo"
      },
      "execution_count": null,
      "outputs": []
    },
    {
      "cell_type": "code",
      "source": [
        "df3.columns.names=['Object','Info']\n",
        "df3"
      ],
      "metadata": {
        "id": "OlvFhC3Mnc_Y"
      },
      "execution_count": null,
      "outputs": []
    },
    {
      "cell_type": "code",
      "source": [
        "df3.index.names"
      ],
      "metadata": {
        "id": "N0mGnsVynos5"
      },
      "execution_count": null,
      "outputs": []
    },
    {
      "cell_type": "markdown",
      "source": [
        "## Qayta tartiblash"
      ],
      "metadata": {
        "id": "YsgPGJD8n7lA"
      }
    },
    {
      "cell_type": "code",
      "source": [
        "df3.swaplevel('Country','City')\n"
      ],
      "metadata": {
        "id": "Rr-QQidzn1fc"
      },
      "execution_count": null,
      "outputs": []
    },
    {
      "cell_type": "code",
      "source": [
        "df3.sort_index(level=0, ascending=False)"
      ],
      "metadata": {
        "id": "rJWUYj0RoCKL"
      },
      "execution_count": null,
      "outputs": []
    }
  ]
}