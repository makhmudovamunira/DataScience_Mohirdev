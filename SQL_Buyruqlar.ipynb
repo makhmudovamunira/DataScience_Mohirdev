{
  "nbformat": 4,
  "nbformat_minor": 0,
  "metadata": {
    "colab": {
      "private_outputs": true,
      "provenance": [],
      "authorship_tag": "ABX9TyOJ3NUWFJHYbFmevnkwiRt/",
      "include_colab_link": true
    },
    "kernelspec": {
      "name": "python3",
      "display_name": "Python 3"
    },
    "language_info": {
      "name": "python"
    }
  },
  "cells": [
    {
      "cell_type": "markdown",
      "metadata": {
        "id": "view-in-github",
        "colab_type": "text"
      },
      "source": [
        "<a href=\"https://colab.research.google.com/github/makhmudovamunira/DataScience_Mohirdev/blob/main/SQL_Buyruqlar.ipynb\" target=\"_parent\"><img src=\"https://colab.research.google.com/assets/colab-badge.svg\" alt=\"Open In Colab\"/></a>"
      ]
    },
    {
      "cell_type": "code",
      "execution_count": null,
      "metadata": {
        "id": "ymRB_QHvK_Bs"
      },
      "outputs": [],
      "source": [
        "import pandas as pd\n",
        "import sqlite3 as sql"
      ]
    },
    {
      "cell_type": "code",
      "source": [
        "from urllib.request import urlretrieve\n",
        "url = \"https://github.com/anvarnarz/praktikum_datasets/raw/main/electricity.db\"\n",
        "urlretrieve(url,'electricity.db') # faylni yuklab olish"
      ],
      "metadata": {
        "id": "wfD8ydBVLK9t"
      },
      "execution_count": null,
      "outputs": []
    },
    {
      "cell_type": "code",
      "source": [
        "db=sql.connect(\"electricity.db\")\n",
        "cursor=db.cursor()"
      ],
      "metadata": {
        "id": "fXlFA5TGMEim"
      },
      "execution_count": null,
      "outputs": []
    },
    {
      "cell_type": "code",
      "source": [
        "cursor.execute(\"SELECT name FROM sqlite_master WHERE type='table'\")\n",
        "print(cursor.fetchall())"
      ],
      "metadata": {
        "id": "15vBgoNIMglU"
      },
      "execution_count": null,
      "outputs": []
    },
    {
      "cell_type": "code",
      "source": [
        "cursor.execute(\"PRAGMA table_info(elect)\")\n",
        "cursor.fetchall()"
      ],
      "metadata": {
        "id": "l7LsXEotMyrS"
      },
      "execution_count": null,
      "outputs": []
    },
    {
      "cell_type": "code",
      "source": [
        "pd.read_sql(\"SELECT * FROM elect LIMIT 10\", db, index_col=\"index\")"
      ],
      "metadata": {
        "id": "G11vgyNFNA-4"
      },
      "execution_count": null,
      "outputs": []
    },
    {
      "cell_type": "code",
      "source": [
        "query=\"SELECT DISTINCT country FROM elect\"\n",
        "countries=pd.read_sql(query, db)\n",
        "countries.head()"
      ],
      "metadata": {
        "id": "5S9aWuHeNiCW"
      },
      "execution_count": null,
      "outputs": []
    },
    {
      "cell_type": "code",
      "source": [
        "'Uzbekistan' in countries['country'].values"
      ],
      "metadata": {
        "id": "LeIpkgd3OC4y"
      },
      "execution_count": null,
      "outputs": []
    },
    {
      "cell_type": "code",
      "source": [
        "query=\"SELECT * FROM elect WHERE country='Uzbekistan'\"\n",
        "dfuz=pd.read_sql(query, db)\n",
        "dfuz.head()"
      ],
      "metadata": {
        "id": "25TQXkTeOUrJ"
      },
      "execution_count": null,
      "outputs": []
    },
    {
      "cell_type": "code",
      "source": [
        "query=\"SELECT * FROM elect WHERE country='Uzbekistan' AND year>2010\"\n",
        "dfuz=pd.read_sql(query, db)\n",
        "dfuz.head()"
      ],
      "metadata": {
        "id": "Kv--PSOuOwzP"
      },
      "execution_count": null,
      "outputs": []
    },
    {
      "cell_type": "markdown",
      "source": [
        "### `BETWEEN` yordamida filtrlash\n",
        "**Between** so'zi ingliz tildan __oraliqda__ deb tarjima qilinadi. Bu operator yordamida ma'lum oraliqdagi qiymatlarni ajratib olishimiz mumkin.\n",
        "\n",
        "Misol uchu, kelin O'zbekiston uchun 2010 va 2021 oraliqdagi ma'lumotlarni chaqirib olamiz."
      ],
      "metadata": {
        "id": "IgeZk7XNSvo_"
      }
    },
    {
      "cell_type": "code",
      "source": [
        "query=\"SELECT * FROM elect WHERE country='Uzbekistan' AND year BETWEEN 2010 AND 2021\"\n",
        "pd.read_sql(query, db)"
      ],
      "metadata": {
        "id": "xPpCWmWnPTd_"
      },
      "execution_count": null,
      "outputs": []
    },
    {
      "cell_type": "markdown",
      "source": [
        "### `IN`\n",
        "`IN` yordamida filterlashda aniq qiymatlarni ko'rsatishimiz mumkin. Quyidagi misolda aynan 1990,1995,2000,2005,2010-yillardagi qiymatlarni ajratib olamiz."
      ],
      "metadata": {
        "id": "vvE5NZ1MTPMF"
      }
    },
    {
      "cell_type": "code",
      "source": [
        "query=\"SELECT * FROM elect WHERE country='Uzbekistan' AND year IN (1990, 1995, 2000, 2005, 2010)\"\n",
        "pd.read_sql(query, db)"
      ],
      "metadata": {
        "id": "7XMOGjEbTD7Q"
      },
      "execution_count": null,
      "outputs": []
    },
    {
      "cell_type": "markdown",
      "source": [
        "### `LIKE`\n",
        "`LIKE` yordamida ustun orasidan berilgan matnga o'xshash qiymatlarni topish mumkin. Qidiruv matnida `%` yoki `_` belgilari ishlatilishi mumkin.\n",
        "- `%` - bir nechta belgini anglatadi, masalan `'%stan'` matni `stan` so'zi bilan tugaydigan barcha qiymatlarni topadi.\n",
        "- `_` - bitta belgini anglatadi, misol uchun `_tol` matni 4 harfdan iborat `tol` bilan tugaydian so'zlarni topadi (`stol`)"
      ],
      "metadata": {
        "id": "ykWwEFXOT2FI"
      }
    },
    {
      "cell_type": "code",
      "source": [
        "query=\"SELECT * FROM elect WHERE country LIKE '%stan' AND year IN (2019, 2020, 2021)\"\n",
        "pd.read_sql(query, db)"
      ],
      "metadata": {
        "id": "sfUbZk8oTmcI"
      },
      "execution_count": null,
      "outputs": []
    },
    {
      "cell_type": "markdown",
      "source": [
        "Quyida `A` bilan boshlanadigan barcha davlatlar uchun 2020-yil ma'lumotlarni olamiz. Ahamiyat bering bu safar davlat nomi emas kodi (`code`) dan foydalanamiz va qidiruv matnida `A` dan keyin ikki pastki chiziq (ikkita harf) yozayapmiz `A__`"
      ],
      "metadata": {
        "id": "1Fe49R39Utdo"
      }
    },
    {
      "cell_type": "code",
      "source": [
        "query=\"SELECT * FROM elect WHERE code LIKE 'A__' AND year=2020\"\n",
        "pd.read_sql(query, db)"
      ],
      "metadata": {
        "id": "F40uINcHUI6-"
      },
      "execution_count": null,
      "outputs": []
    },
    {
      "cell_type": "code",
      "source": [
        "db.close()"
      ],
      "metadata": {
        "id": "ooaDW3muU9LV"
      },
      "execution_count": null,
      "outputs": []
    }
  ]
}