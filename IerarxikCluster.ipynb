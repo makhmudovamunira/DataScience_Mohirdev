{
  "nbformat": 4,
  "nbformat_minor": 0,
  "metadata": {
    "colab": {
      "private_outputs": true,
      "provenance": [],
      "authorship_tag": "ABX9TyNccYJzcRva2cFNF4PiFsj5",
      "include_colab_link": true
    },
    "kernelspec": {
      "name": "python3",
      "display_name": "Python 3"
    },
    "language_info": {
      "name": "python"
    }
  },
  "cells": [
    {
      "cell_type": "markdown",
      "metadata": {
        "id": "view-in-github",
        "colab_type": "text"
      },
      "source": [
        "<a href=\"https://colab.research.google.com/github/makhmudovamunira/DataScience_Mohirdev/blob/main/IerarxikCluster.ipynb\" target=\"_parent\"><img src=\"https://colab.research.google.com/assets/colab-badge.svg\" alt=\"Open In Colab\"/></a>"
      ]
    },
    {
      "cell_type": "code",
      "execution_count": null,
      "metadata": {
        "id": "E90DqB1-PryS"
      },
      "outputs": [],
      "source": [
        "import pandas as pd\n",
        "import numpy as np\n",
        "import matplotlib.pyplot as plt\n",
        "%matplotlib inline"
      ]
    },
    {
      "cell_type": "code",
      "source": [
        "url = \"https://cf-courses-data.s3.us.cloud-object-storage.appdomain.cloud/IBMDeveloperSkillsNetwork-ML0101EN-SkillsNetwork/labs/Module%204/data/cars_clus.csv\"\n",
        "df = pd.read_csv(url)\n",
        "df.head()"
      ],
      "metadata": {
        "id": "oOFT1HIyP0i4"
      },
      "execution_count": null,
      "outputs": []
    },
    {
      "cell_type": "markdown",
      "source": [
        "Datasetni tozalaymiz"
      ],
      "metadata": {
        "id": "8cwDHKPtQVMy"
      }
    },
    {
      "cell_type": "code",
      "source": [
        "df[[ 'sales', 'resale', 'type', 'price', 'engine_s',\n",
        "       'horsepow', 'wheelbas', 'width', 'length', 'curb_wgt', 'fuel_cap',\n",
        "       'mpg', 'lnsales']] = df[['sales', 'resale', 'type', 'price', 'engine_s',\n",
        "       'horsepow', 'wheelbas', 'width', 'length', 'curb_wgt', 'fuel_cap',\n",
        "       'mpg', 'lnsales']].apply(pd.to_numeric, errors='coerce')\n",
        "df = df.dropna()\n",
        "df = df.reset_index(drop=True)\n",
        "df.head(5)"
      ],
      "metadata": {
        "id": "8qr2TKsoQAKw"
      },
      "execution_count": null,
      "outputs": []
    },
    {
      "cell_type": "markdown",
      "source": [
        "Klaster uchun ustunlarni tanlab olamiz"
      ],
      "metadata": {
        "id": "Bu3s7WKWRQXe"
      }
    },
    {
      "cell_type": "code",
      "source": [
        "featureset = df[['engine_s',  'horsepow', 'wheelbas', 'width', 'length', 'curb_wgt', 'fuel_cap', 'mpg']]"
      ],
      "metadata": {
        "id": "KPYndX-7QXjY"
      },
      "execution_count": null,
      "outputs": []
    },
    {
      "cell_type": "code",
      "source": [
        "from sklearn.preprocessing import MinMaxScaler\n",
        "min_max_scaler=MinMaxScaler()\n",
        "x=featureset.values\n",
        "feature_mtx=min_max_scaler.fit_transform(x)\n",
        "feature_mtx[0:5]"
      ],
      "metadata": {
        "id": "_XEqrCaHRTfW"
      },
      "execution_count": null,
      "outputs": []
    },
    {
      "cell_type": "markdown",
      "source": [
        "## Klasterlash\n",
        "\n",
        "Ierarxik klasterlash uchun `Scipy` paketidan foydalanmiz.\n",
        "\n",
        "Boshlanishiga distance matrix `D` (masofalar matrisasini) quramiz:"
      ],
      "metadata": {
        "id": "qASlQYuaSIrY"
      }
    },
    {
      "cell_type": "code",
      "source": [
        "import scipy\n",
        "from scipy import ndimage\n",
        "from scipy.spatial import distance_matrix\n",
        "from scipy.cluster import hierarchy\n",
        "\n",
        "leng=feature_mtx.shape[0]\n",
        "D=np.zeros([leng,leng])\n",
        "for i in range(leng):\n",
        "  for j in range(leng):\n",
        "    D[i,j]=scipy.spatial.distance.euclidean(feature_mtx[i], feature_mtx[j])\n",
        "\n",
        "D\n"
      ],
      "metadata": {
        "id": "5-Xe37npR4gg"
      },
      "execution_count": null,
      "outputs": []
    },
    {
      "cell_type": "markdown",
      "source": [
        "Modelni o'qitamiz (training)"
      ],
      "metadata": {
        "id": "IgUH7Fj5TVWa"
      }
    },
    {
      "cell_type": "code",
      "source": [
        "Z=hierarchy.linkage(D)"
      ],
      "metadata": {
        "id": "YphEaOg2THQz"
      },
      "execution_count": null,
      "outputs": []
    },
    {
      "cell_type": "code",
      "source": [
        "fig=plt.figure(figsize=(18,50))\n",
        "def llf(id):\n",
        "  return '[%s %s %s]' % (df['manufact'][id], df['model'][id], int(float(df['type'][id])))\n",
        "dendro=hierarchy.dendrogram(Z, leaf_label_func=llf, leaf_font_size=12, orientation='right')"
      ],
      "metadata": {
        "id": "U4RxxdhVTaQW"
      },
      "execution_count": null,
      "outputs": []
    },
    {
      "cell_type": "markdown",
      "source": [
        "Klasterlar sonini o'zimiz belgilab, dendogramni qayerdan kesishni ko'rsatishimiz mumkin."
      ],
      "metadata": {
        "id": "YueCRJY3U2oY"
      }
    },
    {
      "cell_type": "code",
      "source": [
        "from scipy.cluster.hierarchy import fcluster\n",
        "k = 5 # 5 ta klaster\n",
        "clusters = fcluster(Z, k, criterion='maxclust')\n",
        "clusters"
      ],
      "metadata": {
        "id": "kKU4jBw-Vr0w"
      },
      "execution_count": null,
      "outputs": []
    },
    {
      "cell_type": "code",
      "source": [
        "from sklearn import manifold, datasets\n",
        "from sklearn.cluster import AgglomerativeClustering"
      ],
      "metadata": {
        "id": "P5qJCumhUjWz"
      },
      "execution_count": null,
      "outputs": []
    },
    {
      "cell_type": "markdown",
      "source": [
        "## `scikit` yordamida klasterlash"
      ],
      "metadata": {
        "id": "W8XEQbTKVmyq"
      }
    },
    {
      "cell_type": "code",
      "source": [
        "agglom=AgglomerativeClustering(n_clusters=6, linkage='complete')\n",
        "agglom.fit(D)\n",
        "agglom.labels_"
      ],
      "metadata": {
        "id": "TqXBg78XU9di"
      },
      "execution_count": null,
      "outputs": []
    },
    {
      "cell_type": "code",
      "source": [
        "df['cluster']=agglom.labels_\n",
        "agg_cars=df.groupby(['cluster','type'])[['horsepow','engine_s','mpg','price']].mean()\n",
        "agg_cars"
      ],
      "metadata": {
        "id": "fLl-Nf08VV2n"
      },
      "execution_count": null,
      "outputs": []
    }
  ]
}