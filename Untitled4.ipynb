{
  "nbformat": 4,
  "nbformat_minor": 0,
  "metadata": {
    "colab": {
      "private_outputs": true,
      "provenance": [],
      "authorship_tag": "ABX9TyMaS3r1/vqsOe04zmBjiZ1F",
      "include_colab_link": true
    },
    "kernelspec": {
      "name": "python3",
      "display_name": "Python 3"
    },
    "language_info": {
      "name": "python"
    }
  },
  "cells": [
    {
      "cell_type": "markdown",
      "metadata": {
        "id": "view-in-github",
        "colab_type": "text"
      },
      "source": [
        "<a href=\"https://colab.research.google.com/github/makhmudovamunira/DataScience_Mohirdev/blob/main/Untitled4.ipynb\" target=\"_parent\"><img src=\"https://colab.research.google.com/assets/colab-badge.svg\" alt=\"Open In Colab\"/></a>"
      ]
    },
    {
      "cell_type": "code",
      "execution_count": null,
      "metadata": {
        "id": "AyjR3U-ap4P6"
      },
      "outputs": [],
      "source": [
        "import pandas as pd\n",
        "import numpy as np\n",
        "import matplotlib.pyplot as plt\n",
        "%matplotlib inline\n",
        "import seaborn as sns # agar seaborn o'rnatilmagan bo'lsa pip install seaborn"
      ]
    },
    {
      "cell_type": "code",
      "source": [
        "df = pd.read_csv(\"https://raw.githubusercontent.com/anvarnarz/praktikum_datasets/main/merc.csv\")\n",
        "df=df[df['year']>=2010]\n",
        "df=df[df['transmission']!='Other']\n",
        "df=df[df['fuelType']!='Other']\n",
        "df.head()"
      ],
      "metadata": {
        "id": "euJKR2PErhlL"
      },
      "execution_count": null,
      "outputs": []
    },
    {
      "cell_type": "code",
      "source": [
        "df.shape"
      ],
      "metadata": {
        "id": "cykJPFHsrsu0"
      },
      "execution_count": null,
      "outputs": []
    },
    {
      "cell_type": "code",
      "source": [
        "plt.figure(figsize=(10,5))\n",
        "sns.histplot(data=df, x='price')\n",
        "plt.xticks(rotation=90)\n",
        "plt.show()"
      ],
      "metadata": {
        "id": "OgKhMEh0sFqv"
      },
      "execution_count": null,
      "outputs": []
    },
    {
      "cell_type": "markdown",
      "source": [
        "`seaborn` da taqsimotlarni ko'rsatish uchun bir nechta funksiyalar mavjud.\n",
        "Yuqorida ko'rganimiz `histplot` shulardan biri. Shuningdek, turli taqsimotlarni jamlaydigan yagona `displot` funksiyasi ham bor.\n",
        "\n",
        "`displot` yoki `histplot` qay biridan foydalanish sizning o'zingizga bog'liq. Bu ikkisining fariq shundaku, `histplot` va biz pastroqda ko'radigan `kdeplot`,  `ecdfplot` funksiyalari yordamida chizmaga ko'proq o'zgartirishlar kiritish mumkin.\n",
        "\n",
        "Batafsil: https://seaborn.pydata.org/generated/seaborn.displot.html"
      ],
      "metadata": {
        "id": "0xPKgeROuJxR"
      }
    },
    {
      "cell_type": "code",
      "source": [
        "sns.displot(data=df, x='price', height=5, aspect=2)\n",
        "plt.show()"
      ],
      "metadata": {
        "id": "AJw9_cL9t2a8"
      },
      "execution_count": null,
      "outputs": []
    },
    {
      "cell_type": "code",
      "source": [
        "sns.displot(data=df, x='mileage', height=5, aspect=2)\n",
        "plt.xticks(rotation=90)\n",
        "plt.show()"
      ],
      "metadata": {
        "id": "dE0oU7-WuU3F"
      },
      "execution_count": null,
      "outputs": []
    },
    {
      "cell_type": "code",
      "source": [
        "sns.displot(data=df, x='price',hue='transmission',multiple='stack', height=5, aspect=2)\n",
        "plt.show()"
      ],
      "metadata": {
        "id": "t6z13VL2u-Nl"
      },
      "execution_count": null,
      "outputs": []
    },
    {
      "cell_type": "code",
      "source": [
        "sns.displot(data=df, x='price', col='transmission', height=5, aspect=2)\n",
        "plt.show()"
      ],
      "metadata": {
        "id": "4fh3CUaZvU3-"
      },
      "execution_count": null,
      "outputs": []
    },
    {
      "cell_type": "markdown",
      "source": [
        "### KDE - Kernel Density Estimation\n",
        "Qiymatlar taqsimotini baholashning yana bir usuli bu - KDE, tasodifiy qiymatlar zichligini ko'rsatuvchi grafik.\n",
        "KDE haqida to'liq ma'lumot: https://en.wikipedia.org/wiki/Kernel_density_estimation (rus tilida ham bor)\n",
        "\n",
        "KDE grafik uchun `displot` yoki maxsus `kdeplot` funksiylaridan foydalanishimiz mumkin:"
      ],
      "metadata": {
        "id": "0FmFNPHswy3B"
      }
    },
    {
      "cell_type": "code",
      "source": [
        "sns.displot(data=df, x='price', kind='kde', height=5, aspect=2)\n",
        "plt.show()"
      ],
      "metadata": {
        "id": "SMcjiwhKv0NM"
      },
      "execution_count": null,
      "outputs": []
    },
    {
      "cell_type": "code",
      "source": [
        "plt.figure(figsize=(8,4))\n",
        "sns.kdeplot(data=df, x='price', shade=True)\n",
        "plt.show()"
      ],
      "metadata": {
        "id": "tCGwwxtwxcJ6"
      },
      "execution_count": null,
      "outputs": []
    },
    {
      "cell_type": "code",
      "source": [
        "sns.displot(data=df, x='mileage', kde=True, height=4, aspect=2)\n",
        "plt.show()"
      ],
      "metadata": {
        "id": "kuo3J6XRxn2H"
      },
      "execution_count": null,
      "outputs": []
    },
    {
      "cell_type": "code",
      "source": [
        "plt.figure(figsize=(8,4))\n",
        "sns.kdeplot(data=df, x='price', hue='transmission', shade=True)\n",
        "plt.show()"
      ],
      "metadata": {
        "id": "AbhEpWQvyh_9"
      },
      "execution_count": null,
      "outputs": []
    },
    {
      "cell_type": "code",
      "source": [
        "plt.figure(figsize=(8,4))\n",
        "sns.displot(data=df, x='price', hue='fuelType', kind='kde')\n",
        "plt.xticks(rotation=90)\n",
        "plt.show()"
      ],
      "metadata": {
        "id": "L90O1Ar-zNQg"
      },
      "execution_count": null,
      "outputs": []
    },
    {
      "cell_type": "code",
      "source": [
        "plt.figure(figsize=(5,4))\n",
        "sns.displot(data=df, x='price', col='fuelType', kind='kde')\n",
        "plt.xticks(rotation=90)\n",
        "plt.show()"
      ],
      "metadata": {
        "id": "gl_mcHnJzSEY"
      },
      "execution_count": null,
      "outputs": []
    },
    {
      "cell_type": "markdown",
      "source": [
        "### Ikki o'lchamli (2D) KDE"
      ],
      "metadata": {
        "id": "3JuQENJk1LrT"
      }
    },
    {
      "cell_type": "code",
      "source": [
        "df.head()"
      ],
      "metadata": {
        "id": "8Mt_S7rT00zf"
      },
      "execution_count": null,
      "outputs": []
    },
    {
      "cell_type": "code",
      "source": [
        "sns.displot(data=df, x='price', y='year', kind='kde',height=5, aspect=2)\n",
        "plt.show()"
      ],
      "metadata": {
        "id": "j2pWEXbE1No5"
      },
      "execution_count": null,
      "outputs": []
    },
    {
      "cell_type": "code",
      "source": [
        "sns.kdeplot(data=df, x='price', y='year',height=5, aspect=2)\n",
        "plt.show()"
      ],
      "metadata": {
        "id": "AAT4OdQz1Zu8"
      },
      "execution_count": null,
      "outputs": []
    },
    {
      "cell_type": "markdown",
      "source": [
        "## CDF - cumulative distribution function\n",
        "Kumulyativ taqsimot funksiyasi - berilgan qiymatning ehtimolligini ko'rsatuvchi parametr.\n",
        "\n",
        "To'liq: https://en.wikipedia.org/wiki/Cumulative_distribution_function"
      ],
      "metadata": {
        "id": "P6jGwTMq16eh"
      }
    },
    {
      "cell_type": "code",
      "source": [
        "sns.displot(data=df, x='price', kind='ecdf', height=5, aspect=2)\n",
        "plt.grid(which='both') # setka (major, minor, both) qiymatlarini berib ko'ring\n",
        "plt.xticks(rotation=90)\n",
        "plt.minorticks_on()\n",
        "plt.show()"
      ],
      "metadata": {
        "id": "UIA5cmjY1o_I"
      },
      "execution_count": null,
      "outputs": []
    },
    {
      "cell_type": "code",
      "source": [
        "sns.displot(data=df, x='price', kind='ecdf', height=5, aspect=2)\n",
        "plt.grid(which='minor') # setka (major, minor, both) qiymatlarini berib ko'ring\n",
        "plt.minorticks_on()\n",
        "plt.xticks(rotation=90)\n",
        "plt.show()"
      ],
      "metadata": {
        "id": "phWxe1Ah2DUK"
      },
      "execution_count": null,
      "outputs": []
    },
    {
      "cell_type": "code",
      "source": [
        "sns.displot(data=df, x='price',hue='fuelType', kind='ecdf', height=5, aspect=2)\n",
        "plt.grid(which='major') # setka (major, minor, both) qiymatlarini berib ko'ring\n",
        "plt.xticks(rotation=90)\n",
        "plt.show()"
      ],
      "metadata": {
        "id": "FlrPK7nI2YH5"
      },
      "execution_count": null,
      "outputs": []
    },
    {
      "cell_type": "code",
      "source": [
        "sns.displot(data=df, x='mileage',hue='fuelType', kind='ecdf', height=5, aspect=2)\n",
        "plt.grid(which='major') # setka (major, minor, both) qiymatlarini berib ko'ring\n",
        "plt.xticks(rotation=90)\n",
        "plt.show()"
      ],
      "metadata": {
        "id": "vc5JYPG92bUa"
      },
      "execution_count": null,
      "outputs": []
    }
  ]
}