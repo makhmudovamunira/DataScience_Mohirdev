{
  "nbformat": 4,
  "nbformat_minor": 0,
  "metadata": {
    "colab": {
      "private_outputs": true,
      "provenance": [],
      "authorship_tag": "ABX9TyOPlk3oycmJS3l6q6Qmauoi",
      "include_colab_link": true
    },
    "kernelspec": {
      "name": "python3",
      "display_name": "Python 3"
    },
    "language_info": {
      "name": "python"
    }
  },
  "cells": [
    {
      "cell_type": "markdown",
      "metadata": {
        "id": "view-in-github",
        "colab_type": "text"
      },
      "source": [
        "<a href=\"https://colab.research.google.com/github/makhmudovamunira/DataScience_Mohirdev/blob/main/Seaborn.ipynb\" target=\"_parent\"><img src=\"https://colab.research.google.com/assets/colab-badge.svg\" alt=\"Open In Colab\"/></a>"
      ]
    },
    {
      "cell_type": "markdown",
      "source": [
        "`seaborn` `matplotlib` ustiga qurilgan kutubxonalardan bo'lib, grafiklar bilan ishlashni yana osonlashtiradi va muhimi chizmalarga ko'zga yoqadigan qilib chiroy beradi.\n",
        "![](https://i.imgur.com/54BoIBW.png)\n",
        "`seaborn` to'lqi dokumentasiya: https://seaborn.pydata.org/index.html"
      ],
      "metadata": {
        "id": "ZY_EJHU9ghRT"
      }
    },
    {
      "cell_type": "code",
      "execution_count": null,
      "metadata": {
        "id": "3o-6MKJ5gef8"
      },
      "outputs": [],
      "source": [
        "import pandas as pd\n",
        "import numpy as np"
      ]
    },
    {
      "cell_type": "code",
      "source": [
        "import matplotlib.pyplot as plt\n",
        "%matplotlib inline\n",
        "import seaborn as sns"
      ],
      "metadata": {
        "id": "9_SWWKWXgmYT"
      },
      "execution_count": null,
      "outputs": []
    },
    {
      "cell_type": "code",
      "source": [
        "df = pd.read_csv(\"https://github.com/anvarnarz/praktikum_datasets/raw/main/museum_visitors.csv\", index_col=0)\n",
        "df.head()"
      ],
      "metadata": {
        "id": "FzxHGs9VhU_j"
      },
      "execution_count": null,
      "outputs": []
    },
    {
      "cell_type": "code",
      "source": [
        "df.shape"
      ],
      "metadata": {
        "id": "9gPvOxuohY5Z"
      },
      "execution_count": null,
      "outputs": []
    },
    {
      "cell_type": "code",
      "source": [
        "sns.lineplot(data=df)\n",
        "plt.show()"
      ],
      "metadata": {
        "id": "YJ2OI3t4h3B2"
      },
      "execution_count": null,
      "outputs": []
    },
    {
      "cell_type": "code",
      "source": [
        "plt.plot(df)\n",
        "plt.show()"
      ],
      "metadata": {
        "id": "oSrD7MnoiBm4"
      },
      "execution_count": null,
      "outputs": []
    },
    {
      "cell_type": "code",
      "source": [
        "plt.figure(figsize=(16,8))\n",
        "plt.xlabel=('Sana')\n",
        "plt.ylabel=('Odamlar soni')\n",
        "plt.title('Muzeyga tashriflar soni')\n",
        "plt.xticks(rotation=90)\n",
        "sns.lineplot(df)\n",
        "plt.show()"
      ],
      "metadata": {
        "id": "jlFMKF3Fil72"
      },
      "execution_count": null,
      "outputs": []
    },
    {
      "cell_type": "code",
      "source": [
        "plt.figure(figsize=(12,6))\n",
        "plt.xticks(rotation=90)\n",
        "\n",
        "sns.lineplot(x=df.index, y=df['Chinese American Museum'])\n",
        "plt.show()"
      ],
      "metadata": {
        "id": "XYnwN0RBjPeS"
      },
      "execution_count": null,
      "outputs": []
    },
    {
      "cell_type": "code",
      "source": [
        "plt.figure(figsize=(12,6))\n",
        "plt.title('Muzeyga tashrif buyuruvchilar soni')\n",
        "plt.xlabel(\"Sana\")\n",
        "plt.ylabel('Odamlar')\n",
        "plt.xticks(rotation=90)\n",
        "sns.lineplot(data=df[['Avila Adobe','Chinese American Museum']])\n",
        "plt.show()"
      ],
      "metadata": {
        "id": "D6B1MzU0kIhV"
      },
      "execution_count": null,
      "outputs": []
    },
    {
      "cell_type": "code",
      "source": [],
      "metadata": {
        "id": "thPVdIDim4bZ"
      },
      "execution_count": null,
      "outputs": []
    }
  ]
}