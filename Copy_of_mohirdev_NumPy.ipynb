{
  "cells": [
    {
      "cell_type": "markdown",
      "metadata": {
        "id": "view-in-github",
        "colab_type": "text"
      },
      "source": [
        "<a href=\"https://colab.research.google.com/github/makhmudovamunira/DataScience_Mohirdev/blob/main/Copy_of_mohirdev_NumPy.ipynb\" target=\"_parent\"><img src=\"https://colab.research.google.com/assets/colab-badge.svg\" alt=\"Open In Colab\"/></a>"
      ]
    },
    {
      "cell_type": "markdown",
      "id": "bf79c78b",
      "metadata": {
        "id": "bf79c78b"
      },
      "source": [
        "# NumPy kutubxonasiga doir bilimlaringizni mustaxkamlash uchun mashqlar\n",
        "\n",
        "Hurmatli o'quvchi, bilimingizni yanada mustaxkamlashingiz va chuqurroq ko'nikmalarga ega bo'lishingiz uchun sizga topshiriqlar tayyorladik. Sizga yengillik yaratish maqsadida topshiriqni aynan qanday funksiyalar yordamida amalga oshirishingiz mumkin ekanini\n",
        " `💡Ishora` ko'rinishida yozdik!"
      ]
    },
    {
      "cell_type": "markdown",
      "id": "017db353",
      "metadata": {
        "id": "017db353"
      },
      "source": [
        "#### 1. NumPy kutubxonasini `np` nomi ostida yuklang va numpy kutubxonasini chop eting.\n",
        "\n",
        "versiya va konfiguratsiyani tekshiring.\n"
      ]
    },
    {
      "cell_type": "markdown",
      "source": [
        "`💡Ishora` import … as` and `np.__version__, np.show_config"
      ],
      "metadata": {
        "id": "e28779fe"
      },
      "id": "e28779fe"
    },
    {
      "cell_type": "code",
      "source": [
        "import numpy as np"
      ],
      "metadata": {
        "id": "_pCbn1ieI3u9"
      },
      "id": "_pCbn1ieI3u9",
      "execution_count": 2,
      "outputs": []
    },
    {
      "cell_type": "markdown",
      "id": "46950f4f",
      "metadata": {
        "id": "46950f4f"
      },
      "source": [
        "#### 2. Raqamli qiymatlar ro'yxatini bir o'lchovli NumPy massiviga aylantiring!"
      ]
    },
    {
      "cell_type": "markdown",
      "source": [
        "`💡Ishora` numpy.array"
      ],
      "metadata": {
        "id": "9b0e875f"
      },
      "id": "9b0e875f"
    },
    {
      "cell_type": "code",
      "source": [
        "data=[1,2,3,4]\n",
        "arr=np.array(data)\n",
        "arr"
      ],
      "metadata": {
        "id": "dgnzjeT3JCi4",
        "colab": {
          "base_uri": "https://localhost:8080/"
        },
        "outputId": "aad65eb1-3eb6-4c70-b245-a011c2a653b0"
      },
      "id": "dgnzjeT3JCi4",
      "execution_count": null,
      "outputs": [
        {
          "output_type": "execute_result",
          "data": {
            "text/plain": [
              "array([1, 2, 3, 4])"
            ]
          },
          "metadata": {},
          "execution_count": 3
        }
      ]
    },
    {
      "cell_type": "markdown",
      "id": "e3c20b3d",
      "metadata": {
        "id": "e3c20b3d"
      },
      "source": [
        "#### 3. Qiymatlari noldan iborat bo'lgan to'qqiz o'lchovli massiv yarating.\n",
        "\n"
      ]
    },
    {
      "cell_type": "markdown",
      "source": [
        "`💡Ishora` np.zeros"
      ],
      "metadata": {
        "id": "96d0b63e"
      },
      "id": "96d0b63e"
    },
    {
      "cell_type": "code",
      "source": [
        "arr9d=np.zeros((2,2,2,2,2,2,2,2,2))"
      ],
      "metadata": {
        "id": "gTAHehDT0S6Y"
      },
      "id": "gTAHehDT0S6Y",
      "execution_count": null,
      "outputs": []
    },
    {
      "cell_type": "markdown",
      "id": "b15a879f",
      "metadata": {
        "id": "b15a879f"
      },
      "source": [
        "#### 4. Massiv yarating va uning xotira hajmini toping.\n",
        "\n"
      ]
    },
    {
      "cell_type": "markdown",
      "source": [
        "`💡Ishora` size, itemsize"
      ],
      "metadata": {
        "id": "32f9025c"
      },
      "id": "32f9025c"
    },
    {
      "cell_type": "code",
      "source": [
        "arrs=np.array([1,2,3,4])\n",
        "arrs.itemsize"
      ],
      "metadata": {
        "id": "MZxcJM_oJOTs",
        "colab": {
          "base_uri": "https://localhost:8080/"
        },
        "outputId": "127802f0-d47c-433c-a09f-b2f802e68390"
      },
      "id": "MZxcJM_oJOTs",
      "execution_count": null,
      "outputs": [
        {
          "output_type": "execute_result",
          "data": {
            "text/plain": [
              "8"
            ]
          },
          "metadata": {},
          "execution_count": 10
        }
      ]
    },
    {
      "cell_type": "markdown",
      "id": "0a708990",
      "metadata": {
        "id": "0a708990"
      },
      "source": [
        "#### 5. NumPy kutubxonasidagi add funksiyasi hujjatlarini buyruq satridan qanday olishi mumkin?\n"
      ]
    },
    {
      "cell_type": "markdown",
      "source": [
        "`💡Ishora` np.info"
      ],
      "metadata": {
        "id": "d254eea5"
      },
      "id": "d254eea5"
    },
    {
      "cell_type": "code",
      "source": [
        "np.info(np.add)"
      ],
      "metadata": {
        "id": "m7nA_vYsJVUi",
        "colab": {
          "base_uri": "https://localhost:8080/"
        },
        "outputId": "ffa66e5d-bfd2-40ff-b24f-d2ecb9297246"
      },
      "id": "m7nA_vYsJVUi",
      "execution_count": null,
      "outputs": [
        {
          "output_type": "stream",
          "name": "stdout",
          "text": [
            "add(x1, x2, /, out=None, *, where=True, casting='same_kind', order='K', dtype=None, subok=True[, signature, extobj])\n",
            "\n",
            "Add arguments element-wise.\n",
            "\n",
            "Parameters\n",
            "----------\n",
            "x1, x2 : array_like\n",
            "    The arrays to be added.\n",
            "    If ``x1.shape != x2.shape``, they must be broadcastable to a common\n",
            "    shape (which becomes the shape of the output).\n",
            "out : ndarray, None, or tuple of ndarray and None, optional\n",
            "    A location into which the result is stored. If provided, it must have\n",
            "    a shape that the inputs broadcast to. If not provided or None,\n",
            "    a freshly-allocated array is returned. A tuple (possible only as a\n",
            "    keyword argument) must have length equal to the number of outputs.\n",
            "where : array_like, optional\n",
            "    This condition is broadcast over the input. At locations where the\n",
            "    condition is True, the `out` array will be set to the ufunc result.\n",
            "    Elsewhere, the `out` array will retain its original value.\n",
            "    Note that if an uninitialized `out` array is created via the default\n",
            "    ``out=None``, locations within it where the condition is False will\n",
            "    remain uninitialized.\n",
            "**kwargs\n",
            "    For other keyword-only arguments, see the\n",
            "    :ref:`ufunc docs <ufuncs.kwargs>`.\n",
            "\n",
            "Returns\n",
            "-------\n",
            "add : ndarray or scalar\n",
            "    The sum of `x1` and `x2`, element-wise.\n",
            "    This is a scalar if both `x1` and `x2` are scalars.\n",
            "\n",
            "Notes\n",
            "-----\n",
            "Equivalent to `x1` + `x2` in terms of array broadcasting.\n",
            "\n",
            "Examples\n",
            "--------\n",
            ">>> np.add(1.0, 4.0)\n",
            "5.0\n",
            ">>> x1 = np.arange(9.0).reshape((3, 3))\n",
            ">>> x2 = np.arange(3.0)\n",
            ">>> np.add(x1, x2)\n",
            "array([[  0.,   2.,   4.],\n",
            "       [  3.,   5.,   7.],\n",
            "       [  6.,   8.,  10.]])\n",
            "\n",
            "The ``+`` operator can be used as a shorthand for ``np.add`` on ndarrays.\n",
            "\n",
            ">>> x1 = np.arange(9.0).reshape((3, 3))\n",
            ">>> x2 = np.arange(3.0)\n",
            ">>> x1 + x2\n",
            "array([[ 0.,  2.,  4.],\n",
            "       [ 3.,  5.,  7.],\n",
            "       [ 6.,  8., 10.]])\n"
          ]
        }
      ]
    },
    {
      "cell_type": "markdown",
      "id": "0b16cd77",
      "metadata": {
        "id": "0b16cd77"
      },
      "source": [
        "#### 6. Shunday vekor yaratingki u o'n ikki o'lchamda va qiymatlari noldan iborat bo'lsin, lekin vektorning oltinchi qiymati 1 ga teng bo'lsin.\n",
        "\n"
      ]
    },
    {
      "cell_type": "markdown",
      "source": [
        "`💡Ishora` array[12]"
      ],
      "metadata": {
        "id": "05223560"
      },
      "id": "05223560"
    },
    {
      "cell_type": "code",
      "source": [
        "vektor=np.zeros(12)\n",
        "vektor[5]=1\n",
        "vektor"
      ],
      "metadata": {
        "id": "UJfYDNQoJc7M",
        "colab": {
          "base_uri": "https://localhost:8080/"
        },
        "outputId": "6117fb30-1413-4f7a-d330-8716a4bda921"
      },
      "id": "UJfYDNQoJc7M",
      "execution_count": null,
      "outputs": [
        {
          "output_type": "execute_result",
          "data": {
            "text/plain": [
              "array([0., 0., 0., 0., 0., 1., 0., 0., 0., 0., 0., 0.])"
            ]
          },
          "metadata": {},
          "execution_count": 13
        }
      ]
    },
    {
      "cell_type": "markdown",
      "id": "782d4c77",
      "metadata": {
        "id": "782d4c77"
      },
      "source": [
        "#### 7. Qiymatlari 20 dan 59 gacha bo'lgan vektor yarating.\n",
        "\n"
      ]
    },
    {
      "cell_type": "markdown",
      "source": [
        "`💡Ishora` arange"
      ],
      "metadata": {
        "id": "7250d114"
      },
      "id": "7250d114"
    },
    {
      "cell_type": "code",
      "source": [
        "vektor1=np.arange(20,60)\n",
        "vektor1"
      ],
      "metadata": {
        "id": "fSaWkGakJhwz",
        "colab": {
          "base_uri": "https://localhost:8080/"
        },
        "outputId": "1849de45-2d27-49fc-de60-55e313413dca"
      },
      "id": "fSaWkGakJhwz",
      "execution_count": null,
      "outputs": [
        {
          "output_type": "execute_result",
          "data": {
            "text/plain": [
              "array([20, 21, 22, 23, 24, 25, 26, 27, 28, 29, 30, 31, 32, 33, 34, 35, 36,\n",
              "       37, 38, 39, 40, 41, 42, 43, 44, 45, 46, 47, 48, 49, 50, 51, 52, 53,\n",
              "       54, 55, 56, 57, 58, 59])"
            ]
          },
          "metadata": {},
          "execution_count": 14
        }
      ]
    },
    {
      "cell_type": "markdown",
      "id": "48d48f01",
      "metadata": {
        "id": "48d48f01"
      },
      "source": [
        "#### 8. Vektor yarating va uni teskari o'zgartiring\n",
        "(birinchi element oxirgisi bo'lsin)\n",
        "\n"
      ]
    },
    {
      "cell_type": "markdown",
      "source": [
        "`💡Ishora` array[::-1]"
      ],
      "metadata": {
        "id": "fb702ae0"
      },
      "id": "fb702ae0"
    },
    {
      "cell_type": "code",
      "source": [
        "vektor2=np.random.randn(10)\n",
        "vektor2"
      ],
      "metadata": {
        "id": "GCP6vp_WJrON",
        "colab": {
          "base_uri": "https://localhost:8080/"
        },
        "outputId": "2a83c800-c455-4465-f114-7d39f3a7b305"
      },
      "id": "GCP6vp_WJrON",
      "execution_count": null,
      "outputs": [
        {
          "output_type": "execute_result",
          "data": {
            "text/plain": [
              "array([ 0.06847923, -0.36545968,  0.2517637 , -1.08980178,  1.24631001,\n",
              "        0.076146  , -0.77548287, -0.97990112,  0.42436175, -0.25170609])"
            ]
          },
          "metadata": {},
          "execution_count": 19
        }
      ]
    },
    {
      "cell_type": "code",
      "source": [
        "vektor2[::-1]"
      ],
      "metadata": {
        "colab": {
          "base_uri": "https://localhost:8080/"
        },
        "id": "zA7Dlckv2oXH",
        "outputId": "b858ace8-3c2e-48e9-a1bd-2dec286e7ce4"
      },
      "id": "zA7Dlckv2oXH",
      "execution_count": null,
      "outputs": [
        {
          "output_type": "execute_result",
          "data": {
            "text/plain": [
              "array([-0.25170609,  0.42436175, -0.97990112, -0.77548287,  0.076146  ,\n",
              "        1.24631001, -1.08980178,  0.2517637 , -0.36545968,  0.06847923])"
            ]
          },
          "metadata": {},
          "execution_count": 21
        }
      ]
    },
    {
      "cell_type": "markdown",
      "id": "4fa39382",
      "metadata": {
        "id": "4fa39382"
      },
      "source": [
        "#### 9. 12 dan 20 gacha bo'lgan qiymatlarga ega 3x3 matritsa yarating.\n"
      ]
    },
    {
      "cell_type": "code",
      "source": [
        "elements=np.arange(12,21)\n",
        "arr3=elements.reshape(3,3)\n",
        "arr3"
      ],
      "metadata": {
        "colab": {
          "base_uri": "https://localhost:8080/"
        },
        "id": "K-Bx1znX17if",
        "outputId": "34ccb27c-9114-4e05-c523-777dc47e4aa3"
      },
      "id": "K-Bx1znX17if",
      "execution_count": null,
      "outputs": [
        {
          "output_type": "execute_result",
          "data": {
            "text/plain": [
              "array([[12, 13, 14],\n",
              "       [15, 16, 17],\n",
              "       [18, 19, 20]])"
            ]
          },
          "metadata": {},
          "execution_count": 27
        }
      ]
    },
    {
      "cell_type": "markdown",
      "id": "da64551a",
      "metadata": {
        "id": "da64551a"
      },
      "source": [
        "#### 10. Quyidagi matritsadan foydalanib nolga teng bo'lmagan elementlarning indekslarini toping.\n",
        "[3, 7, 0, 0, 9, 0]\n",
        "\n",
        "\n",
        "\n"
      ]
    },
    {
      "cell_type": "markdown",
      "source": [
        "`💡Ishora` np.nonzero"
      ],
      "metadata": {
        "id": "322b2b68"
      },
      "id": "322b2b68"
    },
    {
      "cell_type": "code",
      "source": [
        "arr=np.array([3,7,0,0,9,0])\n",
        "x=0\n",
        "ls=[]\n",
        "for i in arr:\n",
        "  if i!=0:\n",
        "    ls.append(x)\n",
        "  x=x+1\n",
        "ls"
      ],
      "metadata": {
        "id": "fNIuSyBaJ4OP",
        "colab": {
          "base_uri": "https://localhost:8080/"
        },
        "outputId": "53c784d5-84dd-4eb1-946e-dfd87305ee8f"
      },
      "id": "fNIuSyBaJ4OP",
      "execution_count": null,
      "outputs": [
        {
          "output_type": "execute_result",
          "data": {
            "text/plain": [
              "[0, 1, 4]"
            ]
          },
          "metadata": {},
          "execution_count": 40
        }
      ]
    },
    {
      "cell_type": "markdown",
      "id": "f89d9c9e",
      "metadata": {
        "id": "f89d9c9e"
      },
      "source": [
        "#### 11. Tasodifiy qiymatlar bilan 2x2x2 o'lchovidagi massiv yarating.\n"
      ]
    },
    {
      "cell_type": "markdown",
      "source": [
        "`💡Ishora` np.random.random"
      ],
      "metadata": {
        "id": "5717e1c1"
      },
      "id": "5717e1c1"
    },
    {
      "cell_type": "code",
      "source": [
        "from numpy.random import default_rng\n",
        "default_rng(42).random((2,2,2))"
      ],
      "metadata": {
        "id": "bHloeqHOKuiX",
        "colab": {
          "base_uri": "https://localhost:8080/"
        },
        "outputId": "91e92395-e11e-4768-a9a4-808ea55ad3bf"
      },
      "id": "bHloeqHOKuiX",
      "execution_count": null,
      "outputs": [
        {
          "output_type": "execute_result",
          "data": {
            "text/plain": [
              "array([[[0.77395605, 0.43887844],\n",
              "        [0.85859792, 0.69736803]],\n",
              "\n",
              "       [[0.09417735, 0.97562235],\n",
              "        [0.7611397 , 0.78606431]]])"
            ]
          },
          "metadata": {},
          "execution_count": 51
        }
      ]
    },
    {
      "cell_type": "markdown",
      "id": "13c5928c",
      "metadata": {
        "id": "13c5928c"
      },
      "source": [
        "#### 12. Tasodifiy sonlardan tashkil topgan 9X9 o'lchamidagi massiv yarating. So'ng uning eng katta va eng kichik qiymatlarini toping\n"
      ]
    },
    {
      "cell_type": "markdown",
      "source": [
        "`💡Ishora` min, max"
      ],
      "metadata": {
        "id": "0ede4d26"
      },
      "id": "0ede4d26"
    },
    {
      "cell_type": "code",
      "source": [
        "arr99=np.random.random((9,9))\n",
        "arr99"
      ],
      "metadata": {
        "id": "OJiVa5K9LJyb",
        "colab": {
          "base_uri": "https://localhost:8080/"
        },
        "outputId": "8d84371e-7c0f-4606-e21c-47466e4bcfcb"
      },
      "id": "OJiVa5K9LJyb",
      "execution_count": null,
      "outputs": [
        {
          "output_type": "execute_result",
          "data": {
            "text/plain": [
              "array([[0.87152485, 0.533338  , 0.51622785, 0.65661381, 0.62979847,\n",
              "        0.93108953, 0.11139395, 0.68909303, 0.45259508],\n",
              "       [0.62534476, 0.29532437, 0.13722675, 0.86676883, 0.11976609,\n",
              "        0.21449236, 0.74639418, 0.48814879, 0.79928862],\n",
              "       [0.91171104, 0.56016753, 0.29649608, 0.95272425, 0.32298655,\n",
              "        0.25494213, 0.36740582, 0.61259589, 0.50005472],\n",
              "       [0.17415205, 0.3120092 , 0.39758939, 0.42138342, 0.69909975,\n",
              "        0.3767799 , 0.16512868, 0.74695369, 0.41676927],\n",
              "       [0.69175907, 0.86883198, 0.28271849, 0.78911709, 0.26458573,\n",
              "        0.29542403, 0.58651029, 0.79288108, 0.29484708],\n",
              "       [0.62277481, 0.07611992, 0.04844072, 0.08787911, 0.64319439,\n",
              "        0.86692126, 0.12946765, 0.30654383, 0.22092921],\n",
              "       [0.59626949, 0.8890247 , 0.21496966, 0.48272518, 0.73924705,\n",
              "        0.10127711, 0.51250602, 0.5904259 , 0.33064908],\n",
              "       [0.12805153, 0.98518445, 0.37464798, 0.56838033, 0.37165346,\n",
              "        0.05965235, 0.61098742, 0.12418542, 0.08273466],\n",
              "       [0.2143164 , 0.8381961 , 0.5865847 , 0.61920503, 0.50473082,\n",
              "        0.57409842, 0.53510042, 0.26820903, 0.16312668]])"
            ]
          },
          "metadata": {},
          "execution_count": 54
        }
      ]
    },
    {
      "cell_type": "code",
      "source": [
        "np.min(arr99)"
      ],
      "metadata": {
        "colab": {
          "base_uri": "https://localhost:8080/"
        },
        "id": "WfsXOHGxTWsz",
        "outputId": "c08e65c8-ccf6-4618-9fd4-9b044c269bd5"
      },
      "id": "WfsXOHGxTWsz",
      "execution_count": null,
      "outputs": [
        {
          "output_type": "execute_result",
          "data": {
            "text/plain": [
              "0.04844072119707743"
            ]
          },
          "metadata": {},
          "execution_count": 55
        }
      ]
    },
    {
      "cell_type": "code",
      "source": [
        "np.max(arr99)"
      ],
      "metadata": {
        "colab": {
          "base_uri": "https://localhost:8080/"
        },
        "id": "387Ri6qLTiFm",
        "outputId": "85bb9b77-c99a-4409-8e13-4df6e11b4704"
      },
      "id": "387Ri6qLTiFm",
      "execution_count": null,
      "outputs": [
        {
          "output_type": "execute_result",
          "data": {
            "text/plain": [
              "0.9851844517422083"
            ]
          },
          "metadata": {},
          "execution_count": 56
        }
      ]
    },
    {
      "cell_type": "markdown",
      "id": "3fa2e461",
      "metadata": {
        "id": "3fa2e461"
      },
      "source": [
        "#### 13. Quyidagi misol qanday natija beradi?\n",
        "\n",
        "\n",
        "```python\n",
        "0 * np.nan\n",
        "np.nan == np.nan\n",
        "np.inf > np.nan\n",
        "np.nan - np.nan\n",
        "np.nan in set([np.nan])\n",
        "0.7 == 7 * 0.1\n",
        "```\n"
      ]
    },
    {
      "cell_type": "markdown",
      "source": [
        "`💡Ishora` NaN = not a number, inf = infinity"
      ],
      "metadata": {
        "id": "c0048e59"
      },
      "id": "c0048e59"
    },
    {
      "cell_type": "code",
      "source": [
        "0 * np.nan\n",
        "np.nan == np.nan\n",
        "np.inf > np.nan\n",
        "np.nan - np.nan\n",
        "np.nan in set([np.nan])\n",
        "0.7 == 7 * 0.1"
      ],
      "metadata": {
        "id": "Thbqd_RCLf_e",
        "colab": {
          "base_uri": "https://localhost:8080/"
        },
        "outputId": "ca38af6e-fb44-4b16-e39c-ccce032806bf"
      },
      "id": "Thbqd_RCLf_e",
      "execution_count": null,
      "outputs": [
        {
          "output_type": "execute_result",
          "data": {
            "text/plain": [
              "False"
            ]
          },
          "metadata": {},
          "execution_count": 65
        }
      ]
    },
    {
      "cell_type": "markdown",
      "id": "73f7a549",
      "metadata": {
        "id": "73f7a549"
      },
      "source": [
        "#### 14. O'lchamlari 6x3 va 3x4 bo'lgan martitsa yarating, so'ng ularning  ko'paytmasini hisoblang.\n",
        "\n"
      ]
    },
    {
      "cell_type": "markdown",
      "source": [
        "`💡Ishora` np.dot` or `np.ones"
      ],
      "metadata": {
        "id": "351ff928"
      },
      "id": "351ff928"
    },
    {
      "cell_type": "code",
      "source": [
        "arr141=np.random.random((6,3))\n",
        "arr142=np.random.random((3,4))\n",
        "arr141.dot(arr142)"
      ],
      "metadata": {
        "id": "e_5QUFcPLtVX",
        "colab": {
          "base_uri": "https://localhost:8080/"
        },
        "outputId": "55b05d95-967f-4528-e142-8c943ed1acd1"
      },
      "id": "e_5QUFcPLtVX",
      "execution_count": null,
      "outputs": [
        {
          "output_type": "execute_result",
          "data": {
            "text/plain": [
              "array([[1.02643172, 1.28856403, 0.861596  , 1.21819943],\n",
              "       [0.9696224 , 1.05289104, 0.97727554, 1.04428987],\n",
              "       [1.17340655, 1.35095715, 1.13414521, 1.28697704],\n",
              "       [0.64033156, 0.56586106, 0.81723632, 0.56454968],\n",
              "       [0.91442804, 0.82003866, 1.14057797, 0.82788727],\n",
              "       [0.77899898, 0.91508985, 0.76050242, 0.84168612]])"
            ]
          },
          "metadata": {},
          "execution_count": 70
        }
      ]
    },
    {
      "cell_type": "markdown",
      "id": "6d0c506f",
      "metadata": {
        "id": "6d0c506f"
      },
      "source": [
        "#### 15. Quyidagi misol qanday natija beradi?\n",
        "\n",
        "```python\n",
        "print(sum(range(5),-1))\n",
        "from numpy import *\n",
        "print(sum(range(5),-1))\n",
        "```"
      ]
    },
    {
      "cell_type": "code",
      "execution_count": null,
      "id": "c1cc1143",
      "metadata": {
        "id": "c1cc1143",
        "colab": {
          "base_uri": "https://localhost:8080/"
        },
        "outputId": "845935c0-8ffd-443d-d252-53b866332bed"
      },
      "outputs": [
        {
          "output_type": "stream",
          "name": "stdout",
          "text": [
            "9\n"
          ]
        }
      ],
      "source": [
        "print(sum(range(5),-1))"
      ]
    },
    {
      "cell_type": "code",
      "source": [
        "from numpy import *\n",
        "print(sum(range(5),-1))"
      ],
      "metadata": {
        "colab": {
          "base_uri": "https://localhost:8080/"
        },
        "id": "8Ywp97F7V-vc",
        "outputId": "4224eed4-cdbe-4504-bad4-40e4f7a18458"
      },
      "id": "8Ywp97F7V-vc",
      "execution_count": null,
      "outputs": [
        {
          "output_type": "execute_result",
          "data": {
            "text/plain": [
              "array([], dtype=int64)"
            ]
          },
          "metadata": {},
          "execution_count": 81
        }
      ]
    },
    {
      "cell_type": "markdown",
      "id": "d6ad1a9f",
      "metadata": {
        "id": "d6ad1a9f"
      },
      "source": [
        "#### 16. NumPy kutubxonasi yordamida ikkita massivni solishtiring va ular usida quyidagi amallarni bajaring.\n",
        "\n",
        "```python\n",
        "Array a: [1 2]\n",
        "Array b: [4 5]\n",
        "a > b\n",
        "[False False]\n",
        "a >= b\n",
        "[False False]\n",
        "a < b\n",
        "[ True True]\n",
        "a <= b\n",
        "[ True True]\n",
        "```"
      ]
    },
    {
      "cell_type": "code",
      "execution_count": null,
      "id": "7ba3c441",
      "metadata": {
        "id": "7ba3c441"
      },
      "outputs": [],
      "source": [
        "arr161=np.random.random(4)\n",
        "arr162=np.random.random(4)"
      ]
    },
    {
      "cell_type": "code",
      "source": [
        "arr161"
      ],
      "metadata": {
        "colab": {
          "base_uri": "https://localhost:8080/"
        },
        "id": "SZzT6ESiiFPo",
        "outputId": "4361688f-f87a-4eea-fde6-32e1fe1f9c3a"
      },
      "id": "SZzT6ESiiFPo",
      "execution_count": null,
      "outputs": [
        {
          "output_type": "execute_result",
          "data": {
            "text/plain": [
              "array([0.99231678, 0.72961273, 0.32799908, 0.69938518])"
            ]
          },
          "metadata": {},
          "execution_count": 84
        }
      ]
    },
    {
      "cell_type": "code",
      "source": [
        "arr162"
      ],
      "metadata": {
        "colab": {
          "base_uri": "https://localhost:8080/"
        },
        "id": "_h0dyDUriHE1",
        "outputId": "2b299b12-dbfd-4d9d-fdc8-39f1396b2dc8"
      },
      "id": "_h0dyDUriHE1",
      "execution_count": null,
      "outputs": [
        {
          "output_type": "execute_result",
          "data": {
            "text/plain": [
              "array([0.84718731, 0.33435452, 0.76246203, 0.9239643 ])"
            ]
          },
          "metadata": {},
          "execution_count": 85
        }
      ]
    },
    {
      "cell_type": "code",
      "source": [
        "arr161>arr162"
      ],
      "metadata": {
        "colab": {
          "base_uri": "https://localhost:8080/"
        },
        "id": "KOmmVs5eiA0n",
        "outputId": "9b561e30-6d5d-412d-aabc-be5418c3ee67"
      },
      "id": "KOmmVs5eiA0n",
      "execution_count": null,
      "outputs": [
        {
          "output_type": "execute_result",
          "data": {
            "text/plain": [
              "array([ True,  True, False, False])"
            ]
          },
          "metadata": {},
          "execution_count": 83
        }
      ]
    },
    {
      "cell_type": "code",
      "source": [
        "arr161>=arr162"
      ],
      "metadata": {
        "colab": {
          "base_uri": "https://localhost:8080/"
        },
        "id": "fyaHXhCCiLLM",
        "outputId": "04129de6-5697-4c6b-a655-386d922f58fe"
      },
      "id": "fyaHXhCCiLLM",
      "execution_count": null,
      "outputs": [
        {
          "output_type": "execute_result",
          "data": {
            "text/plain": [
              "array([ True,  True, False, False])"
            ]
          },
          "metadata": {},
          "execution_count": 86
        }
      ]
    },
    {
      "cell_type": "code",
      "source": [
        "arr161<arr162"
      ],
      "metadata": {
        "colab": {
          "base_uri": "https://localhost:8080/"
        },
        "id": "kf1397ZgiQUV",
        "outputId": "0a0cef59-8257-470c-911d-f126a1080fb8"
      },
      "id": "kf1397ZgiQUV",
      "execution_count": null,
      "outputs": [
        {
          "output_type": "execute_result",
          "data": {
            "text/plain": [
              "array([False, False,  True,  True])"
            ]
          },
          "metadata": {},
          "execution_count": 87
        }
      ]
    },
    {
      "cell_type": "code",
      "source": [
        "arr161<=arr162"
      ],
      "metadata": {
        "colab": {
          "base_uri": "https://localhost:8080/"
        },
        "id": "sGiKIjNLiQX7",
        "outputId": "a926956e-86dc-40cd-c0cd-e02fb7f04bcc"
      },
      "id": "sGiKIjNLiQX7",
      "execution_count": null,
      "outputs": [
        {
          "output_type": "execute_result",
          "data": {
            "text/plain": [
              "array([False, False,  True,  True])"
            ]
          },
          "metadata": {},
          "execution_count": 88
        }
      ]
    },
    {
      "cell_type": "markdown",
      "id": "e3a7ba7f",
      "metadata": {
        "id": "e3a7ba7f"
      },
      "source": [
        "#### 17. Quyidagi misol qanday natija beradi?\n",
        "\n",
        "```python\n",
        "np.array(0) / np.array(0)\n",
        "np.array(0) // np.array(0)\n",
        "np.array([np.nan]).astype(int).astype(float)\n",
        "```"
      ]
    },
    {
      "cell_type": "code",
      "source": [
        "np.array(0) / np.array(0)"
      ],
      "metadata": {
        "colab": {
          "base_uri": "https://localhost:8080/"
        },
        "id": "6R5LKCvkh_4Q",
        "outputId": "c948546d-7a1e-4d68-f547-633b1f063588"
      },
      "id": "6R5LKCvkh_4Q",
      "execution_count": null,
      "outputs": [
        {
          "output_type": "stream",
          "name": "stderr",
          "text": [
            "<ipython-input-89-3585dcb7ab9b>:1: RuntimeWarning: invalid value encountered in divide\n",
            "  np.array(0) / np.array(0)\n"
          ]
        },
        {
          "output_type": "execute_result",
          "data": {
            "text/plain": [
              "nan"
            ]
          },
          "metadata": {},
          "execution_count": 89
        }
      ]
    },
    {
      "cell_type": "code",
      "execution_count": null,
      "id": "b874734e",
      "metadata": {
        "id": "b874734e",
        "colab": {
          "base_uri": "https://localhost:8080/"
        },
        "outputId": "e9260904-d41d-490e-e7c7-c52d0e7f1d19"
      },
      "outputs": [
        {
          "output_type": "stream",
          "name": "stderr",
          "text": [
            "<ipython-input-91-cd809174da5d>:1: RuntimeWarning: invalid value encountered in divide\n",
            "  np.array(0) / np.array(0)\n",
            "<ipython-input-91-cd809174da5d>:2: RuntimeWarning: divide by zero encountered in floor_divide\n",
            "  np.array(0) // np.array(0)\n",
            "<ipython-input-91-cd809174da5d>:3: RuntimeWarning: invalid value encountered in cast\n",
            "  np.array([np.nan]).astype(int).astype(float)\n"
          ]
        },
        {
          "output_type": "execute_result",
          "data": {
            "text/plain": [
              "array([-9.22337204e+18])"
            ]
          },
          "metadata": {},
          "execution_count": 91
        }
      ],
      "source": [
        "np.array(0) / np.array(0)\n",
        "np.array(0) // np.array(0)\n",
        "np.array([np.nan]).astype(int).astype(float)"
      ]
    },
    {
      "cell_type": "markdown",
      "id": "6d17ab5d",
      "metadata": {
        "id": "6d17ab5d"
      },
      "source": [
        "#### 18. Ikkita massiv yarating va ular orasidagi umumiy qiymatlarni toping\n"
      ]
    },
    {
      "cell_type": "markdown",
      "source": [
        "`💡Ishora` np.intersect1d"
      ],
      "metadata": {
        "id": "4c4e2c5e"
      },
      "id": "4c4e2c5e"
    },
    {
      "cell_type": "code",
      "source": [
        "arr171=np.array([1,2,3,4,5,6])\n",
        "arr172=np.array([4,5,6,7,8,9])\n",
        "np.intersect1d(arr171,arr172)"
      ],
      "metadata": {
        "id": "Dxz5P8WpMeAP",
        "colab": {
          "base_uri": "https://localhost:8080/"
        },
        "outputId": "a941c15c-6bcd-4ab3-c8b6-0736a294573b"
      },
      "id": "Dxz5P8WpMeAP",
      "execution_count": null,
      "outputs": [
        {
          "output_type": "execute_result",
          "data": {
            "text/plain": [
              "array([4, 5, 6])"
            ]
          },
          "metadata": {},
          "execution_count": 92
        }
      ]
    },
    {
      "cell_type": "markdown",
      "id": "8837119b",
      "metadata": {
        "id": "8837119b"
      },
      "source": [
        "#### 19. Tasodifiy sonlardan iborat bo'lgan massiv yarating, so'ng ularni quyida berilgan 4 xil usul yordamida musbat sonlarning butun qismini ajratib oling."
      ]
    },
    {
      "cell_type": "markdown",
      "source": [
        "`💡Ishora` %, np.floor, astype, np.trunc"
      ],
      "metadata": {
        "id": "2b05c544"
      },
      "id": "2b05c544"
    },
    {
      "cell_type": "code",
      "source": [
        "arr191=np.random.uniform(1,10,size=5)\n",
        "arr191"
      ],
      "metadata": {
        "id": "jc6wN5WWMpS3",
        "colab": {
          "base_uri": "https://localhost:8080/"
        },
        "outputId": "b7e8ba31-3a32-4d81-dfb1-ae1852c2f700"
      },
      "id": "jc6wN5WWMpS3",
      "execution_count": null,
      "outputs": [
        {
          "output_type": "execute_result",
          "data": {
            "text/plain": [
              "array([4.64461421, 9.26018427, 9.38548569, 6.04836575, 5.86003197])"
            ]
          },
          "metadata": {},
          "execution_count": 99
        }
      ]
    },
    {
      "cell_type": "code",
      "source": [
        "ls=[(x-(x%1))  for x in arr191 if x>0]\n",
        "ls"
      ],
      "metadata": {
        "colab": {
          "base_uri": "https://localhost:8080/"
        },
        "id": "DrlUU1y_j2_Q",
        "outputId": "13de612f-048d-4094-c080-f5dcbca7eb2d"
      },
      "id": "DrlUU1y_j2_Q",
      "execution_count": null,
      "outputs": [
        {
          "output_type": "execute_result",
          "data": {
            "text/plain": [
              "[4.0, 9.0, 9.0, 6.0, 5.0]"
            ]
          },
          "metadata": {},
          "execution_count": 100
        }
      ]
    },
    {
      "cell_type": "code",
      "source": [
        "ls1=np.floor(arr191)\n",
        "ls1"
      ],
      "metadata": {
        "colab": {
          "base_uri": "https://localhost:8080/"
        },
        "id": "ycdhRiAUt9e9",
        "outputId": "b06044f1-3827-4e38-8496-39c08e0852fc"
      },
      "id": "ycdhRiAUt9e9",
      "execution_count": null,
      "outputs": [
        {
          "output_type": "execute_result",
          "data": {
            "text/plain": [
              "array([4., 9., 9., 6., 5.])"
            ]
          },
          "metadata": {},
          "execution_count": 104
        }
      ]
    },
    {
      "cell_type": "code",
      "source": [
        "arr191.astype(int)"
      ],
      "metadata": {
        "colab": {
          "base_uri": "https://localhost:8080/"
        },
        "id": "-Ji-Tg9mt9hm",
        "outputId": "1f42ffc3-fc9f-4d9a-bcd6-63237027d19a"
      },
      "id": "-Ji-Tg9mt9hm",
      "execution_count": null,
      "outputs": [
        {
          "output_type": "execute_result",
          "data": {
            "text/plain": [
              "array([4, 9, 9, 6, 5])"
            ]
          },
          "metadata": {},
          "execution_count": 106
        }
      ]
    },
    {
      "cell_type": "code",
      "source": [
        "ls2=np.trunc(arr191)\n",
        "ls2"
      ],
      "metadata": {
        "colab": {
          "base_uri": "https://localhost:8080/"
        },
        "id": "IZFKRXWBt9k4",
        "outputId": "78880e83-bfd7-498e-8025-ed8a825f69a7"
      },
      "id": "IZFKRXWBt9k4",
      "execution_count": null,
      "outputs": [
        {
          "output_type": "execute_result",
          "data": {
            "text/plain": [
              "array([4., 9., 9., 6., 5.])"
            ]
          },
          "metadata": {},
          "execution_count": 107
        }
      ]
    },
    {
      "cell_type": "markdown",
      "id": "ec788c9f",
      "metadata": {
        "id": "ec788c9f"
      },
      "source": [
        "#### 20. O'lchovlari 3x3 matritsa yarating, ularning qator qiymatlari 0 dan 2 gacha bo'lsin.\n",
        "\n"
      ]
    },
    {
      "cell_type": "markdown",
      "source": [
        "`💡Ishora` np.arange"
      ],
      "metadata": {
        "id": "c3980b2c"
      },
      "id": "c3980b2c"
    },
    {
      "cell_type": "code",
      "source": [
        "arr201=np.arange(0,3)\n",
        "arr20=np.repeat(arr201,3).reshape(3,3)\n",
        "arr20"
      ],
      "metadata": {
        "id": "ycz3jw4bM0Xk",
        "colab": {
          "base_uri": "https://localhost:8080/"
        },
        "outputId": "1fd25aba-adb1-4ee2-e4e2-0968f78e1425"
      },
      "id": "ycz3jw4bM0Xk",
      "execution_count": null,
      "outputs": [
        {
          "output_type": "execute_result",
          "data": {
            "text/plain": [
              "array([[0, 0, 0],\n",
              "       [1, 1, 1],\n",
              "       [2, 2, 2]])"
            ]
          },
          "metadata": {},
          "execution_count": 108
        }
      ]
    },
    {
      "cell_type": "markdown",
      "id": "391791e0",
      "metadata": {
        "id": "391791e0"
      },
      "source": [
        "#### 21. O'chamlari 10 bo'lgan tasodifiy vektor yarating va uni o'sish tartibida chiqaruvchi dastur tuzing.\n",
        "\n"
      ]
    },
    {
      "cell_type": "markdown",
      "source": [
        "`💡Ishora` sort"
      ],
      "metadata": {
        "id": "ada71c06"
      },
      "id": "ada71c06"
    },
    {
      "cell_type": "code",
      "source": [
        "vektor21=np.random.randint(1,100,size=10)\n",
        "vektor21"
      ],
      "metadata": {
        "id": "TPMqaavROM7g",
        "colab": {
          "base_uri": "https://localhost:8080/"
        },
        "outputId": "e35999c4-27ba-492b-b599-c16afd494981"
      },
      "id": "TPMqaavROM7g",
      "execution_count": null,
      "outputs": [
        {
          "output_type": "execute_result",
          "data": {
            "text/plain": [
              "array([49, 50, 70, 53, 50, 80, 44, 30, 46, 87])"
            ]
          },
          "metadata": {},
          "execution_count": 110
        }
      ]
    },
    {
      "cell_type": "code",
      "source": [
        "np.sort(vektor21)"
      ],
      "metadata": {
        "colab": {
          "base_uri": "https://localhost:8080/"
        },
        "id": "rIZqnUcowaKE",
        "outputId": "5594e285-5f82-4d24-b316-09bfd3d56cc1"
      },
      "id": "rIZqnUcowaKE",
      "execution_count": null,
      "outputs": [
        {
          "output_type": "execute_result",
          "data": {
            "text/plain": [
              "array([30, 44, 46, 49, 50, 50, 53, 70, 80, 87])"
            ]
          },
          "metadata": {},
          "execution_count": 111
        }
      ]
    },
    {
      "cell_type": "markdown",
      "id": "1e74d39e",
      "metadata": {
        "id": "1e74d39e"
      },
      "source": [
        "#### 22. Ikki tasodifiy A va B massiv yarating, ularning tengligini tekshiring"
      ]
    },
    {
      "cell_type": "markdown",
      "source": [
        "`💡Ishora` np.allclose, np.array_equal"
      ],
      "metadata": {
        "id": "eb0e066c"
      },
      "id": "eb0e066c"
    },
    {
      "cell_type": "code",
      "source": [
        "A=np.array([1,2,3,4,5,6])\n",
        "B=np.array([1,2,5,7,8,0])\n",
        "np.array_equal(A,B)"
      ],
      "metadata": {
        "id": "xHNWNZnwOT1r",
        "colab": {
          "base_uri": "https://localhost:8080/"
        },
        "outputId": "654a5540-1106-4a98-8b31-310585cd308b"
      },
      "id": "xHNWNZnwOT1r",
      "execution_count": null,
      "outputs": [
        {
          "output_type": "execute_result",
          "data": {
            "text/plain": [
              "False"
            ]
          },
          "metadata": {},
          "execution_count": 115
        }
      ]
    },
    {
      "cell_type": "code",
      "source": [
        "np.allclose(A,B)"
      ],
      "metadata": {
        "colab": {
          "base_uri": "https://localhost:8080/"
        },
        "id": "bbqu-5i7wt9V",
        "outputId": "fd94af92-81c7-437b-ac3c-291bbd6e9a15"
      },
      "id": "bbqu-5i7wt9V",
      "execution_count": null,
      "outputs": [
        {
          "output_type": "execute_result",
          "data": {
            "text/plain": [
              "False"
            ]
          },
          "metadata": {},
          "execution_count": 116
        }
      ]
    },
    {
      "cell_type": "markdown",
      "id": "78250c14",
      "metadata": {
        "id": "78250c14"
      },
      "source": [
        "#### 23. O'lchamlari 6x3 va 3x4 matritsa tuzing va ularni o'zaro ko'paytiring.\n"
      ]
    },
    {
      "cell_type": "markdown",
      "source": [
        "`💡Ishora` np.dot or np.ones"
      ],
      "metadata": {
        "id": "2e482afe"
      },
      "id": "2e482afe"
    },
    {
      "cell_type": "code",
      "source": [
        "mat1=np.ones(shape=(6,3))\n",
        "mat2=np.ones(shape=(3,4))\n",
        "np.dot(mat1,mat2)"
      ],
      "metadata": {
        "id": "ZRlMgdT9POgS",
        "colab": {
          "base_uri": "https://localhost:8080/"
        },
        "outputId": "7e8ae532-a6c8-446d-fdbe-e498e6c7f0d7"
      },
      "id": "ZRlMgdT9POgS",
      "execution_count": null,
      "outputs": [
        {
          "output_type": "execute_result",
          "data": {
            "text/plain": [
              "array([[3., 3., 3., 3.],\n",
              "       [3., 3., 3., 3.],\n",
              "       [3., 3., 3., 3.],\n",
              "       [3., 3., 3., 3.],\n",
              "       [3., 3., 3., 3.],\n",
              "       [3., 3., 3., 3.]])"
            ]
          },
          "metadata": {},
          "execution_count": 117
        }
      ]
    },
    {
      "cell_type": "code",
      "source": [
        "mat2"
      ],
      "metadata": {
        "colab": {
          "base_uri": "https://localhost:8080/"
        },
        "id": "gnDM00KrxZyr",
        "outputId": "6880e727-72b1-42ec-b6a0-116d829434c9"
      },
      "id": "gnDM00KrxZyr",
      "execution_count": null,
      "outputs": [
        {
          "output_type": "execute_result",
          "data": {
            "text/plain": [
              "array([[1., 1., 1., 1.],\n",
              "       [1., 1., 1., 1.],\n",
              "       [1., 1., 1., 1.]])"
            ]
          },
          "metadata": {},
          "execution_count": 119
        }
      ]
    },
    {
      "cell_type": "markdown",
      "id": "51898680",
      "metadata": {
        "id": "51898680"
      },
      "source": [
        "#### 24. Tasodifiy sonlardan iborat bo'lgan o'lchami 5 ga teng vektor yarating, so'ng uning eng katta qiymatini 0 ga o'zgartiring.\n"
      ]
    },
    {
      "cell_type": "markdown",
      "source": [
        "`💡Ishora` argmax"
      ],
      "metadata": {
        "id": "ee92ccaf"
      },
      "id": "ee92ccaf"
    },
    {
      "cell_type": "code",
      "source": [
        "vektor24=np.array([2,5,1,9,23])\n",
        "vektor24[np.argmax(vektor24)]=0\n",
        "vektor24"
      ],
      "metadata": {
        "id": "v9DvyaTNPk_t",
        "colab": {
          "base_uri": "https://localhost:8080/"
        },
        "outputId": "d9252517-4cb3-421b-c8ed-483ac3207e77"
      },
      "id": "v9DvyaTNPk_t",
      "execution_count": 5,
      "outputs": [
        {
          "output_type": "execute_result",
          "data": {
            "text/plain": [
              "array([2, 5, 1, 9, 0])"
            ]
          },
          "metadata": {},
          "execution_count": 5
        }
      ]
    },
    {
      "cell_type": "markdown",
      "id": "129c342d",
      "metadata": {
        "id": "129c342d"
      },
      "source": [
        "#### 25. NumPy kutubxonasi yordamida kecha, bugun va ertangi kun sanalarini aniqlang.\n"
      ]
    },
    {
      "cell_type": "markdown",
      "source": [
        "`💡Ishora` np.datetime64, np.timedelta64"
      ],
      "metadata": {
        "id": "0fd2f947"
      },
      "id": "0fd2f947"
    },
    {
      "cell_type": "code",
      "source": [
        "bugun=np.datetime64('2024-12-17')\n",
        "kecha=np.timedelta64(-1,'D')+bugun\n",
        "ertaga=np.timedelta64(1,'D')+bugun"
      ],
      "metadata": {
        "id": "dlljRGxkSitd"
      },
      "id": "dlljRGxkSitd",
      "execution_count": 16,
      "outputs": []
    },
    {
      "cell_type": "code",
      "source": [
        "kecha"
      ],
      "metadata": {
        "colab": {
          "base_uri": "https://localhost:8080/"
        },
        "id": "tLXU1f1lsoot",
        "outputId": "bd040e30-86b9-4011-ac5c-d68beb22c2c4"
      },
      "id": "tLXU1f1lsoot",
      "execution_count": 17,
      "outputs": [
        {
          "output_type": "execute_result",
          "data": {
            "text/plain": [
              "numpy.datetime64('2024-12-16')"
            ]
          },
          "metadata": {},
          "execution_count": 17
        }
      ]
    },
    {
      "cell_type": "code",
      "source": [
        "ertaga"
      ],
      "metadata": {
        "colab": {
          "base_uri": "https://localhost:8080/"
        },
        "id": "er4EypYasrR3",
        "outputId": "13b786b0-1f8a-4365-a7f7-09ae8452bad6"
      },
      "id": "er4EypYasrR3",
      "execution_count": 18,
      "outputs": [
        {
          "output_type": "execute_result",
          "data": {
            "text/plain": [
              "numpy.datetime64('2024-12-18')"
            ]
          },
          "metadata": {},
          "execution_count": 18
        }
      ]
    },
    {
      "cell_type": "markdown",
      "id": "42f8b2f9",
      "metadata": {
        "id": "42f8b2f9"
      },
      "source": [
        "#### 26. 2016 yil yanvar oyiga to'g'ri keladigan barcha sanalarni NumPy kutubxonasi yordamida aniqlang.\n"
      ]
    },
    {
      "cell_type": "markdown",
      "source": [
        "`💡Ishora` np.arange(dtype=datetime64['D'])"
      ],
      "metadata": {
        "id": "SU1BWcA8Sw2M"
      },
      "id": "SU1BWcA8Sw2M"
    },
    {
      "cell_type": "code",
      "execution_count": 20,
      "id": "5ad086b0",
      "metadata": {
        "id": "5ad086b0",
        "colab": {
          "base_uri": "https://localhost:8080/"
        },
        "outputId": "138a2214-6baf-4df8-918f-e7111393b624"
      },
      "outputs": [
        {
          "output_type": "execute_result",
          "data": {
            "text/plain": [
              "array(['2016-01-01', '2016-01-02', '2016-01-03', '2016-01-04',\n",
              "       '2016-01-05', '2016-01-06', '2016-01-07', '2016-01-08',\n",
              "       '2016-01-09', '2016-01-10', '2016-01-11', '2016-01-12',\n",
              "       '2016-01-13', '2016-01-14', '2016-01-15', '2016-01-16',\n",
              "       '2016-01-17', '2016-01-18', '2016-01-19', '2016-01-20',\n",
              "       '2016-01-21', '2016-01-22', '2016-01-23', '2016-01-24',\n",
              "       '2016-01-25', '2016-01-26', '2016-01-27', '2016-01-28',\n",
              "       '2016-01-29', '2016-01-30', '2016-01-31'], dtype='datetime64[D]')"
            ]
          },
          "metadata": {},
          "execution_count": 20
        }
      ],
      "source": [
        "np.arange('2016-01','2016-02',dtype='datetime64[D]')"
      ]
    },
    {
      "cell_type": "markdown",
      "id": "486df8ea",
      "metadata": {
        "id": "486df8ea"
      },
      "source": [
        "#### 27. 4 xil usul yordamida musbat sonlarning tasodifiy massivining butun son qismini ajratib oling.\n"
      ]
    },
    {
      "cell_type": "markdown",
      "source": [
        "`💡Ishora` %, np.floor, astype, np.trunc`"
      ],
      "metadata": {
        "id": "h4QM3bp9TDhb"
      },
      "id": "h4QM3bp9TDhb"
    },
    {
      "cell_type": "code",
      "execution_count": 27,
      "id": "2680c1ca",
      "metadata": {
        "id": "2680c1ca",
        "colab": {
          "base_uri": "https://localhost:8080/"
        },
        "outputId": "f58fa39e-55a0-4d47-e01f-c7a4c7657b83"
      },
      "outputs": [
        {
          "output_type": "execute_result",
          "data": {
            "text/plain": [
              "array([57.17560662, 82.53537205, 51.06769892, 53.45903341, 82.97044092])"
            ]
          },
          "metadata": {},
          "execution_count": 27
        }
      ],
      "source": [
        "arr27=np.random.uniform(1,100,size=5)\n",
        "arr27"
      ]
    },
    {
      "cell_type": "code",
      "source": [
        "np.array(arr27-(arr27%1))"
      ],
      "metadata": {
        "colab": {
          "base_uri": "https://localhost:8080/"
        },
        "id": "d5vZ9Gs-ulFM",
        "outputId": "02e3ec53-1c29-42a3-a4be-3ab14b223855"
      },
      "id": "d5vZ9Gs-ulFM",
      "execution_count": 33,
      "outputs": [
        {
          "output_type": "execute_result",
          "data": {
            "text/plain": [
              "array([57., 82., 51., 53., 82.])"
            ]
          },
          "metadata": {},
          "execution_count": 33
        }
      ]
    },
    {
      "cell_type": "code",
      "source": [
        "np.floor(arr27)"
      ],
      "metadata": {
        "colab": {
          "base_uri": "https://localhost:8080/"
        },
        "id": "j2BUovYlulIv",
        "outputId": "8a572f3b-4f55-400d-d7a6-19f98f160dda"
      },
      "id": "j2BUovYlulIv",
      "execution_count": 32,
      "outputs": [
        {
          "output_type": "execute_result",
          "data": {
            "text/plain": [
              "array([57., 82., 51., 53., 82.])"
            ]
          },
          "metadata": {},
          "execution_count": 32
        }
      ]
    },
    {
      "cell_type": "code",
      "source": [
        "arr27.astype(int)"
      ],
      "metadata": {
        "colab": {
          "base_uri": "https://localhost:8080/"
        },
        "id": "J2IZJ6NbulcX",
        "outputId": "18149720-d095-4ff4-f0de-06a1148e8335"
      },
      "id": "J2IZJ6NbulcX",
      "execution_count": 30,
      "outputs": [
        {
          "output_type": "execute_result",
          "data": {
            "text/plain": [
              "array([57, 82, 51, 53, 82])"
            ]
          },
          "metadata": {},
          "execution_count": 30
        }
      ]
    },
    {
      "cell_type": "code",
      "source": [
        "np.trunc(arr27)"
      ],
      "metadata": {
        "colab": {
          "base_uri": "https://localhost:8080/"
        },
        "id": "Y1sk4b00vRMy",
        "outputId": "79be36d4-04c0-4f85-d42f-fb88bae93bea"
      },
      "id": "Y1sk4b00vRMy",
      "execution_count": 31,
      "outputs": [
        {
          "output_type": "execute_result",
          "data": {
            "text/plain": [
              "array([57., 82., 51., 53., 82.])"
            ]
          },
          "metadata": {},
          "execution_count": 31
        }
      ]
    },
    {
      "cell_type": "markdown",
      "id": "6415f02e",
      "metadata": {
        "id": "6415f02e"
      },
      "source": [
        "#### 28. Ixtiyoriy kichik massivlar yarating, ular yeg'indisini np.sum funksiyasidanda tezroq hisoblovchi dastur tuzing.\n"
      ]
    },
    {
      "cell_type": "markdown",
      "source": [
        "`💡Ishora` np.add.reduce"
      ],
      "metadata": {
        "id": "129e785f"
      },
      "id": "129e785f"
    },
    {
      "cell_type": "code",
      "source": [
        "m1=np.random.random(6)\n",
        "m2=np.random.random(6)"
      ],
      "metadata": {
        "id": "M0Xv2bB9VYQZ"
      },
      "id": "M0Xv2bB9VYQZ",
      "execution_count": 39,
      "outputs": []
    },
    {
      "cell_type": "code",
      "source": [
        "yig=np.add.reduce(m1)\n",
        "yig+=np.add.reduce(m2)\n",
        "yig"
      ],
      "metadata": {
        "colab": {
          "base_uri": "https://localhost:8080/"
        },
        "id": "pZE1YvddvwjU",
        "outputId": "e01e266b-3a3d-46b4-96e0-305d9a218b42"
      },
      "id": "pZE1YvddvwjU",
      "execution_count": 52,
      "outputs": [
        {
          "output_type": "execute_result",
          "data": {
            "text/plain": [
              "4.129020561388302"
            ]
          },
          "metadata": {},
          "execution_count": 52
        }
      ]
    },
    {
      "cell_type": "markdown",
      "id": "58be9dd4",
      "metadata": {
        "id": "58be9dd4"
      },
      "source": [
        "#### 29. [1, 2, 3, 4, 5] vektor berilgan, har bir qiymat orasiga ketma-ket 3 ta nol raqamini yozuvchi dastur tuzing.\n"
      ]
    },
    {
      "cell_type": "markdown",
      "source": [
        "`💡Ishora` array[::4]"
      ],
      "metadata": {
        "id": "9cf9e134"
      },
      "id": "9cf9e134"
    },
    {
      "cell_type": "code",
      "source": [
        "arr29=np.array([1,2,3,4,5])\n",
        "result=[]\n",
        "for value in arr29:\n",
        "  result.append(value)\n",
        "  result.extend([0,0,0])\n",
        "result=result[:-3]\n",
        "result"
      ],
      "metadata": {
        "id": "04IuJ2jaZeYu",
        "colab": {
          "base_uri": "https://localhost:8080/"
        },
        "outputId": "e0540ea7-afe7-4b04-a426-0dfeb066e53e"
      },
      "id": "04IuJ2jaZeYu",
      "execution_count": 61,
      "outputs": [
        {
          "output_type": "execute_result",
          "data": {
            "text/plain": [
              "[1, 0, 0, 0, 2, 0, 0, 0, 3, 0, 0, 0, 4, 0, 0, 0, 5]"
            ]
          },
          "metadata": {},
          "execution_count": 61
        }
      ]
    },
    {
      "cell_type": "markdown",
      "id": "781fa236",
      "metadata": {
        "id": "781fa236"
      },
      "source": [
        "#### 30. Quyidagi a massiv berilgan, a = [1,2,3,4,5,6,7,8,9,10,11,12,13,14] undan foydalangan holda siz quyidagi b massivni yarata olasizmi, b = [[1,2,3,4], [2,3,4,5], [3,4,5,6], ..., [11,12,13,14]]?\n"
      ]
    },
    {
      "cell_type": "markdown",
      "source": [
        "`💡Ishora` stride_tricks.as_strided"
      ],
      "metadata": {
        "id": "82e3d17e"
      },
      "id": "82e3d17e"
    },
    {
      "cell_type": "code",
      "source": [
        "from numpy.lib.stride_tricks import as_strided\n",
        "a=np.array([1,2,3,4,5,6,7,8,9,10,11,12,13,14])\n",
        "b=as_strided(a, shape=(11,4), strides=(8,8))\n",
        "b"
      ],
      "metadata": {
        "id": "S1H6ivCua3NZ",
        "colab": {
          "base_uri": "https://localhost:8080/"
        },
        "outputId": "8d679c95-37e6-4347-f84c-e782c1619188"
      },
      "id": "S1H6ivCua3NZ",
      "execution_count": 82,
      "outputs": [
        {
          "output_type": "execute_result",
          "data": {
            "text/plain": [
              "array([[ 1,  2,  3,  4],\n",
              "       [ 2,  3,  4,  5],\n",
              "       [ 3,  4,  5,  6],\n",
              "       [ 4,  5,  6,  7],\n",
              "       [ 5,  6,  7,  8],\n",
              "       [ 6,  7,  8,  9],\n",
              "       [ 7,  8,  9, 10],\n",
              "       [ 8,  9, 10, 11],\n",
              "       [ 9, 10, 11, 12],\n",
              "       [10, 11, 12, 13],\n",
              "       [11, 12, 13, 14]])"
            ]
          },
          "metadata": {},
          "execution_count": 82
        }
      ]
    },
    {
      "cell_type": "markdown",
      "id": "7d8dc135",
      "metadata": {
        "id": "7d8dc135"
      },
      "source": [
        "#### 31. Ixtiyoriy sonlardan tashkil topgan massiv yarating, unga o'xshash qiymatlar kiriting. So'ng, o'xshash qiymatlarni topuvchi dastur tuzing.\n"
      ]
    },
    {
      "cell_type": "markdown",
      "source": [
        "`💡Ishora` np.bincount, argmax"
      ],
      "metadata": {
        "id": "81844e99"
      },
      "id": "81844e99"
    },
    {
      "cell_type": "code",
      "source": [
        "m31=np.array([1,2,3,4,5,6,7,8,9,1,4,5,7,6,7])\n",
        "a=np.bincount(m31)\n",
        "np.where(a>1)"
      ],
      "metadata": {
        "id": "SiRaNwxjbaQN",
        "colab": {
          "base_uri": "https://localhost:8080/"
        },
        "outputId": "7e393d93-9be7-4153-c286-686c1d8e6f36"
      },
      "id": "SiRaNwxjbaQN",
      "execution_count": 88,
      "outputs": [
        {
          "output_type": "execute_result",
          "data": {
            "text/plain": [
              "(array([1, 4, 5, 6, 7]),)"
            ]
          },
          "metadata": {},
          "execution_count": 88
        }
      ]
    },
    {
      "cell_type": "markdown",
      "source": [
        "#### BONUS!\n",
        "\n",
        "`💡O'zingiz javob berishni istagan savolni kiriting va unga javob bering!`"
      ],
      "metadata": {
        "id": "URzxwwODb0m_"
      },
      "id": "URzxwwODb0m_"
    },
    {
      "cell_type": "markdown",
      "source": [
        "Biror bir massiv kiriting va uni kamayish tartibida tartiblang"
      ],
      "metadata": {
        "id": "WqXtmPUGMt3F"
      },
      "id": "WqXtmPUGMt3F"
    },
    {
      "cell_type": "code",
      "source": [
        "m32=np.random.randint(1,100,size=12)\n",
        "m32"
      ],
      "metadata": {
        "id": "9xpR0GVrbzuk",
        "colab": {
          "base_uri": "https://localhost:8080/"
        },
        "outputId": "7bd68e5a-4d15-4df8-970c-03f62f2a3de9"
      },
      "id": "9xpR0GVrbzuk",
      "execution_count": 89,
      "outputs": [
        {
          "output_type": "execute_result",
          "data": {
            "text/plain": [
              "array([35, 91, 79, 87, 95,  2, 77, 68, 64, 67, 28, 21])"
            ]
          },
          "metadata": {},
          "execution_count": 89
        }
      ]
    },
    {
      "cell_type": "code",
      "source": [
        "-np.sort(-m32)"
      ],
      "metadata": {
        "colab": {
          "base_uri": "https://localhost:8080/"
        },
        "id": "p6tCxPXwNEHf",
        "outputId": "9efcde81-dea8-4dc9-f1ad-6a15d9875a79"
      },
      "id": "p6tCxPXwNEHf",
      "execution_count": 91,
      "outputs": [
        {
          "output_type": "execute_result",
          "data": {
            "text/plain": [
              "array([95, 91, 87, 79, 77, 68, 67, 64, 35, 28, 21,  2])"
            ]
          },
          "metadata": {},
          "execution_count": 91
        }
      ]
    }
  ],
  "metadata": {
    "hide_input": false,
    "kernelspec": {
      "display_name": "Python 3",
      "language": "python",
      "name": "python3"
    },
    "language_info": {
      "codemirror_mode": {
        "name": "ipython",
        "version": 3
      },
      "file_extension": ".py",
      "mimetype": "text/x-python",
      "name": "python",
      "nbconvert_exporter": "python",
      "pygments_lexer": "ipython3",
      "version": "3.8.8"
    },
    "toc": {
      "base_numbering": 1,
      "nav_menu": {},
      "number_sections": true,
      "sideBar": true,
      "skip_h1_title": false,
      "title_cell": "Table of Contents",
      "title_sidebar": "Contents",
      "toc_cell": false,
      "toc_position": {},
      "toc_section_display": true,
      "toc_window_display": false
    },
    "varInspector": {
      "cols": {
        "lenName": 16,
        "lenType": 16,
        "lenVar": 40
      },
      "kernels_config": {
        "python": {
          "delete_cmd_postfix": "",
          "delete_cmd_prefix": "del ",
          "library": "var_list.py",
          "varRefreshCmd": "print(var_dic_list())"
        },
        "r": {
          "delete_cmd_postfix": ") ",
          "delete_cmd_prefix": "rm(",
          "library": "var_list.r",
          "varRefreshCmd": "cat(var_dic_list()) "
        }
      },
      "types_to_exclude": [
        "module",
        "function",
        "builtin_function_or_method",
        "instance",
        "_Feature"
      ],
      "window_display": false
    },
    "colab": {
      "provenance": [],
      "include_colab_link": true
    }
  },
  "nbformat": 4,
  "nbformat_minor": 5
}