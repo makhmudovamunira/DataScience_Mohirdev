{
  "nbformat": 4,
  "nbformat_minor": 0,
  "metadata": {
    "colab": {
      "private_outputs": true,
      "provenance": [],
      "authorship_tag": "ABX9TyPyWgFRERLuM6iQJPB88E0X",
      "include_colab_link": true
    },
    "kernelspec": {
      "name": "python3",
      "display_name": "Python 3"
    },
    "language_info": {
      "name": "python"
    }
  },
  "cells": [
    {
      "cell_type": "markdown",
      "metadata": {
        "id": "view-in-github",
        "colab_type": "text"
      },
      "source": [
        "<a href=\"https://colab.research.google.com/github/makhmudovamunira/DataScience_Mohirdev/blob/main/ML_loyiha_qadamlari.ipynb\" target=\"_parent\"><img src=\"https://colab.research.google.com/assets/colab-badge.svg\" alt=\"Open In Colab\"/></a>"
      ]
    },
    {
      "cell_type": "markdown",
      "source": [
        "Esingizda bo'lsa, biz eng birinchi darsimizni Data Science Metodologiyasini o'rganishdan boshlagan edik. ML ham Data Science loyihaning bir qismi bo'lgani sabab, har qanday loyihani bajarishda biz avval ko'rgan metodologiyaga amal qilamiz.\n",
        "\n",
        "<img src=\"https://i.imgur.com/dzZnnYi.png\" alt=\"CRISP-DM\" width=\"800\"/>"
      ],
      "metadata": {
        "id": "ABQagNqXBi88"
      }
    },
    {
      "cell_type": "markdown",
      "source": [
        "Machine Learning qanday ishlashini tushunish uchun ushbu darsimiz davomida biz bitta loyihani boshidan oxirigacha birgalikda qilamiz.\n",
        "\n",
        "Dars davomida tushunmagan mavzularga duch kelsangiz, havotir qilmang, kurs davomida juda ko'p masalalarga qayta to'xtalamiz.\n",
        "\n",
        "### 1-QADAM. FAOLIYATNI O'RGANISH\n",
        "\n",
        "Keling boshlanishiga loyiha haqida tasavvur hosil qilaylik.\n",
        "\n",
        "Sizning buyurtmachingiz \"California Inc\" Qurilish Kompaniyasi. Kompaniya keyingi uylarini qurishda California shtatining turli hududlarida uylarning o'rtacha narxini hisoblab beruvchi model (dastur) yaratishni so'rayapti.\n",
        "\n",
        "Sizga berilgan ma'lumotlar: California shtatida aholini ro'yxatga olish uchun o'tkazilgan so'rovnoma natijasi.\n",
        "\n",
        "Ma'lumotlar Californianing har bir hududi (__blok__ deb ataladi) uchun aholi soni, aholining median daromadi, uylarning median narxi kabi qiymatlarni o'z ichiga oladi. Har bir hududda tahminan 600 dan 3000 gacha aholi yashaydi.\n",
        "\n",
        "**Demak sizning vazifangiz yuqorida ma'lumotlarga asoslangan holda turli hududlarda uylarning median narxini aniqlab beruvchi model (dastur) yaratish**\n",
        "\n",
        "#### 1.1 Jarayonlarni tushunish\n",
        "\n",
        "Sizning birinchi qiladigan ishingiz, loyiha haqida ko'proq ma'lumot to'plash. Bu sizga loyihaga to'g'ri yondoshish, to'g'ri model tanlash, qanday algoritmlardan foydalanishni aniqlash uchun yordam beradi.\n",
        "\n",
        "Misol uchun, birinchi savol: Ushbu model qayerda ishlatiladi?\n",
        "Buyurtmachi sizning modelingdan qaytgan natija boshqa, siz bilmaydigan, ma'lumotlar bilan birgalikda yana boshqa modelning kirishiga ulanishini va yakuniy model ko'rsatilgan hududga investisiya kiritish yoki kiritmaslik haqida qaror qabul qilishini aytdi.\n",
        "\n",
        "Demak, sizning modelingiz kattaroq modelga ulanar ekan.\n",
        "\n",
        "Keyingi savol: Hozirda buyurtmachi median narxni aniqlashda qanday usuldan foydalanayapti va joriy usulning aniqligi nechiga teng, uning kamchiliklari nimada?\n",
        "\n",
        "Javob: Hozirda hudud uchun narxlar bir nechta mutaxassislarning tahliliga asosan, qo'lda aniqlanmoqda. Aniqligi 20%.\n",
        "\n",
        "Mana endi keyingi bosqichga o'tamiz."
      ],
      "metadata": {
        "id": "Me-BRvSFBxur"
      }
    },
    {
      "cell_type": "markdown",
      "source": [
        "#### 1.2 Analitik yondoshuvni aniqlash\n",
        "Bu bosqichda biz bir nechta narsalarni aniqlashtirib olamiz:\n",
        "- Model: Supervised, Unsupervised, Reinforcement?\n",
        "- Algoritm: klassifikasiya, regressiya, yoki boshqa turda\n",
        "- Usul: Online yoki offline\n",
        "\n",
        "Yuqoridagi savollarga javob beramiz:\n",
        "1. Supervised learning - sababi bizda ma'lumotlarda label (yorliq) mavjud. Bu hududdadi median narx. Biz ham aynan shu narxni bashorat qilmoqchimiz.\n",
        "2. Regressiya - \"Bashorat\" (prognoz) dedikmi demak bu regressia algoritmlari yordamida hal qilinadi\n",
        "3. Offline - sababi ma'lumotlar bizga avvaldan bir marta berilgan. Doimiy ma'lumotlar oqimi yo'q.\n",
        "\n",
        "Model aniqligini qanday baholaymiz?\n",
        "\n",
        "Aniqlikni baholashning turli usullari bor, regressiya algoritmlar uchun odatda **o'rtacha kvadrat xatolik** (Root Mean Square Error - RMSE) ko'p ishlatiladi:\n",
        "\n",
        "![RMSE](https://i.imgur.com/aXL9iWa.png)\n",
        "\n",
        "Bu yerda:\n",
        "- $m$ - datasetdagi qatorlar soni (har bir qator bitta ma'lumot)\n",
        "- $x^{(i)}$ - $i$-qator uchun barcha parametrlar vektori (_label_ dan tashqari)\n",
        "- $y^{(i)}$ - $i$-qator uchun label (bizdagi misolda median uy narxi)\n",
        "- $X$ - labeldan boshqa barcha parametrlar\n",
        "- $h$ - sizning modelingizdan qaytgan bashorat (hypothesis).\n",
        "    - $h(x^{(i)})$ - $i$-qator uchun model qaytargan bashorat.\n",
        "    \n",
        "Aniqlikni baholashning yana bir usuli, o'rtacha absolyut xatolik (mean absolute error - MAE).\n",
        "\n",
        "![MAE](https://i.imgur.com/GJH9CGy.png)\n",
        "\n",
        "RMSE ham MAE ham ikki vektor, bashorat va label o'rtasidagi farqni hisoblaydi. Xato qancha kam bo'lsa, natija shuncha yaxshi hisoblanadi.\n",
        "\n",
        "Keyingi bosqichga o'tishdan avval, yuqoridagi xulosalarimizni tasdiqlab olamiz. Sababi, sizning regressiya modelingiz aniq son qaytaradi (uyning bashorat qilingan narxi), lekin buyurtmachi sizdan son emas \"qimmat\", \"arzon\", \"o'rtacha\" kabi qiymatlarni kutgan edi. Bu esa klassifikasiya algoritmi yordamida hal qilinishi kerak edi. Demak, siz modelingizdan qaytadigan natija buyurtmachi kutgan natija bilan bir ekanini aniqlashtirib olamiz."
      ],
      "metadata": {
        "id": "UtXSSzxKB1Yw"
      }
    },
    {
      "cell_type": "markdown",
      "source": [
        "### 2-QADAM. MA'LUMOTLARNI O'RGANAMIZ\n",
        "\n",
        "#### !DIQQAT. Keyingi qadamlarni bajarishdan avval, loyiha uchun yangi muhit yaratib olish tavsiya qilinadi. Umuman olganda har bir loyiha uchun alohida muhit yaratish yaxshi odat!\n",
        "\n",
        "\n",
        "<img src=\"https://i.imgur.com/YcFHBRK.png\" alt=\"Anaconda\" width=\"800\"/>\n",
        "\n",
        "Kerakli modullarni chaqirib olamiz. Bu safar bizga avvaldan tanish `pandas`, `numpy` kutubxonalaridan tashqari, yangi, `scikit-learn` kutubxonaisini ham chaqiramiz.\n",
        "\n",
        "**[scikit-learn](https://scikit-learn.org/stable/)** - turli Machine Learning algoritmlarni jamlagan kutubxona bo'lib, kelgusida ishimizni bir necha bor osonlashtiradi."
      ],
      "metadata": {
        "id": "iR5OWo4tB4mW"
      }
    },
    {
      "cell_type": "code",
      "execution_count": null,
      "metadata": {
        "id": "ptRNqh6JBhQt"
      },
      "outputs": [],
      "source": [
        "import pandas as pd\n",
        "import numpy as np\n",
        "import matplotlib.pyplot as plt\n",
        "import sklearn\n",
        "import seaborn as sns"
      ]
    },
    {
      "cell_type": "code",
      "source": [
        "# Onlayn dataset joylashgan manzilini ko'rsatamiaz\n",
        "URL = \"https://github.com/ageron/handson-ml2/blob/master/datasets/housing/housing.csv?raw=true\"\n",
        "df = pd.read_csv(URL)\n",
        "df.head()"
      ],
      "metadata": {
        "id": "gIqAMbmuEB8T"
      },
      "execution_count": null,
      "outputs": []
    },
    {
      "cell_type": "markdown",
      "source": [
        "Datasetning har bir qatori bu bitta hudud (mahalla, kvartal, blok) haqida ma'lumot. Dataset 10 ta ustundan iborat:\n",
        "- `longitude` va `latitude` birgalikda GPS koordinatalar\n",
        "- `housing_median_age` - uylarning median yoshi\n",
        "- `total_rooms` - ushbu hududda mavjud jami xonalar\n",
        "- `total_bedrooms` - ushbu hududda mavjud jami yotoqxonalar\n",
        "- `population` - hudud aholi soni\n",
        "- `households` - hududdagi oilalar soni\n",
        "- `median_income` - median daromad\n",
        "- `median_house_values` - uylarning median narxi\n",
        "- `ocean_proximity` - hududning okeanga qanchalik yaqinligi\n",
        "\n",
        "### ❓ Median va o'rtacha qiymatlar o'rtasida farqni bilasizmi?\n",
        "\n",
        "Deylik bizda 10 ta son bor, shu sonlarning o'rtachasini hisoblash uchun avval ularni qo'shamiz keyin esa yig'indini 10 ga bo'almiz.\n",
        "Median hisoblash uchun esa sonlarni o'sish tartibida tahlaymiz va o'rtadagi sonni olamiz.\n",
        "\n",
        "![Imgur](https://i.imgur.com/Qkzwv3u.png)"
      ],
      "metadata": {
        "id": "m79c1gRdF_7Z"
      }
    },
    {
      "cell_type": "code",
      "source": [
        "df.info()"
      ],
      "metadata": {
        "id": "Ov_jzaxSE33y"
      },
      "execution_count": null,
      "outputs": []
    },
    {
      "cell_type": "code",
      "source": [
        "df['ocean_proximity'].value_counts()"
      ],
      "metadata": {
        "id": "qoVeDjBzGK0Q"
      },
      "execution_count": null,
      "outputs": []
    },
    {
      "cell_type": "code",
      "source": [
        "df.describe()"
      ],
      "metadata": {
        "id": "xL5GStalGPbj"
      },
      "execution_count": null,
      "outputs": []
    },
    {
      "cell_type": "code",
      "source": [
        "%matplotlib inline\n",
        "df.hist(bins=50, figsize=(20,15))\n",
        "plt.show()"
      ],
      "metadata": {
        "id": "k82DDifBGaI3"
      },
      "execution_count": null,
      "outputs": []
    },
    {
      "cell_type": "markdown",
      "source": [
        "### 2.2 Trains va Test set.\n",
        "Esingizda bo'lsa avvalgi modulda ML uchun ma'lumotlarni ikki (aniqro'gi uch) qismga ajratib olishni gaplashgan edik:\n",
        "- Train set - model yaratish uchun\n",
        "- Test set - model aniqligini tekshirish uchun\n",
        "\n",
        "Aslida, ma'lumotlarni tahlil qilish bosqichida bunga hali ertadek tuyulishi mumkin, lekin bu yerda maqsad nafaqat komyuterni balki bizning ham xato xulosa qilishimizni oldini olish.\n",
        "\n",
        "Avval tasviya qilganimizdek ma'lumotlarnining 80\\% train, 20\\% test uchun ajratamiz. Buning uchun `scikit-learn` tarkibida tayyor `train_test_split` funskyasiga murojaat qilamiz.\n",
        "\n",
        "Funskiyaga parametr sifatida dataset (`df`), test set hajmi (0.2 ya'ni 20%) va tasodifiy sonlar generatori uchun qiymat (`random_seed`) beramiz.\n",
        "\n",
        "**`random_seed`** ning vazifasi `train_test_split` funksiyani ishga tushirganda doim bir hil tasodifiy qiymatlar olish. Bu esa, ML model yaratish jarayonida `test_set` doim yashirin qolishini ta'minlaydi."
      ],
      "metadata": {
        "id": "6GOK6ZGzIkHz"
      }
    },
    {
      "cell_type": "code",
      "source": [
        "from sklearn.model_selection import train_test_split\n",
        "train_set, test_set = train_test_split(df, test_size=0.2, random_state=42)"
      ],
      "metadata": {
        "id": "j9tk_x6GGtNS"
      },
      "execution_count": null,
      "outputs": []
    },
    {
      "cell_type": "code",
      "source": [
        "train_set"
      ],
      "metadata": {
        "id": "fKA39vMuWoLx"
      },
      "execution_count": null,
      "outputs": []
    },
    {
      "cell_type": "code",
      "source": [
        "test_set"
      ],
      "metadata": {
        "id": "sUWZnkuvWqrF"
      },
      "execution_count": null,
      "outputs": []
    },
    {
      "cell_type": "markdown",
      "source": [
        "`train_test_split` yordamida bo'lishning kamchiligi, ma'lumotlardagi balans yo'qolishi mumkin. Misol uchun, bizdagi datasetda `median_income` ustuniga qarasak aholining aksari 2000-4000\\$ oralig'da daromad qilar ekan. 8000 dan ko'proq daromad oladiganlar esa anchagina kam. Agar biz train va test setlarda shu taqisomtni saqlab qolmoqchi bo'lsak `StratifiedShuffleSplit` obyektiga murojaat qilamiz."
      ],
      "metadata": {
        "id": "ZB75ktRhdkp-"
      }
    },
    {
      "cell_type": "code",
      "source": [
        "%matplotlib inline\n",
        "df['median_income'].hist(bins=50, figsize=(9,6))\n",
        "plt.show()"
      ],
      "metadata": {
        "id": "iJqI4W2vWsrt"
      },
      "execution_count": null,
      "outputs": []
    },
    {
      "cell_type": "markdown",
      "source": [
        "`StratifiedShuffleSplit`dan foydalanishdan avval `median_income` ustunidagi qiymatlarni bir nechta kategoriyalarga ajratib olishimiz kerak. Aynan shu kategoriyalar `StratifiedShuffleSplit` ichidagi split funksiyasiga uzatiladi va funksiya shu kategoriya asosida train va test set o'rtasidagi balansni saqlaydi."
      ],
      "metadata": {
        "id": "vLkEed_YcsNr"
      }
    },
    {
      "cell_type": "code",
      "source": [
        "df['income_cat']=pd.cut(df['median_income'], bins=[0.0, 1.5, 3.0, 4.5, 6.0, np.inf], labels=[1,2,3,4,5])\n",
        "df['income_cat'].hist(figsize=(7,5))\n",
        "plt.show()"
      ],
      "metadata": {
        "id": "OkqoCLG4ci2r"
      },
      "execution_count": null,
      "outputs": []
    },
    {
      "cell_type": "code",
      "source": [
        "from sklearn.model_selection import StratifiedShuffleSplit\n",
        "stratified_split=StratifiedShuffleSplit(n_splits=1, test_size=0.2, random_state=42)\n",
        "for train_index, test_index in stratified_split.split(df, df['income_cat']):\n",
        "  strat_train_set=df.loc[train_index]\n",
        "  strat_test_set=df.loc[test_index]\n",
        ""
      ],
      "metadata": {
        "id": "OsVyNt2_dWeq"
      },
      "execution_count": null,
      "outputs": []
    },
    {
      "cell_type": "code",
      "source": [
        "strat_train_set"
      ],
      "metadata": {
        "id": "VniY--5HmOu_"
      },
      "execution_count": null,
      "outputs": []
    },
    {
      "cell_type": "code",
      "source": [
        "strat_test_set"
      ],
      "metadata": {
        "id": "5QWps5kPmofV"
      },
      "execution_count": null,
      "outputs": []
    },
    {
      "cell_type": "code",
      "source": [
        "df"
      ],
      "metadata": {
        "id": "uL3VZRPgmrYM"
      },
      "execution_count": null,
      "outputs": []
    },
    {
      "cell_type": "code",
      "source": [
        "strat_train_set.drop('income_cat', axis=1, inplace=True)\n",
        "strat_test_set.drop('income_cat', axis=1, inplace=True)"
      ],
      "metadata": {
        "id": "1Tc49ITgmwhd"
      },
      "execution_count": null,
      "outputs": []
    },
    {
      "cell_type": "code",
      "source": [
        "strat_train_set"
      ],
      "metadata": {
        "id": "XlxOhFOInGr-"
      },
      "execution_count": null,
      "outputs": []
    },
    {
      "cell_type": "code",
      "source": [
        "df.head()"
      ],
      "metadata": {
        "id": "chNfY9E4nK-U"
      },
      "execution_count": null,
      "outputs": []
    },
    {
      "cell_type": "markdown",
      "source": [
        "### 2.3 Ma'lumotlarni tahlil qilamiz.\n",
        "\n",
        "Keling endi bevosita ma'lumotlarni tahlil qilishga o'taylik. Esingizda bo'lsa biz endi `train` set bilan ishlashimiz kerak. Bizda hozircha 2 ta alohida train set bo'lib qoldi:\n",
        "- `train_set` - `train_test_split` yordamida bo'lingan (muvozanatsiz)\n",
        "- `strat_train_set` - `StratifiedShuffleSplit` yordamida bo'lingan.\n",
        "\n",
        "Biz ikkinchi setdan foydalanamiz. Qulaylik uchun bu setimizda nusxa ko'chirib olamiz."
      ],
      "metadata": {
        "id": "skGpryNtnor6"
      }
    },
    {
      "cell_type": "code",
      "source": [
        "housing=strat_train_set.copy()"
      ],
      "metadata": {
        "id": "DufY4-DJnM-D"
      },
      "execution_count": null,
      "outputs": []
    },
    {
      "cell_type": "markdown",
      "source": [
        "### Vizualziasiya\n",
        "Ma'lumotlarni tahlil qilishning eng qulay usuli bu grafiklar. Keling boshlanishiga uylarning geografik joylashuvini ko'ramiz.\n",
        "\n",
        "Tushunarli bo'lishi uchun, Kalifronia shtati xaritasini ham chiqaramiz:\n",
        "\n",
        "<img src=\"https://www.nationsonline.org/maps/USA/California_map.jpg\" alt=\"California\" width=\"600\"/>"
      ],
      "metadata": {
        "id": "OilV8q-GoGzT"
      }
    },
    {
      "cell_type": "code",
      "source": [
        "housing.plot(kind='scatter', x='longitude', y='latitude', figsize=(9,6))\n",
        "plt.show()"
      ],
      "metadata": {
        "id": "te5UL5jzoCPc"
      },
      "execution_count": null,
      "outputs": []
    },
    {
      "cell_type": "code",
      "source": [
        "housing.plot(kind='scatter', x='longitude',\n",
        "             y='latitude', colorbar=True,\n",
        "             s=housing['population']/100,\n",
        "             c='median_house_value', alpha=0.7,\n",
        "             cmap='jet', label='population',\n",
        "             figsize=(10,8))\n",
        "plt.show()"
      ],
      "metadata": {
        "id": "TYHEhXkuoYeB"
      },
      "execution_count": null,
      "outputs": []
    },
    {
      "cell_type": "markdown",
      "source": [
        "### Korrelyasiya\n",
        "Bizning asl maqsadimiz bizga berilgan ma'lumotlar orasida uyning narxiga ta'sir qiluvchi parametrlarni topish. Bunda esa bizga aynan korrelyasiya juda qo'l keladi.\n",
        "\n",
        "Korrelysasiya haqida biz Data Analysis kursimizda batafsil to'xtalganmiz."
      ],
      "metadata": {
        "id": "9LvJHujipkO2"
      }
    },
    {
      "cell_type": "code",
      "source": [
        "numeric_df=housing.select_dtypes(include=['number'])\n",
        "numeric_df.corrwith(numeric_df['median_house_value']).sort_values(ascending=False)"
      ],
      "metadata": {
        "id": "E9FTvMmXoqsT"
      },
      "execution_count": null,
      "outputs": []
    },
    {
      "cell_type": "markdown",
      "source": [
        "Ko'rishimiz mumkinki, `median_house_value` va `median_income`, `total_rooms`, `housing_median_age` ustunlari orasida korrelyatsiya nisbatan kuchli.\n",
        "\n",
        "`seabron` tarkibidagi `pairplot` funksiyasi yordamida korrelyasiya qiymatlarini grafik ko'rinishida chiqarishimiz ham mumkin."
      ],
      "metadata": {
        "id": "QPnrEiHWrpev"
      }
    },
    {
      "cell_type": "code",
      "source": [
        "cols=['median_house_value','median_income','total_rooms','housing_median_age']\n",
        "sns.pairplot(housing[cols], height=5)\n",
        "plt.show()"
      ],
      "metadata": {
        "id": "XzT31Bznp2aW"
      },
      "execution_count": null,
      "outputs": []
    },
    {
      "cell_type": "code",
      "source": [
        "housing.plot(kind='scatter', x='median_income', y='median_house_value', alpha=0.1, figsize=(10,8))\n",
        "plt.show()"
      ],
      "metadata": {
        "id": "PIcdt_nPsHdq"
      },
      "execution_count": null,
      "outputs": []
    },
    {
      "cell_type": "markdown",
      "source": [
        "### 2.4 Yangi parametrlar yaratamiz\n",
        "\n",
        "Yuqorida `median_income` uylarning median bahosini topish uchun yaxshi parametr ekanini ko'rdik, lekin bu parametrning o'zi yetarli emas. Shunday holatlarda ba'zi parametrlani jamlab yangi parametrlar hosil qilishimiz mumkin.\n",
        "\n",
        "Misol uchun, hududdagi jami xonalar soni (`total_rooms`) unchalik ham muhim emas, lekin jami xonalar sonini jami xonadonlar (`households`) soniga bo'lsak har bir xonadon uchun o'rtacha xonalar soni chiqadi (ya'ni har bir uyning o'rtacha xonalari soni) bu esa uyning bahosini aniqlashda muhim bo'lishi mumkin."
      ],
      "metadata": {
        "id": "fE9OsTU2uUhr"
      }
    },
    {
      "cell_type": "code",
      "source": [
        "housing['rooms_per_household'] = housing['total_rooms']/housing['households']\n",
        "housing[\"bedrooms_per_room\"] = housing[\"total_bedrooms\"]/housing[\"total_rooms\"]\n",
        "housing[\"population_per_household\"]=housing[\"population\"]/housing[\"households\"]"
      ],
      "metadata": {
        "id": "ZrBBAvyguYc6"
      },
      "execution_count": null,
      "outputs": []
    },
    {
      "cell_type": "code",
      "source": [
        "housing.corrwith(housing['median_house_value']).sort_values(ascending=False)"
      ],
      "metadata": {
        "id": "LpsHrxV_uplL"
      },
      "execution_count": null,
      "outputs": []
    }
  ]
}