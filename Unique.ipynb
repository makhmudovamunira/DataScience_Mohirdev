{
  "nbformat": 4,
  "nbformat_minor": 0,
  "metadata": {
    "colab": {
      "provenance": [],
      "authorship_tag": "ABX9TyMEp4awwXwdvf2cGvfsBAlJ",
      "include_colab_link": true
    },
    "kernelspec": {
      "name": "python3",
      "display_name": "Python 3"
    },
    "language_info": {
      "name": "python"
    }
  },
  "cells": [
    {
      "cell_type": "markdown",
      "metadata": {
        "id": "view-in-github",
        "colab_type": "text"
      },
      "source": [
        "<a href=\"https://colab.research.google.com/github/makhmudovamunira/DataScience_Mohirdev/blob/main/Unique.ipynb\" target=\"_parent\"><img src=\"https://colab.research.google.com/assets/colab-badge.svg\" alt=\"Open In Colab\"/></a>"
      ]
    },
    {
      "cell_type": "code",
      "execution_count": 1,
      "metadata": {
        "id": "qD9ywcmUPK_F"
      },
      "outputs": [],
      "source": [
        "import numpy as np"
      ]
    },
    {
      "cell_type": "code",
      "source": [
        "names=np.array(['Munira','Nigora','Munira','Malika','Zilola','Malika'])"
      ],
      "metadata": {
        "id": "c9G_qCkvPRW7"
      },
      "execution_count": 2,
      "outputs": []
    },
    {
      "cell_type": "markdown",
      "source": [
        "**unique**"
      ],
      "metadata": {
        "id": "cHAK8JVXQGm2"
      }
    },
    {
      "cell_type": "code",
      "source": [
        "np.unique(names) # Elementlarni takrorlanmas qilib tartiblaydi"
      ],
      "metadata": {
        "colab": {
          "base_uri": "https://localhost:8080/"
        },
        "id": "TlK2_dnnPewq",
        "outputId": "99b26697-76d1-4411-eb31-026b555ab46b"
      },
      "execution_count": 3,
      "outputs": [
        {
          "output_type": "execute_result",
          "data": {
            "text/plain": [
              "array(['Malika', 'Munira', 'Nigora', 'Zilola'], dtype='<U6')"
            ]
          },
          "metadata": {},
          "execution_count": 3
        }
      ]
    },
    {
      "cell_type": "code",
      "source": [
        "set(names)"
      ],
      "metadata": {
        "colab": {
          "base_uri": "https://localhost:8080/"
        },
        "id": "pSJtPLZdPezX",
        "outputId": "f4786776-b0d2-4d8c-b08c-6635a81ad3ae"
      },
      "execution_count": 5,
      "outputs": [
        {
          "output_type": "execute_result",
          "data": {
            "text/plain": [
              "{'Malika', 'Munira', 'Nigora', 'Zilola'}"
            ]
          },
          "metadata": {},
          "execution_count": 5
        }
      ]
    },
    {
      "cell_type": "markdown",
      "source": [
        "**in1d**"
      ],
      "metadata": {
        "id": "DLQawwYJQD34"
      }
    },
    {
      "cell_type": "code",
      "source": [
        "#data\n",
        "arr1=np.array([2,2,3,4,5,0,0])\n",
        "arr2=np.array([1,0,3])"
      ],
      "metadata": {
        "id": "TIbDgWbqPe28"
      },
      "execution_count": 6,
      "outputs": []
    },
    {
      "cell_type": "code",
      "source": [
        "np.in1d(arr1,arr2) #arr1 elementlari arr2 da bor yoki yo'qligini tekshiradi"
      ],
      "metadata": {
        "colab": {
          "base_uri": "https://localhost:8080/"
        },
        "id": "7ZzToa1TQU4h",
        "outputId": "745b7c9e-ab13-4d47-83c3-44002cf3731c"
      },
      "execution_count": 7,
      "outputs": [
        {
          "output_type": "execute_result",
          "data": {
            "text/plain": [
              "array([False, False,  True, False, False,  True,  True])"
            ]
          },
          "metadata": {},
          "execution_count": 7
        }
      ]
    },
    {
      "cell_type": "markdown",
      "source": [
        "**setdiff1d**"
      ],
      "metadata": {
        "id": "QpMnQQAeQwkj"
      }
    },
    {
      "cell_type": "code",
      "source": [
        "names1=np.array(['Munira','Malika','Zilola','Munisa','Nilufar','Zarnigor','Hayitgul'])\n",
        "names2=np.array(['Munira','Nigora','Malika','Dilrabo'])"
      ],
      "metadata": {
        "id": "dYJemk6bQYe1"
      },
      "execution_count": 8,
      "outputs": []
    },
    {
      "cell_type": "code",
      "source": [
        "np.setdiff1d(names1,names2) # names1 elementlarining names2 da takrorlanmas qismini qaytaradi"
      ],
      "metadata": {
        "colab": {
          "base_uri": "https://localhost:8080/"
        },
        "id": "n4saGfoLRM0t",
        "outputId": "841a550d-588b-4ff8-809d-277d964a31de"
      },
      "execution_count": 9,
      "outputs": [
        {
          "output_type": "execute_result",
          "data": {
            "text/plain": [
              "array(['Hayitgul', 'Munisa', 'Nilufar', 'Zarnigor', 'Zilola'], dtype='<U8')"
            ]
          },
          "metadata": {},
          "execution_count": 9
        }
      ]
    },
    {
      "cell_type": "code",
      "source": [],
      "metadata": {
        "id": "oPVFfU63RZF5"
      },
      "execution_count": null,
      "outputs": []
    }
  ]
}