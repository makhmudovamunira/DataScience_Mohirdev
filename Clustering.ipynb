{
  "nbformat": 4,
  "nbformat_minor": 0,
  "metadata": {
    "colab": {
      "private_outputs": true,
      "provenance": [],
      "authorship_tag": "ABX9TyPGuRIGgc3uHjo51fnSm9F/",
      "include_colab_link": true
    },
    "kernelspec": {
      "name": "python3",
      "display_name": "Python 3"
    },
    "language_info": {
      "name": "python"
    }
  },
  "cells": [
    {
      "cell_type": "markdown",
      "metadata": {
        "id": "view-in-github",
        "colab_type": "text"
      },
      "source": [
        "<a href=\"https://colab.research.google.com/github/makhmudovamunira/DataScience_Mohirdev/blob/main/Clustering.ipynb\" target=\"_parent\"><img src=\"https://colab.research.google.com/assets/colab-badge.svg\" alt=\"Open In Colab\"/></a>"
      ]
    },
    {
      "cell_type": "code",
      "execution_count": null,
      "metadata": {
        "id": "_KGd7wMK1pwM"
      },
      "outputs": [],
      "source": [
        "import pandas as pd\n",
        "import numpy as np\n",
        "from sklearn.cluster import KMeans\n",
        "import matplotlib.pyplot as plt\n",
        "%matplotlib inline\n",
        "from sklearn.preprocessing import StandardScaler"
      ]
    },
    {
      "cell_type": "code",
      "source": [
        "url=\"https://raw.githubusercontent.com/anvarnarz/praktikum_datasets/main/customer_segmentation.csv\"\n",
        "df = pd.read_csv(url)\n",
        "df.head()"
      ],
      "metadata": {
        "id": "ML_43A0U2pAU"
      },
      "execution_count": null,
      "outputs": []
    },
    {
      "cell_type": "markdown",
      "source": [
        "#### Ma'lumotlarni tozalash\n",
        "`Address` ustuni matnli. Masofa hisoblashda esa bu ustundan foydalan olmaymiz, shuning bu ustunni tashglab yuboramiz."
      ],
      "metadata": {
        "id": "G5I9-1a73C-9"
      }
    },
    {
      "cell_type": "code",
      "source": [
        "df.drop('Address', axis=1, inplace=True)\n",
        "df.head()"
      ],
      "metadata": {
        "id": "7efdTtXm2wTa"
      },
      "execution_count": null,
      "outputs": []
    },
    {
      "cell_type": "code",
      "source": [
        "X=df.values[:,1:]\n",
        "X=np.nan_to_num(X)\n",
        "norm_data=StandardScaler().fit_transform(X)\n",
        "norm_data"
      ],
      "metadata": {
        "id": "f6n6u2xV3YoU"
      },
      "execution_count": null,
      "outputs": []
    },
    {
      "cell_type": "code",
      "source": [
        "k=3\n",
        "k_means=KMeans(n_clusters=k) #init va n_init o'zi standard qilymat oladi shuning uchun biz faqat k ning qiymatimo kiritib ketamiz\n",
        "k_means.fit(norm_data)\n",
        "print(k_means.labels_)\n"
      ],
      "metadata": {
        "id": "2WEvoFjy4Ga1"
      },
      "execution_count": null,
      "outputs": []
    },
    {
      "cell_type": "code",
      "source": [
        "df['cluster']=k_means.labels_\n",
        "df.head()"
      ],
      "metadata": {
        "id": "OgDgmxas5xac"
      },
      "execution_count": null,
      "outputs": []
    },
    {
      "cell_type": "markdown",
      "source": [
        "### Klasterlar haqida nima deya olamiz?\n",
        "Har bir klaster sentrodini topish orqali kalsterlar haqida ma'lumot olishimiz mumkin. Buning uchun esa `groupby` va `mean` funksiyalaridan foydalanamiz"
      ],
      "metadata": {
        "id": "aQ_YxJe67NE9"
      }
    },
    {
      "cell_type": "code",
      "source": [
        "df.groupby('cluster').mean()"
      ],
      "metadata": {
        "id": "6S8dpJPR58df"
      },
      "execution_count": null,
      "outputs": []
    },
    {
      "cell_type": "markdown",
      "source": [
        "Har bir klasterdagi mijozlar haqida qanday xulosa qilish mumkin?\n",
        "\n",
        "Masalan, yoshiga (`Age`) qaraydigan bo'lsak 0-klaster katta yoshlar (43+), 1-klaster o'rta yosh (33+), 2-klaster yoshlar (31 gacha).\n",
        "\n",
        "Har bir klasterni yaqqol ajratib turuvchi ustunlar bu `Income` (daromad) va `Year Employed` (necha yildan beri ishlashi) ekan.\n",
        "\n",
        "Demak biz har klasterni quyidagicha ta'riflashimiz mumkin:\n",
        "- 0-klaster - Katta yosh, uzoq tajribaga ega, katta daromad qiluvchi mijozlar.\n",
        "- 1-klaster - Yosh, kam tajriba va kam daromad mijozlar.\n",
        "- 2-klaster - O'rta yosh, 7+ yil tarjibaga ega, kam daromad mijozlar.\n",
        "\n",
        "Umuman olganda siz aynan sizning biznesingiz uchun muhim ustunlar bo'yicha klasterlarga nom berishingiz mumkin, masalan moliya xizamtini yo'lga qo'ygan bo'lsangiz (muddatli to'lov, kredit) qarzlar (`Debt`) va qarzni qaytarmaganlik (`Deafulted`) ustunlariga ahamiyat bergan bo'lar edim."
      ],
      "metadata": {
        "id": "LqRc3_SJ8MOJ"
      }
    },
    {
      "cell_type": "code",
      "source": [
        "area=np.pi*(X[:,1])**2\n",
        "plt.scatter(X[:,0],X[:,3], s=area, c=k_means.labels_.astype(float))\n",
        "plt.xlabel('Age', fontsize=18)\n",
        "plt.ylabel('Income', fontsize=16)\n",
        "plt.show()"
      ],
      "metadata": {
        "id": "ZICqzHxV62Ii"
      },
      "execution_count": null,
      "outputs": []
    },
    {
      "cell_type": "code",
      "source": [
        "from mpl_toolkits.mplot3d import Axes3D\n",
        "fig=plt.figure(figsize=(8,6))\n",
        "plt.clf()\n",
        "ax=Axes3D(fig, rect=[0,0,.95, 1], elev=48, azim=120)\n",
        "\n",
        "plt.cla()\n",
        "# plt.ylabel('Age', fontsize=18)\n",
        "# plt.xlabel('Income', fontsize=16)\n",
        "# plt.zlabel('Education', fontsize=16)\n",
        "ax.set_xlabel('Years employed')\n",
        "ax.set_ylabel('Age')\n",
        "ax.set_zlabel('Income')\n",
        "\n",
        "ax.scatter(X[:,2],X[:,0],X[:,3], c=k_means.labels_.astype(float))\n",
        "plt.show()"
      ],
      "metadata": {
        "id": "7HC8AjO58uqd"
      },
      "execution_count": null,
      "outputs": []
    }
  ]
}