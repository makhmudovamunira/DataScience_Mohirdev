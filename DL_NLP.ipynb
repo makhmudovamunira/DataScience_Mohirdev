{
  "nbformat": 4,
  "nbformat_minor": 0,
  "metadata": {
    "colab": {
      "private_outputs": true,
      "provenance": [],
      "gpuType": "T4",
      "authorship_tag": "ABX9TyO/Oq2rmCX0uUzBa4ZL1zCf",
      "include_colab_link": true
    },
    "kernelspec": {
      "name": "python3",
      "display_name": "Python 3"
    },
    "language_info": {
      "name": "python"
    },
    "accelerator": "GPU"
  },
  "cells": [
    {
      "cell_type": "markdown",
      "metadata": {
        "id": "view-in-github",
        "colab_type": "text"
      },
      "source": [
        "<a href=\"https://colab.research.google.com/github/makhmudovamunira/DataScience_Mohirdev/blob/main/DL_NLP.ipynb\" target=\"_parent\"><img src=\"https://colab.research.google.com/assets/colab-badge.svg\" alt=\"Open In Colab\"/></a>"
      ]
    },
    {
      "cell_type": "code",
      "execution_count": null,
      "metadata": {
        "id": "7EXWgTuD-asa"
      },
      "outputs": [],
      "source": [
        "!pip install fastai"
      ]
    },
    {
      "cell_type": "markdown",
      "source": [
        "## Natural Language Processing (NLP)"
      ],
      "metadata": {
        "id": "2vJz1Dt-_qBy"
      }
    },
    {
      "cell_type": "markdown",
      "source": [
        "### Navbatdagi misollimiz bu NLP(Natural Language Processing)ga yo'naltirilgan. Bu soha hozirda juda jadal rivojalanib borayotgan soha hisoblanadi. NLP o'z ichiga matnlar ishlab chiqa olish (generate), izohlarni tahlil qilish, gapdagi so'zlarni sinflash va h.k amallarni qamrab oladi.\n",
        "\n",
        "### Hozir quradigan modelimiz ham [IMDb Review](https://ai.stanford.edu/~amaas/data/sentiment/) datasetda berilgan izohlardan kelib chiqgan holda, u izohning `ijobiy(positive)` yoki `salbiy(negative)` izoh ekanligini aniqlay oladi."
      ],
      "metadata": {
        "id": "rZU6tq4b_p-W"
      }
    },
    {
      "cell_type": "code",
      "source": [
        "#kutubxonalarni yuklab olamiz\n",
        "import fastai\n",
        "import torch\n",
        "\n",
        "fastai.__version__\n",
        "torch.__version__"
      ],
      "metadata": {
        "id": "W8jxg0Tt_nGB"
      },
      "execution_count": null,
      "outputs": []
    },
    {
      "cell_type": "code",
      "source": [
        "from fastai.text.all import *\n",
        "\n",
        "#path\n",
        "path=untar_data(URLs.IMDB)\n",
        "\n",
        "#dataloaders\n",
        "dls=TextDataLoaders.from_folder(path, train='train', valid='test')\n",
        "\n",
        "#fine-tuning\n",
        "learn=text_classifier_learner(dls, AWD_LSTM, drop_mult=0.5, metrics=accuracy)\n",
        "learn.fine_tune(10, 0.01)"
      ],
      "metadata": {
        "id": "RQ33VhEk_06L"
      },
      "execution_count": null,
      "outputs": []
    },
    {
      "cell_type": "code",
      "source": [
        "learn.predict('I liked this movie')"
      ],
      "metadata": {
        "id": "310qgMRZAstx"
      },
      "execution_count": null,
      "outputs": []
    },
    {
      "cell_type": "code",
      "source": [
        "learn.predict(\"I hate this movie\")"
      ],
      "metadata": {
        "id": "uK_6ZY8yLtNX"
      },
      "execution_count": null,
      "outputs": []
    },
    {
      "cell_type": "code",
      "source": [
        "learn.predict(\"I hated this movie\")"
      ],
      "metadata": {
        "id": "2Wu4A1jBLznw"
      },
      "execution_count": null,
      "outputs": []
    },
    {
      "cell_type": "code",
      "source": [
        "\n",
        "learn.predict(\"This was the worst movie ever\")"
      ],
      "metadata": {
        "id": "d44TKu-7ON3O"
      },
      "execution_count": null,
      "outputs": []
    },
    {
      "cell_type": "code",
      "source": [],
      "metadata": {
        "id": "VixM7sRyOOrh"
      },
      "execution_count": null,
      "outputs": []
    }
  ]
}