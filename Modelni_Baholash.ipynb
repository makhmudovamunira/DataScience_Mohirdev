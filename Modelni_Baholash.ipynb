{
  "nbformat": 4,
  "nbformat_minor": 0,
  "metadata": {
    "colab": {
      "private_outputs": true,
      "provenance": [],
      "authorship_tag": "ABX9TyNTFO2FF+1ZmbMn95cvw1mw",
      "include_colab_link": true
    },
    "kernelspec": {
      "name": "python3",
      "display_name": "Python 3"
    },
    "language_info": {
      "name": "python"
    }
  },
  "cells": [
    {
      "cell_type": "markdown",
      "metadata": {
        "id": "view-in-github",
        "colab_type": "text"
      },
      "source": [
        "<a href=\"https://colab.research.google.com/github/makhmudovamunira/DataScience_Mohirdev/blob/main/Modelni_Baholash.ipynb\" target=\"_parent\"><img src=\"https://colab.research.google.com/assets/colab-badge.svg\" alt=\"Open In Colab\"/></a>"
      ]
    },
    {
      "cell_type": "markdown",
      "source": [
        "![Imgur](https://i.imgur.com/5pXzCIu.png)\n",
        "\n",
        "# Data Science va Sun'iy Intellekt Praktikum\n",
        "\n",
        "## 5-MODUL. Machine Learning\n",
        "\n",
        "### 5.1 - ML loyiha qadamlari\n",
        "\n",
        "## Machine Learning"
      ],
      "metadata": {
        "id": "VE1ah1vZJIiY"
      }
    },
    {
      "cell_type": "markdown",
      "source": [
        "Nihoyat ma'lumotlarimiz ML uchun tayyor.\n",
        "\n",
        "Boshlanishiga kerakli modullar va ma'lumotlarni qayta o'qib olamiz."
      ],
      "metadata": {
        "id": "suraUmacJIfN"
      }
    },
    {
      "cell_type": "code",
      "execution_count": null,
      "metadata": {
        "id": "_0ILSQpiJGoW"
      },
      "outputs": [],
      "source": [
        "import pandas as pd\n",
        "import numpy as np\n",
        "import sklearn"
      ]
    },
    {
      "cell_type": "markdown",
      "source": [
        "### Ma'lumotlarni o'qiymiz"
      ],
      "metadata": {
        "id": "tpFoHe5YJOzr"
      }
    },
    {
      "cell_type": "code",
      "source": [
        "URL = \"https://github.com/ageron/handson-ml2/blob/master/datasets/housing/housing.csv?raw=true\"\n",
        "df = pd.read_csv(URL)"
      ],
      "metadata": {
        "id": "qXzI8OKiJReH"
      },
      "execution_count": null,
      "outputs": []
    },
    {
      "cell_type": "code",
      "source": [
        "from sklearn.model_selection import train_test_split\n",
        "\n",
        "train_set, test_set=train_test_split(df, test_size=0.2, random_state=42)\n",
        "X_train=train_set.drop('median_house_value', axis=1)\n",
        "y=train_set['median_house_value'].copy()\n",
        "\n",
        "X_num=X_train.drop('ocean_proximity', axis=1)"
      ],
      "metadata": {
        "id": "FqHYQH-bJT3r"
      },
      "execution_count": null,
      "outputs": []
    },
    {
      "cell_type": "code",
      "source": [
        "from sklearn.base import BaseEstimator, TransformerMixin\n",
        "\n",
        "rooms_ix, bedroom_ix, population_ix, household_ix=3,4,5,6\n",
        "\n",
        "class ConbinedAttributesAdder(BaseEstimator, TransformerMixin):\n",
        "\n",
        "  def __init__(self, add_bedroom_per_rooms=True):\n",
        "    self.add_bedroom_per_rooms=add_bedroom_per_rooms\n",
        "  def fit(self, X, y=None):\n",
        "    return self\n",
        "\n",
        "  def transform(self, X):\n",
        "    rooms_per_household=X[:,rooms_ix]/X[:,household_ix]\n",
        "    population_per_household=X[:,population_ix]/X[:,household_ix]\n",
        "\n",
        "    if self.add_bedroom_per_rooms:\n",
        "      bedrooms_per_room=X[:,bedroom_ix]/X[:,rooms_ix]\n",
        "      return np.c_[X, rooms_per_household, population_per_household, bedrooms_per_room]\n",
        "    else:\n",
        "      return np.c_[X, rooms_per_household, population_per_household]\n",
        ""
      ],
      "metadata": {
        "id": "COtTTUjUJgL1"
      },
      "execution_count": null,
      "outputs": []
    },
    {
      "cell_type": "code",
      "source": [
        "from sklearn.pipeline import Pipeline\n",
        "from sklearn.preprocessing import OneHotEncoder, StandardScaler\n",
        "from sklearn.impute import SimpleImputer\n",
        "\n",
        "num_pipeline=Pipeline([\n",
        "    ('imputer', SimpleImputer(strategy='median')),\n",
        "    ('attribs_adder', ConbinedAttributesAdder(add_bedroom_per_rooms=True)),\n",
        "    ('std_scaler', StandardScaler())\n",
        "])"
      ],
      "metadata": {
        "id": "NTqwbet7MM29"
      },
      "execution_count": null,
      "outputs": []
    },
    {
      "cell_type": "markdown",
      "source": [
        "#### Matnli ustunlar uchun"
      ],
      "metadata": {
        "id": "0nyY5ZUBOWOr"
      }
    },
    {
      "cell_type": "code",
      "source": [
        "from sklearn.compose import ColumnTransformer\n",
        "\n",
        "num_attribs = list(X_num)\n",
        "cat_attribs=['ocean_proximity']\n",
        "\n",
        "full_pipeline=ColumnTransformer([\n",
        "    ('num', num_pipeline, num_attribs),\n",
        "    ('cat', OneHotEncoder(), cat_attribs)\n",
        "])"
      ],
      "metadata": {
        "id": "XKyiga42NI54"
      },
      "execution_count": null,
      "outputs": []
    },
    {
      "cell_type": "markdown",
      "source": [
        "Mana yakuniy, to'liq konveyer tayyor bo'ldi (`full_pipeline`).\n",
        "\n",
        "Konveyerni ishga tushirish uchun `.fit_transform()` metodini chaqrisih kifoya."
      ],
      "metadata": {
        "id": "cpr_bpPAOwZM"
      }
    },
    {
      "cell_type": "code",
      "source": [
        "X_prepared=full_pipeline.fit_transform(X_train)"
      ],
      "metadata": {
        "id": "4K1H-PwSOTfW"
      },
      "execution_count": null,
      "outputs": []
    },
    {
      "cell_type": "code",
      "source": [
        "X_prepared[:5, :]"
      ],
      "metadata": {
        "id": "TyYlLTIRO5Fy"
      },
      "execution_count": null,
      "outputs": []
    },
    {
      "cell_type": "markdown",
      "source": [
        "Ma'lumotlar ML uchun tayyor."
      ],
      "metadata": {
        "id": "oB_nPcQFQYG5"
      }
    },
    {
      "cell_type": "markdown",
      "source": [
        "### Machine Learning\n",
        "\n",
        "Bizning maqsadimiz bashorat qilish, buning uchun bir nechta ML algoritmlar mavjud.\n",
        "\n",
        "Biz kelgusi darslarda ularning har biri bilan yaqinda tanishamiz, hozir esa scikit-learn tarkibidagi ba'zi tayyor algoritmlardan foydalanamiz."
      ],
      "metadata": {
        "id": "nyKzYxmLQYDU"
      }
    },
    {
      "cell_type": "markdown",
      "source": [
        "#### Linear Regression - Chiziqli regressiya\n",
        "`sklearn` tarkibidagi `LinearRegression` klassidan yangi model yaratamiz."
      ],
      "metadata": {
        "id": "RcnU4ArGQcSA"
      }
    },
    {
      "cell_type": "code",
      "source": [
        "from sklearn.linear_model import LinearRegression\n",
        "\n",
        "LR_model=LinearRegression()"
      ],
      "metadata": {
        "id": "OlMrfwDCQSNO"
      },
      "execution_count": null,
      "outputs": []
    },
    {
      "cell_type": "markdown",
      "source": [
        "`LinearRegression` bu estimator. Estimatorlar ma'lumotlarni qabul qilib oladi va `.fit()` metodi yordamida ulardan basorat qilishni _o'rganadi_ (machine _learning_)"
      ],
      "metadata": {
        "id": "xXPh4aYFRR7S"
      }
    },
    {
      "cell_type": "code",
      "source": [
        "LR_model.fit(X_prepared, y)"
      ],
      "metadata": {
        "id": "VldDOYP7Q6aO"
      },
      "execution_count": null,
      "outputs": []
    },
    {
      "cell_type": "markdown",
      "source": [
        "**TAMOM!** Machine Learning tugadi! Ha, adashmadingiz, bor yo'g'i 3 qator kod bilan biz hozirgina kompyuterga uylarni narxini bashorat qilishni o'rgatdik.\n",
        "\n",
        "Modelni qanday qilib tekshirib ko'rishimiz mumkin? Keling `housing` datasetdan biror qatorni modelga beramiz va chiqqan natijani bizdagi bor natija (label) bilan solishtiramiz."
      ],
      "metadata": {
        "id": "-yhPrwPgRO38"
      }
    },
    {
      "cell_type": "code",
      "source": [
        "test_data=X_train.sample(5)\n",
        "test_data"
      ],
      "metadata": {
        "id": "3N98SmjmQ_73"
      },
      "execution_count": null,
      "outputs": []
    },
    {
      "cell_type": "code",
      "source": [
        "test_label=y.loc[test_data.index]\n",
        "test_label"
      ],
      "metadata": {
        "id": "MKR5XqP4RfGh"
      },
      "execution_count": null,
      "outputs": []
    },
    {
      "cell_type": "code",
      "source": [
        "test_data_prepared=full_pipeline.transform(test_data)\n",
        "test_data_prepared"
      ],
      "metadata": {
        "id": "3oWC_droRrNm"
      },
      "execution_count": null,
      "outputs": []
    },
    {
      "cell_type": "markdown",
      "source": [
        "Predict(bashorat) qilamiz"
      ],
      "metadata": {
        "id": "xSdHl9o3SzZR"
      }
    },
    {
      "cell_type": "code",
      "source": [
        "predict_data=LR_model.predict(test_data_prepared)\n",
        "predict_data"
      ],
      "metadata": {
        "id": "5TEkM6DaSJDj"
      },
      "execution_count": null,
      "outputs": []
    },
    {
      "cell_type": "code",
      "source": [
        "pd.DataFrame({'Prognoz': predict_data, 'Real baxosi': test_label})"
      ],
      "metadata": {
        "id": "TR2p4GJ_ScBg"
      },
      "execution_count": null,
      "outputs": []
    },
    {
      "cell_type": "markdown",
      "source": [
        "### 5-QADAM. Modelni baholaymiz"
      ],
      "metadata": {
        "id": "Pz89YpVvSt1V"
      }
    },
    {
      "cell_type": "markdown",
      "source": [
        "Ko'rib turganingizdek, modelimiz qayerdadur kamroq, qayeradur ko'proq xato bilan bashorat qilgan.\n",
        "Lekin model aniqligini baxolash uchun 5 qator yetarli emas. Keling, avvalroq ajratib olgan test set yordamida sinab ko'ramiz:"
      ],
      "metadata": {
        "id": "LecGhTasSvh_"
      }
    },
    {
      "cell_type": "code",
      "source": [
        "test_set"
      ],
      "metadata": {
        "id": "vIo4np_7SpOJ"
      },
      "execution_count": null,
      "outputs": []
    },
    {
      "cell_type": "code",
      "source": [
        "X_test=test_set.drop('median_house_value', axis=1)\n",
        "X_test"
      ],
      "metadata": {
        "id": "AVCHngbbTFf6"
      },
      "execution_count": null,
      "outputs": []
    },
    {
      "cell_type": "code",
      "source": [
        "y_test=test_set['median_house_value'].copy()\n",
        "y_test"
      ],
      "metadata": {
        "id": "UJgOAuOVTLfA"
      },
      "execution_count": null,
      "outputs": []
    },
    {
      "cell_type": "code",
      "source": [
        "X_test_prepared=full_pipeline.transform(X_test)\n",
        "y_predicted=LR_model.predict(X_test_prepared)"
      ],
      "metadata": {
        "id": "Ap4JGXxhTSsO"
      },
      "execution_count": null,
      "outputs": []
    },
    {
      "cell_type": "code",
      "source": [
        "from sklearn.metrics import mean_squared_error\n",
        "\n",
        "lin_mse = mean_squared_error(y_test, y_predicted)\n",
        "#RMSE ni hisoblaymi\n",
        "lin_rmse=np.sqrt(lin_mse)\n",
        "print(lin_rmse)"
      ],
      "metadata": {
        "id": "ekjXU66FUMko"
      },
      "execution_count": null,
      "outputs": []
    },
    {
      "cell_type": "code",
      "source": [
        "y_predicted.shape"
      ],
      "metadata": {
        "id": "czgqTl5lVv9l"
      },
      "execution_count": null,
      "outputs": []
    },
    {
      "cell_type": "markdown",
      "source": [
        "Demak, `RMSE=72701$` chiqdi. Yomon emas, lekin yaxshi ham emas. Ya'ni modelimiz uylarni baholashda o'rtacha `72000$` ga adashayapti.\n",
        "\n",
        "Model aniqligini oshirish uchun yagona, universal yechim yo'q. Qilib ko'rishingiz mumkin bo'lgan ishlar:\n",
        "- Yaxhsiroq paramterlar topish\n",
        "- Yaxhsiroq model (algoritm) tanlash\n",
        "- Ko'proq ma'lumot yig'ish va hokazo.\n",
        "\n",
        "Biz hozir boshqa model bilan sinab ko'ramiz.\n",
        "\n",
        "### DecisionTree"
      ],
      "metadata": {
        "id": "6Q3WkrXkhfWE"
      }
    },
    {
      "cell_type": "code",
      "source": [
        "from sklearn.tree import DecisionTreeRegressor\n",
        "tree_model=DecisionTreeRegressor()\n",
        "tree_model.fit(X_prepared, y)"
      ],
      "metadata": {
        "id": "5q72G0gwhc-_"
      },
      "execution_count": null,
      "outputs": []
    },
    {
      "cell_type": "code",
      "source": [
        "y_predicted=tree_model.predict(X_test_prepared)\n",
        "y_predicted"
      ],
      "metadata": {
        "id": "wirncHu_jNVs"
      },
      "execution_count": null,
      "outputs": []
    },
    {
      "cell_type": "code",
      "source": [
        "lin_mse = mean_squared_error(y_test, y_predicted)\n",
        "# RMSE hisoblaymiz\n",
        "lin_rmse = np.sqrt(lin_mse)\n",
        "print(lin_rmse)"
      ],
      "metadata": {
        "id": "RCqgM2PNje79"
      },
      "execution_count": null,
      "outputs": []
    },
    {
      "cell_type": "markdown",
      "source": [
        "###Random Forest"
      ],
      "metadata": {
        "id": "Sc_HP4S_js7g"
      }
    },
    {
      "cell_type": "code",
      "source": [
        "from sklearn.ensemble import RandomForestRegressor\n",
        "RF_model=RandomForestRegressor()\n",
        "RF_model.fit(X_prepared, y)"
      ],
      "metadata": {
        "id": "fnOOfZBujjEJ"
      },
      "execution_count": null,
      "outputs": []
    },
    {
      "cell_type": "code",
      "source": [
        "y_predicted=RF_model.predict(X_test_prepared)\n",
        "lin_mse=mean_squared_error(y_test, y_predicted)\n",
        "lin_rmse=np.sqrt(lin_mse)\n",
        "print(lin_rmse)"
      ],
      "metadata": {
        "id": "LXdenZ2okH1U"
      },
      "execution_count": null,
      "outputs": []
    },
    {
      "cell_type": "markdown",
      "source": [
        "## Cross-Validation usuli bilan baholash\n",
        "\n",
        "Yuqorida biz modelni baholash uchun ma'lumotlarni test va train setlarga ajratdik.\n",
        "Bu usulning kamchiligi biz test va train uchun doim bir xil ma'lumotlardan foydalanayapmiz.\n",
        "\n",
        "Cross-validation yordamida biz ma'lumotlarni bir necha qismga ajratib, modelni turli qismlar yordamida bir nechta bor train va test qilishimiz mumkin.\n",
        "\n",
        "Misol uchun, quyidagi rasmda ma'lumotlarni 5 ga ajratib train va test qilish ko'rsatilgan.\n",
        "\n",
        "![](https://www.oreilly.com/library/view/machine-learning-quick/9781788830577/assets/b90b29ab-dfe7-4c11-9a2f-321e84f79495.png)"
      ],
      "metadata": {
        "id": "1LqtneWGkzeo"
      }
    },
    {
      "cell_type": "markdown",
      "source": [
        "Cross validation uchun ma'lumotlarni train va testga bo'lish shart emas, buni sklearn o'zi qiladi."
      ],
      "metadata": {
        "id": "Z_RzoZMBk1dd"
      }
    },
    {
      "cell_type": "code",
      "source": [
        "X=df.drop('median_house_value',axis=1)\n",
        "y=df['median_house_value'].copy()\n",
        "\n",
        "X_prepared=full_pipeline.transform(X)"
      ],
      "metadata": {
        "id": "tEu_fvMokk-r"
      },
      "execution_count": null,
      "outputs": []
    },
    {
      "cell_type": "code",
      "source": [
        "def display_scores(scores):\n",
        "    print(\"Scores:\", scores)\n",
        "    print(\"Mean:\", scores.mean())\n",
        "    print(\"Std.dev:\", scores.std())"
      ],
      "metadata": {
        "id": "OaNHY9kIlSzC"
      },
      "execution_count": null,
      "outputs": []
    },
    {
      "cell_type": "markdown",
      "source": [
        "#### Cross-validation"
      ],
      "metadata": {
        "id": "cRbjAjielZ8g"
      }
    },
    {
      "cell_type": "code",
      "source": [
        "from sklearn.model_selection import cross_val_score\n"
      ],
      "metadata": {
        "id": "Emc4jtGclVoG"
      },
      "execution_count": null,
      "outputs": []
    },
    {
      "cell_type": "markdown",
      "source": [
        "#### LogisticRegression"
      ],
      "metadata": {
        "id": "9DHFaFsvlmSL"
      }
    },
    {
      "cell_type": "code",
      "source": [
        "scores = cross_val_score(LR_model, X_prepared, y, scoring=\"neg_mean_squared_error\", cv=10)\n",
        "LR_rmse_scores = np.sqrt(-scores)"
      ],
      "metadata": {
        "id": "ZvISYpG4lkuz"
      },
      "execution_count": null,
      "outputs": []
    },
    {
      "cell_type": "code",
      "source": [
        "display_scores(LR_rmse_scores)"
      ],
      "metadata": {
        "id": "wSI7jMTwlzvE"
      },
      "execution_count": null,
      "outputs": []
    },
    {
      "cell_type": "code",
      "source": [
        "scores = cross_val_score(tree_model, X_prepared, y, scoring=\"neg_mean_squared_error\", cv=10)\n",
        "LR_rmse_scores = np.sqrt(-scores)\n",
        "display_scores(LR_rmse_scores)"
      ],
      "metadata": {
        "id": "7gDPfClLl353"
      },
      "execution_count": null,
      "outputs": []
    },
    {
      "cell_type": "code",
      "source": [
        "scores = cross_val_score(RF_model, X_prepared, y, scoring=\"neg_mean_squared_error\", cv=10)\n",
        "LR_rmse_scores = np.sqrt(-scores)\n",
        "display_scores(LR_rmse_scores)"
      ],
      "metadata": {
        "id": "JzL1Tg6-mgaD"
      },
      "execution_count": null,
      "outputs": []
    },
    {
      "cell_type": "markdown",
      "source": [
        "## Modelni saqlash\n",
        "\n",
        "Yaratgan modelimizdan kelajakda foydalanish uchun saqlab qo'yishimiz lozim. Umuman olganda nafaqat model, balki boshqa kerak bo'ladigan o'zgaruvchilarni ham saqlab qo'yish maqsadga muvvofiq bo'ladi. Masalan pipeline.\n",
        "\n",
        "Buning uchun Pythondagi `pickle` yoki `joblib` modullaridan foydalanamiz.\n",
        "\n",
        "### `pickle` yordamida saqlash"
      ],
      "metadata": {
        "id": "ijrADAV-mqdu"
      }
    },
    {
      "cell_type": "code",
      "source": [
        "import pickle\n",
        "\n",
        "filename = 'RF_model.pkl'\n",
        "with open(filename, 'wb') as file:\n",
        "  pickle.dump(RF_model, file)"
      ],
      "metadata": {
        "id": "L-tFSlRYmnnc"
      },
      "execution_count": null,
      "outputs": []
    },
    {
      "cell_type": "code",
      "source": [
        "with open(filename, 'rb') as file:\n",
        "  model=pickle.load(file)"
      ],
      "metadata": {
        "id": "Z5lslAcWnEJe"
      },
      "execution_count": null,
      "outputs": []
    },
    {
      "cell_type": "code",
      "source": [
        "scores = cross_val_score(model, X_prepared, y, scoring=\"neg_mean_squared_error\", cv=5)\n",
        "LR_rmse_scores = np.sqrt(-scores)\n",
        "display_scores(LR_rmse_scores)"
      ],
      "metadata": {
        "id": "FyYWrM5MnokT"
      },
      "execution_count": null,
      "outputs": []
    },
    {
      "cell_type": "code",
      "source": [
        "model"
      ],
      "metadata": {
        "id": "Mb_QtUZLoQEh"
      },
      "execution_count": null,
      "outputs": []
    },
    {
      "cell_type": "markdown",
      "source": [
        "### `joblib` yordamida saqlash\n",
        "joblib katta NumPy martrisalarni siqib saqlash uchun afzal.\n",
        "\n",
        "`joblib` o'rnatilmagan bo'lsa `pip install joblib` yordamida o'rnatib oling."
      ],
      "metadata": {
        "id": "KJHbeXRcoXbC"
      }
    },
    {
      "cell_type": "code",
      "source": [
        "import joblib\n",
        "\n",
        "filename ='RF_model.jbl'\n",
        "joblib.dump(RF_model, filename)"
      ],
      "metadata": {
        "id": "hZ9ANK3PoQqh"
      },
      "execution_count": null,
      "outputs": []
    },
    {
      "cell_type": "code",
      "source": [
        "model=joblib.load(filename)"
      ],
      "metadata": {
        "id": "IXMF374QoxZL"
      },
      "execution_count": null,
      "outputs": []
    },
    {
      "cell_type": "code",
      "source": [
        "model"
      ],
      "metadata": {
        "id": "pE8M0mHoo541"
      },
      "execution_count": null,
      "outputs": []
    },
    {
      "cell_type": "code",
      "source": [
        "scores = cross_val_score(model, X_prepared, y, scoring=\"neg_mean_squared_error\", cv=5)\n",
        "LR_rmse_scores = np.sqrt(-scores)\n",
        "display_scores(LR_rmse_scores)"
      ],
      "metadata": {
        "id": "-aSNldWdo-Jg"
      },
      "execution_count": null,
      "outputs": []
    },
    {
      "cell_type": "markdown",
      "source": [
        "`pipeline` saqlab olamiz"
      ],
      "metadata": {
        "id": "8FbiDmYopCIs"
      }
    },
    {
      "cell_type": "code",
      "source": [
        "filename='pipeline.jbl'\n",
        "joblib.dump(full_pipeline, filename)"
      ],
      "metadata": {
        "id": "7LM_Rey9pAUY"
      },
      "execution_count": null,
      "outputs": []
    }
  ]
}