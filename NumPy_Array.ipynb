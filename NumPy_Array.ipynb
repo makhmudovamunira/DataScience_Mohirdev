{
  "nbformat": 4,
  "nbformat_minor": 0,
  "metadata": {
    "colab": {
      "provenance": [],
      "authorship_tag": "ABX9TyPTaDDcDQYKSb3Qy+O/LIEK",
      "include_colab_link": true
    },
    "kernelspec": {
      "name": "python3",
      "display_name": "Python 3"
    },
    "language_info": {
      "name": "python"
    }
  },
  "cells": [
    {
      "cell_type": "markdown",
      "metadata": {
        "id": "view-in-github",
        "colab_type": "text"
      },
      "source": [
        "<a href=\"https://colab.research.google.com/github/makhmudovamunira/DataScience_Mohirdev/blob/main/NumPy_Array.ipynb\" target=\"_parent\"><img src=\"https://colab.research.google.com/assets/colab-badge.svg\" alt=\"Open In Colab\"/></a>"
      ]
    },
    {
      "cell_type": "code",
      "execution_count": null,
      "metadata": {
        "id": "CcHsRCVwcUqJ"
      },
      "outputs": [],
      "source": [
        "import numpy as np"
      ]
    },
    {
      "cell_type": "code",
      "source": [
        "data1=[2,4.5,6,3] # list\n",
        "arr1=np.array(data1) # array"
      ],
      "metadata": {
        "id": "Payg8Wm6c8uW"
      },
      "execution_count": null,
      "outputs": []
    },
    {
      "cell_type": "code",
      "source": [
        "arr1"
      ],
      "metadata": {
        "colab": {
          "base_uri": "https://localhost:8080/"
        },
        "id": "Bf2-Iz5jc8wt",
        "outputId": "b21e7840-daa6-4775-8373-22dd53f77c53"
      },
      "execution_count": null,
      "outputs": [
        {
          "output_type": "execute_result",
          "data": {
            "text/plain": [
              "array([2. , 4.5, 6. , 3. ])"
            ]
          },
          "metadata": {},
          "execution_count": 13
        }
      ]
    },
    {
      "cell_type": "code",
      "source": [
        "data2=(4,5,7.8,1) #tuple\n",
        "arr2=np.array(data2)"
      ],
      "metadata": {
        "id": "MGZ0HLMUc8zJ"
      },
      "execution_count": null,
      "outputs": []
    },
    {
      "cell_type": "code",
      "source": [
        "arr2"
      ],
      "metadata": {
        "colab": {
          "base_uri": "https://localhost:8080/"
        },
        "id": "Bl-kZ5kadzhh",
        "outputId": "a9d1c5ab-8bb6-4664-994a-b340df4580b5"
      },
      "execution_count": null,
      "outputs": [
        {
          "output_type": "execute_result",
          "data": {
            "text/plain": [
              "array([4. , 5. , 7.8, 1. ])"
            ]
          },
          "metadata": {},
          "execution_count": 14
        }
      ]
    },
    {
      "cell_type": "markdown",
      "source": [
        "Massiv o'lchami\n",
        "\n",
        "**ndim**\n"
      ],
      "metadata": {
        "id": "5YZlkUJJel-j"
      }
    },
    {
      "cell_type": "code",
      "source": [
        "arr1.ndim # array o'lchami"
      ],
      "metadata": {
        "colab": {
          "base_uri": "https://localhost:8080/"
        },
        "id": "LF7VM3XTeBjk",
        "outputId": "a00d1d38-2041-4a4d-e8dd-203bc1784e7a"
      },
      "execution_count": null,
      "outputs": [
        {
          "output_type": "execute_result",
          "data": {
            "text/plain": [
              "1"
            ]
          },
          "metadata": {},
          "execution_count": 16
        }
      ]
    },
    {
      "cell_type": "code",
      "source": [
        "arr2.ndim"
      ],
      "metadata": {
        "colab": {
          "base_uri": "https://localhost:8080/"
        },
        "id": "HBwWLzekeBl6",
        "outputId": "a45c87be-963a-4b43-b1f7-00e8e797a4a1"
      },
      "execution_count": null,
      "outputs": [
        {
          "output_type": "execute_result",
          "data": {
            "text/plain": [
              "1"
            ]
          },
          "metadata": {},
          "execution_count": 17
        }
      ]
    },
    {
      "cell_type": "markdown",
      "source": [
        "## Ikki va undan ortiq o'lchamli massiv yaratish"
      ],
      "metadata": {
        "id": "EQ2ES0Mje46x"
      }
    },
    {
      "cell_type": "code",
      "source": [
        "data3=[[1,2,3,4],[5,6,7,8]]\n",
        "arr3=np.array(data3) # array3"
      ],
      "metadata": {
        "id": "Yrw3VmU0eBpZ"
      },
      "execution_count": null,
      "outputs": []
    },
    {
      "cell_type": "code",
      "source": [
        "arr3"
      ],
      "metadata": {
        "colab": {
          "base_uri": "https://localhost:8080/"
        },
        "id": "IDpN06P8fLPk",
        "outputId": "96f29127-6237-4cc5-e002-636e64de98c6"
      },
      "execution_count": null,
      "outputs": [
        {
          "output_type": "execute_result",
          "data": {
            "text/plain": [
              "[[1, 2, 3, 4], [5, 6, 7, 8]]"
            ]
          },
          "metadata": {},
          "execution_count": 20
        }
      ]
    },
    {
      "cell_type": "code",
      "source": [
        "data4=[[1,2,3],[4,5,6],[7,8,9]] # uch o'lchamli list\n",
        "arr4=np.array(data4) #array4"
      ],
      "metadata": {
        "id": "kjrepC47fLSN"
      },
      "execution_count": null,
      "outputs": []
    },
    {
      "cell_type": "code",
      "source": [
        "arr4"
      ],
      "metadata": {
        "colab": {
          "base_uri": "https://localhost:8080/"
        },
        "id": "FQvIOZQNfLVq",
        "outputId": "9548e2af-1462-4a11-c2fb-591c320c1e0d"
      },
      "execution_count": null,
      "outputs": [
        {
          "output_type": "execute_result",
          "data": {
            "text/plain": [
              "array([[1, 2, 3],\n",
              "       [4, 5, 6],\n",
              "       [7, 8, 9]])"
            ]
          },
          "metadata": {},
          "execution_count": 22
        }
      ]
    },
    {
      "cell_type": "markdown",
      "source": [
        "**shape** va **size**"
      ],
      "metadata": {
        "id": "dUJKUkw4gYuA"
      }
    },
    {
      "cell_type": "code",
      "source": [
        "arr3.shape # arrayning qator va ustunlarini aniqlab beradi (q,u)"
      ],
      "metadata": {
        "colab": {
          "base_uri": "https://localhost:8080/"
        },
        "id": "cvPW-1Fkgyl6",
        "outputId": "bd09a374-89fd-4192-d0b3-1df5e1f5732a"
      },
      "execution_count": null,
      "outputs": [
        {
          "output_type": "execute_result",
          "data": {
            "text/plain": [
              "(2, 4)"
            ]
          },
          "metadata": {},
          "execution_count": 24
        }
      ]
    },
    {
      "cell_type": "code",
      "source": [
        "arr3.size  # arriyning elementlari sonini aniqlab beradi"
      ],
      "metadata": {
        "colab": {
          "base_uri": "https://localhost:8080/"
        },
        "id": "xDVR3fTqhAsW",
        "outputId": "57e2376f-4c2e-4d03-d91a-d720570581a6"
      },
      "execution_count": null,
      "outputs": [
        {
          "output_type": "execute_result",
          "data": {
            "text/plain": [
              "8"
            ]
          },
          "metadata": {},
          "execution_count": 25
        }
      ]
    },
    {
      "cell_type": "markdown",
      "source": [
        "**zeros** va **ones**"
      ],
      "metadata": {
        "id": "VpeW69GZhOKK"
      }
    },
    {
      "cell_type": "code",
      "source": [
        "arr5=np.zeros(shape=(3,4), dtype=int) # barcha elementlari 0 ga teng bo'lgan (3,4) o'lchamli massiv\n",
        "arr5"
      ],
      "metadata": {
        "colab": {
          "base_uri": "https://localhost:8080/"
        },
        "id": "1nyjW2jyhEQ5",
        "outputId": "9318c60f-7098-471a-c1cb-3add5d1b7f5b"
      },
      "execution_count": null,
      "outputs": [
        {
          "output_type": "execute_result",
          "data": {
            "text/plain": [
              "array([[0, 0, 0, 0],\n",
              "       [0, 0, 0, 0],\n",
              "       [0, 0, 0, 0]])"
            ]
          },
          "metadata": {},
          "execution_count": 31
        }
      ]
    },
    {
      "cell_type": "code",
      "source": [
        "arr6=np.ones((4,5)) # barcha elementlari 1 ga teng bo'lgan (4,5) o'lchamli massiv\n",
        "arr6"
      ],
      "metadata": {
        "colab": {
          "base_uri": "https://localhost:8080/"
        },
        "id": "ZNZVGQq5hh9n",
        "outputId": "350b2afb-48de-4e00-e575-6fca21a0cc00"
      },
      "execution_count": null,
      "outputs": [
        {
          "output_type": "execute_result",
          "data": {
            "text/plain": [
              "array([[1., 1., 1., 1., 1.],\n",
              "       [1., 1., 1., 1., 1.],\n",
              "       [1., 1., 1., 1., 1.],\n",
              "       [1., 1., 1., 1., 1.]])"
            ]
          },
          "metadata": {},
          "execution_count": 33
        }
      ]
    },
    {
      "cell_type": "markdown",
      "source": [
        "**arange** funksiyasidan foydalanish"
      ],
      "metadata": {
        "id": "YCbUpctjinZN"
      }
    },
    {
      "cell_type": "code",
      "source": [
        "arr7=np.arange(4,20,2) # 4 dan 20 gacha bo'lgan sonlarni 2 qadam oralatib qabul qiladi\n",
        "arr7"
      ],
      "metadata": {
        "colab": {
          "base_uri": "https://localhost:8080/"
        },
        "id": "60a6boIjhqrl",
        "outputId": "e28ac94a-284d-4bc5-e1e8-053e431635d5"
      },
      "execution_count": null,
      "outputs": [
        {
          "output_type": "execute_result",
          "data": {
            "text/plain": [
              "array([ 4,  6,  8, 10, 12, 14, 16, 18])"
            ]
          },
          "metadata": {},
          "execution_count": 34
        }
      ]
    },
    {
      "cell_type": "code",
      "source": [
        "arr8=np.arange(20) # 0 dan 20 gacha 1 qadam oralatib qabul qiladi\n",
        "arr8"
      ],
      "metadata": {
        "colab": {
          "base_uri": "https://localhost:8080/"
        },
        "id": "JKMyNktijBLn",
        "outputId": "8354564f-f5a0-4760-d201-e86bafb1328c"
      },
      "execution_count": null,
      "outputs": [
        {
          "output_type": "execute_result",
          "data": {
            "text/plain": [
              "array([ 0,  1,  2,  3,  4,  5,  6,  7,  8,  9, 10, 11, 12, 13, 14, 15, 16,\n",
              "       17, 18, 19])"
            ]
          },
          "metadata": {},
          "execution_count": 35
        }
      ]
    },
    {
      "cell_type": "markdown",
      "source": [
        "**Ma'lumot turi**"
      ],
      "metadata": {
        "id": "s2Urd-SrHCxv"
      }
    },
    {
      "cell_type": "code",
      "source": [
        "arr=np.array([1,2,3], dtype=np.int32)\n",
        "arr.dtype"
      ],
      "metadata": {
        "colab": {
          "base_uri": "https://localhost:8080/"
        },
        "id": "pejRCZUYjIoG",
        "outputId": "a611948f-f2b7-493f-a829-935c5b32ec71"
      },
      "execution_count": null,
      "outputs": [
        {
          "output_type": "execute_result",
          "data": {
            "text/plain": [
              "dtype('int32')"
            ]
          },
          "metadata": {},
          "execution_count": 9
        }
      ]
    },
    {
      "cell_type": "code",
      "source": [
        "arr9=np.array([1,2,3], dtype=np.float64)\n",
        "arr9"
      ],
      "metadata": {
        "colab": {
          "base_uri": "https://localhost:8080/"
        },
        "id": "_hPHTI8UHh0K",
        "outputId": "6a43aba4-12b8-48f4-e3b1-3f1af0bdd7f7"
      },
      "execution_count": null,
      "outputs": [
        {
          "output_type": "execute_result",
          "data": {
            "text/plain": [
              "array([1., 2., 3.])"
            ]
          },
          "metadata": {},
          "execution_count": 10
        }
      ]
    },
    {
      "cell_type": "code",
      "source": [
        "arr10=np.array([1.2,3.4,5,6.7])\n",
        "arr10.dtype"
      ],
      "metadata": {
        "colab": {
          "base_uri": "https://localhost:8080/"
        },
        "id": "MYBZBlq0IUxw",
        "outputId": "0cf201c2-08bc-45a0-a3a4-329a65e25af3"
      },
      "execution_count": null,
      "outputs": [
        {
          "output_type": "execute_result",
          "data": {
            "text/plain": [
              "dtype('float64')"
            ]
          },
          "metadata": {},
          "execution_count": 11
        }
      ]
    },
    {
      "cell_type": "markdown",
      "source": [
        "**astype**"
      ],
      "metadata": {
        "id": "O4hCedlfIkY_"
      }
    },
    {
      "cell_type": "code",
      "source": [
        "arr11=arr10.astype(np.int32)\n",
        "arr11"
      ],
      "metadata": {
        "colab": {
          "base_uri": "https://localhost:8080/"
        },
        "id": "MPa1iu9fIi3m",
        "outputId": "ca0b582c-da85-49e0-f437-a63e91290999"
      },
      "execution_count": null,
      "outputs": [
        {
          "output_type": "execute_result",
          "data": {
            "text/plain": [
              "array([1, 3, 5, 6], dtype=int32)"
            ]
          },
          "metadata": {},
          "execution_count": 12
        }
      ]
    },
    {
      "cell_type": "code",
      "source": [],
      "metadata": {
        "id": "bEEGIRo-I2fH"
      },
      "execution_count": null,
      "outputs": []
    }
  ]
}