{
  "nbformat": 4,
  "nbformat_minor": 0,
  "metadata": {
    "colab": {
      "private_outputs": true,
      "provenance": [],
      "authorship_tag": "ABX9TyN9t8EByz2esQwwrbUtwH4Z",
      "include_colab_link": true
    },
    "kernelspec": {
      "name": "python3",
      "display_name": "Python 3"
    },
    "language_info": {
      "name": "python"
    }
  },
  "cells": [
    {
      "cell_type": "markdown",
      "metadata": {
        "id": "view-in-github",
        "colab_type": "text"
      },
      "source": [
        "<a href=\"https://colab.research.google.com/github/makhmudovamunira/DataScience_Mohirdev/blob/main/DecisionTree.ipynb\" target=\"_parent\"><img src=\"https://colab.research.google.com/assets/colab-badge.svg\" alt=\"Open In Colab\"/></a>"
      ]
    },
    {
      "cell_type": "code",
      "execution_count": null,
      "metadata": {
        "id": "2nvAPfWzB4rv"
      },
      "outputs": [],
      "source": [
        "import numpy as np\n",
        "import pandas as pd\n",
        "from sklearn.tree import DecisionTreeClassifier\n",
        "from sklearn.ensemble import RandomForestClassifier\n",
        "from sklearn.preprocessing import LabelEncoder\n",
        "from sklearn.model_selection import train_test_split\n",
        "from sklearn.metrics import classification_report\n",
        "from sklearn.metrics import confusion_matrix\n",
        "from sklearn import tree\n",
        "from matplotlib import pyplot as plt\n",
        "from sklearn.model_selection import cross_val_predict\n",
        "import seaborn as sns\n",
        "import matplotlib.pyplot as plt\n",
        "from sklearn import metrics"
      ]
    },
    {
      "cell_type": "code",
      "source": [
        "url = \"https://cf-courses-data.s3.us.cloud-object-storage.appdomain.cloud/IBMDeveloperSkillsNetwork-ML0101EN-SkillsNetwork/labs/Module%203/data/drug200.csv\"\n",
        "df = pd.read_csv(url)"
      ],
      "metadata": {
        "id": "mrkRBjv-Hr35"
      },
      "execution_count": null,
      "outputs": []
    },
    {
      "cell_type": "code",
      "source": [
        "df.head()"
      ],
      "metadata": {
        "id": "XZh9s3QofsEt"
      },
      "execution_count": null,
      "outputs": []
    },
    {
      "cell_type": "code",
      "source": [
        "encoder=LabelEncoder()\n",
        "df['Sex']=encoder.fit_transform(df['Sex'].values)\n",
        "df['BP']=encoder.fit_transform(df['BP'].values)\n",
        "df['Cholesterol']=encoder.fit_transform(df['Cholesterol'].values)\n",
        "df.sample(5)"
      ],
      "metadata": {
        "id": "T4ER3zB5fvxc"
      },
      "execution_count": null,
      "outputs": []
    },
    {
      "cell_type": "code",
      "source": [
        "X=df[['Age', 'Sex', 'BP','Cholesterol', 'Na_to_K']].values\n",
        "X[0:5]"
      ],
      "metadata": {
        "id": "jgHla_PDgXd4"
      },
      "execution_count": null,
      "outputs": []
    },
    {
      "cell_type": "code",
      "source": [
        "y=df['Drug'].values"
      ],
      "metadata": {
        "id": "GNrbdFJ8gwKy"
      },
      "execution_count": null,
      "outputs": []
    },
    {
      "cell_type": "markdown",
      "source": [
        "##Train/Test split"
      ],
      "metadata": {
        "id": "Qd2GUODogJNZ"
      }
    },
    {
      "cell_type": "code",
      "source": [
        "X_train, X_test, y_train, y_test = train_test_split(X, y,test_size=0.4, random_state=20)"
      ],
      "metadata": {
        "id": "MDIB0X74gHD1"
      },
      "execution_count": null,
      "outputs": []
    },
    {
      "cell_type": "markdown",
      "source": [
        "##Model"
      ],
      "metadata": {
        "id": "EXBRNklFhMMo"
      }
    },
    {
      "cell_type": "code",
      "source": [
        "tree_model=DecisionTreeClassifier()\n",
        "tree_model.fit(X_train, y_train)"
      ],
      "metadata": {
        "id": "cFfJuDyDgRQa"
      },
      "execution_count": null,
      "outputs": []
    },
    {
      "cell_type": "markdown",
      "source": [
        "##Baholash"
      ],
      "metadata": {
        "id": "ol6OCXKyhbb_"
      }
    },
    {
      "cell_type": "code",
      "source": [
        "y_predict=tree_model.predict(X_test)"
      ],
      "metadata": {
        "id": "LrhNEYUhhLPt"
      },
      "execution_count": null,
      "outputs": []
    },
    {
      "cell_type": "code",
      "source": [
        "print(classification_report(y_test, y_predict))"
      ],
      "metadata": {
        "id": "11WN-9Wkhpdk"
      },
      "execution_count": null,
      "outputs": []
    },
    {
      "cell_type": "code",
      "source": [
        "print(\"DesignTree's Accuracy: \", metrics.accuracy_score(y_test, y_predict))"
      ],
      "metadata": {
        "id": "LcCFXqcah1p2"
      },
      "execution_count": null,
      "outputs": []
    },
    {
      "cell_type": "code",
      "source": [
        "sns.heatmap(confusion_matrix(y_test, y_predict), annot=True)\n",
        "plt.show()"
      ],
      "metadata": {
        "id": "Rks2pu5Kiee9"
      },
      "execution_count": null,
      "outputs": []
    },
    {
      "cell_type": "code",
      "source": [
        "confusion_matrix(y_test, y_predict)"
      ],
      "metadata": {
        "id": "JWCawslcjB1I"
      },
      "execution_count": null,
      "outputs": []
    },
    {
      "cell_type": "markdown",
      "source": [
        "cross-validation"
      ],
      "metadata": {
        "id": "WV5ZfEBLjZ-h"
      }
    },
    {
      "cell_type": "code",
      "source": [
        "predict=cross_val_predict(estimator=tree_model, X=X, y=y, cv=5)\n",
        "print(\"Classification Report \", classification_report(y, predict))"
      ],
      "metadata": {
        "id": "3JJw_ES7jRtv"
      },
      "execution_count": null,
      "outputs": []
    },
    {
      "cell_type": "code",
      "source": [
        "sns.heatmap(confusion_matrix(y, predict), annot=True)\n",
        "plt.show()"
      ],
      "metadata": {
        "id": "WLpTbJE0jvub"
      },
      "execution_count": null,
      "outputs": []
    },
    {
      "cell_type": "markdown",
      "source": [
        "## Decision Tree chizamiz"
      ],
      "metadata": {
        "id": "3Q4f1lyPkD8b"
      }
    },
    {
      "cell_type": "code",
      "source": [
        "cols=df.drop('Drug', axis=1).columns\n",
        "classes=df['Drug'].unique()\n",
        "\n",
        "plt.figure(figsize=(30,20))\n",
        "tree.plot_tree(tree_model, feature_names=cols,class_names=classes, filled=True)\n",
        "plt.show()"
      ],
      "metadata": {
        "id": "8HYn370cj9Uw"
      },
      "execution_count": null,
      "outputs": []
    },
    {
      "cell_type": "markdown",
      "source": [
        "# Hyperparameters\n",
        "\n",
        "Har bir model o'ziga xos giperparametrlar bilan keladi, biz bu parametrlarni sozlash orqali model aniqligini yoki tezligini oshirishimiz mumkin.\n",
        "\n",
        "k-NN uchun bu `k` ya'ni qo'shnilar soni edi. Decision Treen da esa bir nechta giperparametrlar mavjud. Barcha parametrlarni ushbu link orqali ko'rishingiz mumkin: https://scikit-learn.org/stable/modules/generated/sklearn.tree.DecisionTreeClassifier.html\n",
        "\n",
        "**`min_impurity_decrease'** - natija qanchalik \"toza\" bo'lishini belgilaydi. Standart qiymati 0"
      ],
      "metadata": {
        "id": "Nf6PCtNElkLW"
      }
    },
    {
      "cell_type": "code",
      "source": [
        "tree_model=DecisionTreeClassifier(min_impurity_decrease=0.01)\n",
        "tree_model.fit(X_train, y_train)\n",
        "y_predict=tree_model.predict(X_test)\n",
        "\n",
        "print(\"DecesionTree's Accuracy: \", metrics.accuracy_score(y_test, y_predict))\n",
        "\n",
        "#plt.figure(figsize=(15,20))\n",
        "tree.plot_tree(tree_model, feature_names=cols, class_names=classes, filled=True)\n",
        "plt.show()"
      ],
      "metadata": {
        "id": "41XAb1kmkYgI"
      },
      "execution_count": null,
      "outputs": []
    },
    {
      "cell_type": "markdown",
      "source": [
        "**`max_depth`** - shajara qavatlari soni"
      ],
      "metadata": {
        "id": "tVWna9sinD0f"
      }
    },
    {
      "cell_type": "code",
      "source": [
        "tree_model=DecisionTreeClassifier(min_impurity_decrease=0.01, max_depth=3)\n",
        "tree_model.fit(X_train, y_train)\n",
        "y_predict=tree_model.predict(X_test)\n",
        "\n",
        "print(\"DecesionTree's Accuracy: \", metrics.accuracy_score(y_test, y_predict))\n",
        "\n",
        "#plt.figure(figsize=(15,20))\n",
        "tree.plot_tree(tree_model, feature_names=cols, class_names=classes, filled=True)\n",
        "plt.show()"
      ],
      "metadata": {
        "id": "pmlN_CVDmvTk"
      },
      "execution_count": null,
      "outputs": []
    },
    {
      "cell_type": "markdown",
      "source": [
        "**`min_samples_leaf`** - leaf node (yakuniy, barg tugun) hosil qilish uchun eng kam elementlar soni"
      ],
      "metadata": {
        "id": "VbOBY2nwnOQu"
      }
    },
    {
      "cell_type": "code",
      "source": [
        "tree_model=DecisionTreeClassifier(min_samples_leaf=5, max_depth=3)\n",
        "tree_model.fit(X_train, y_train)\n",
        "y_predict=tree_model.predict(X_test)\n",
        "\n",
        "print(\"DecesionTree's Accuracy: \", metrics.accuracy_score(y_test, y_predict))\n",
        "\n",
        "#plt.figure(figsize=(15,20))\n",
        "tree.plot_tree(tree_model, feature_names=cols, class_names=classes, filled=True)\n",
        "plt.show()"
      ],
      "metadata": {
        "id": "xZ_B4aetnJ8B"
      },
      "execution_count": null,
      "outputs": []
    },
    {
      "cell_type": "markdown",
      "source": [
        "## Random Forest\n",
        "\n",
        "[Hyperparameters](https://scikit-learn.org/stable/modules/generated/sklearn.ensemble.RandomForestClassifier.html):\n",
        "- `n_estimators` - o'rmondagi daraxtlar soni."
      ],
      "metadata": {
        "id": "88exiny7njYu"
      }
    },
    {
      "cell_type": "code",
      "source": [
        "rf_model=RandomForestClassifier(n_estimators=15)\n",
        "rf_model.fit(X_train, y_train)\n",
        "y_pred=rf_model.predict(X_test)\n",
        "print(\"Classification report: \",classification_report(y_test, y_pred))\n"
      ],
      "metadata": {
        "id": "6UcicfannWWq"
      },
      "execution_count": null,
      "outputs": []
    },
    {
      "cell_type": "code",
      "source": [
        "print(\"DecisionTree's Accuracy: \", metrics.accuracy_score(y_test, y_pred))"
      ],
      "metadata": {
        "id": "pGt6ht7crKbA"
      },
      "execution_count": null,
      "outputs": []
    },
    {
      "cell_type": "code",
      "source": [],
      "metadata": {
        "id": "2UQFPeMCrgb0"
      },
      "execution_count": null,
      "outputs": []
    }
  ]
}