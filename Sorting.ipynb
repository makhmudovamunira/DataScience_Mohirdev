{
  "nbformat": 4,
  "nbformat_minor": 0,
  "metadata": {
    "colab": {
      "provenance": [],
      "authorship_tag": "ABX9TyNlDnFbMROMVfDziqsywC0N",
      "include_colab_link": true
    },
    "kernelspec": {
      "name": "python3",
      "display_name": "Python 3"
    },
    "language_info": {
      "name": "python"
    }
  },
  "cells": [
    {
      "cell_type": "markdown",
      "metadata": {
        "id": "view-in-github",
        "colab_type": "text"
      },
      "source": [
        "<a href=\"https://colab.research.google.com/github/makhmudovamunira/DataScience_Mohirdev/blob/main/Sorting.ipynb\" target=\"_parent\"><img src=\"https://colab.research.google.com/assets/colab-badge.svg\" alt=\"Open In Colab\"/></a>"
      ]
    },
    {
      "cell_type": "code",
      "execution_count": 1,
      "metadata": {
        "id": "gL_3LWbYL2fd"
      },
      "outputs": [],
      "source": [
        "import numpy as np"
      ]
    },
    {
      "cell_type": "code",
      "source": [
        "arr=np.random.randn(5)\n",
        "arr"
      ],
      "metadata": {
        "colab": {
          "base_uri": "https://localhost:8080/"
        },
        "id": "89XEDwrML9Le",
        "outputId": "30725121-8e5a-4dc5-94b9-0e09474c04f4"
      },
      "execution_count": 2,
      "outputs": [
        {
          "output_type": "execute_result",
          "data": {
            "text/plain": [
              "array([ 0.60548596,  0.080931  , -1.13518145, -0.31488102, -1.12174453])"
            ]
          },
          "metadata": {},
          "execution_count": 2
        }
      ]
    },
    {
      "cell_type": "code",
      "source": [
        "np.sort(arr) # tartiblash\n"
      ],
      "metadata": {
        "colab": {
          "base_uri": "https://localhost:8080/"
        },
        "id": "X2eTrDopMEm0",
        "outputId": "a61b357d-c6c3-4438-966d-ea9d5bbea7c8"
      },
      "execution_count": 8,
      "outputs": [
        {
          "output_type": "execute_result",
          "data": {
            "text/plain": [
              "array([-1.13518145, -1.12174453, -0.31488102,  0.080931  ,  0.60548596])"
            ]
          },
          "metadata": {},
          "execution_count": 8
        }
      ]
    },
    {
      "cell_type": "code",
      "source": [
        "re_sort=-np.sort(-arr)\n",
        "re_sort"
      ],
      "metadata": {
        "colab": {
          "base_uri": "https://localhost:8080/"
        },
        "id": "noSAPYx3MLPy",
        "outputId": "74f87b61-c006-4d5c-9fa8-1f48486b5995"
      },
      "execution_count": 9,
      "outputs": [
        {
          "output_type": "execute_result",
          "data": {
            "text/plain": [
              "array([ 0.60548596,  0.080931  , -0.31488102, -1.12174453, -1.13518145])"
            ]
          },
          "metadata": {},
          "execution_count": 9
        }
      ]
    },
    {
      "cell_type": "code",
      "source": [
        "arr2d=np.random.randn(4,5)\n",
        "arr2d"
      ],
      "metadata": {
        "colab": {
          "base_uri": "https://localhost:8080/"
        },
        "id": "KDFjrHsgMWbs",
        "outputId": "6f54aa3c-d11d-4145-ef65-8dfd442f59c0"
      },
      "execution_count": 10,
      "outputs": [
        {
          "output_type": "execute_result",
          "data": {
            "text/plain": [
              "array([[-1.15142933,  0.23423701, -0.20581577,  0.22280786, -0.2438245 ],\n",
              "       [-0.28069999, -1.14689262, -0.43656369, -0.54913205,  0.50042148],\n",
              "       [ 0.0716796 ,  2.17250247,  1.7668228 ,  0.2392708 , -0.94589842],\n",
              "       [-0.46687697, -1.50743276, -0.76494245, -0.30135975,  0.89612711]])"
            ]
          },
          "metadata": {},
          "execution_count": 10
        }
      ]
    },
    {
      "cell_type": "code",
      "source": [
        "row_sort=np.sort(arr2d,axis=1) # qator bo'yicha tartiblaydi\n",
        "row_sort"
      ],
      "metadata": {
        "colab": {
          "base_uri": "https://localhost:8080/"
        },
        "id": "3jL1O2NUMyle",
        "outputId": "6589869b-00f0-4cff-c027-04693af1b484"
      },
      "execution_count": 12,
      "outputs": [
        {
          "output_type": "execute_result",
          "data": {
            "text/plain": [
              "array([[-1.15142933, -0.2438245 , -0.20581577,  0.22280786,  0.23423701],\n",
              "       [-1.14689262, -0.54913205, -0.43656369, -0.28069999,  0.50042148],\n",
              "       [-0.94589842,  0.0716796 ,  0.2392708 ,  1.7668228 ,  2.17250247],\n",
              "       [-1.50743276, -0.76494245, -0.46687697, -0.30135975,  0.89612711]])"
            ]
          },
          "metadata": {},
          "execution_count": 12
        }
      ]
    },
    {
      "cell_type": "code",
      "source": [
        "col_sort=np.sort(arr2d, axis=0)\n",
        "col_sort"
      ],
      "metadata": {
        "colab": {
          "base_uri": "https://localhost:8080/"
        },
        "id": "C9iTITVyM78L",
        "outputId": "28d4dc7d-0a42-44a3-80b5-81b9bc28c8df"
      },
      "execution_count": 13,
      "outputs": [
        {
          "output_type": "execute_result",
          "data": {
            "text/plain": [
              "array([[-1.15142933, -1.50743276, -0.76494245, -0.54913205, -0.94589842],\n",
              "       [-0.46687697, -1.14689262, -0.43656369, -0.30135975, -0.2438245 ],\n",
              "       [-0.28069999,  0.23423701, -0.20581577,  0.22280786,  0.50042148],\n",
              "       [ 0.0716796 ,  2.17250247,  1.7668228 ,  0.2392708 ,  0.89612711]])"
            ]
          },
          "metadata": {},
          "execution_count": 13
        }
      ]
    },
    {
      "cell_type": "code",
      "source": [],
      "metadata": {
        "id": "0GS3ciEQNK7T"
      },
      "execution_count": null,
      "outputs": []
    }
  ]
}