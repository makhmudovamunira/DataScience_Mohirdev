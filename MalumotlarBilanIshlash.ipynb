{
  "nbformat": 4,
  "nbformat_minor": 0,
  "metadata": {
    "colab": {
      "private_outputs": true,
      "provenance": [],
      "authorship_tag": "ABX9TyMntbM1p1p+1uOEIFigUftJ",
      "include_colab_link": true
    },
    "kernelspec": {
      "name": "python3",
      "display_name": "Python 3"
    },
    "language_info": {
      "name": "python"
    }
  },
  "cells": [
    {
      "cell_type": "markdown",
      "metadata": {
        "id": "view-in-github",
        "colab_type": "text"
      },
      "source": [
        "<a href=\"https://colab.research.google.com/github/makhmudovamunira/DataScience_Mohirdev/blob/main/MalumotlarBilanIshlash.ipynb\" target=\"_parent\"><img src=\"https://colab.research.google.com/assets/colab-badge.svg\" alt=\"Open In Colab\"/></a>"
      ]
    },
    {
      "cell_type": "code",
      "execution_count": null,
      "metadata": {
        "id": "1SjIELU5DGvU"
      },
      "outputs": [],
      "source": [
        "import pandas as pd\n",
        "import sqlite3 as sql"
      ]
    },
    {
      "cell_type": "code",
      "source": [
        "db=sql.connect('newdb.db')\n",
        "cursor=db.cursor()"
      ],
      "metadata": {
        "id": "S-R1jfJpDOdD"
      },
      "execution_count": null,
      "outputs": []
    },
    {
      "cell_type": "code",
      "source": [
        "df = pd.read_csv(\"https://raw.githubusercontent.com/anvarnarz/praktikum_datasets/main/Electricity_Production_By_Source.csv\")\n",
        "df.head()"
      ],
      "metadata": {
        "id": "NfsHNw-kDYBV"
      },
      "execution_count": null,
      "outputs": []
    },
    {
      "cell_type": "code",
      "source": [
        "cols=['country', 'code','year','coal','gas','hydro','renewabels','solar','oil','wind','nuclear']\n",
        "df.columns=cols\n",
        "df.head()"
      ],
      "metadata": {
        "id": "LokxP4eJDeoJ"
      },
      "execution_count": null,
      "outputs": []
    },
    {
      "cell_type": "code",
      "source": [
        "df.to_sql('jadval',db)"
      ],
      "metadata": {
        "id": "ryVX_Fn3D4ge"
      },
      "execution_count": null,
      "outputs": []
    },
    {
      "cell_type": "code",
      "source": [
        "query=\"SELECT * FROM jadval\"\n",
        "df2=pd.read_sql(query, db)\n",
        "df2"
      ],
      "metadata": {
        "id": "Qzi5e9rzEOf7"
      },
      "execution_count": null,
      "outputs": []
    },
    {
      "cell_type": "code",
      "source": [
        "df2.info()"
      ],
      "metadata": {
        "id": "DAlPYZBOEpkn"
      },
      "execution_count": null,
      "outputs": []
    },
    {
      "cell_type": "code",
      "source": [
        "df2.describe()"
      ],
      "metadata": {
        "id": "Um642EUnEw-8"
      },
      "execution_count": null,
      "outputs": []
    },
    {
      "cell_type": "markdown",
      "source": [
        "**Jadval yaratish qadamlari:**\n",
        "- `CREATE TABLE` - jadval yaratish buyrug'i\n",
        "- `IF NOT EXISTS` - jadval mavjud bo'lmasa\n",
        "- `worldpop` - jadval nomi\n",
        "- Qavs ichida jadval ustunlari, ustundagi ma'lumot turi va qo'shimcha parametrlar vergul bilan ajratib yoziladi.\n",
        "\n",
        "**Quyidagi misolada jadvalimiz 5 ta ustundan iborat:**\n",
        "- `rank` - davlat reytingi (zichlik bo'yicha), `INT` ya'ni butun son.\n",
        "- `country` - davlat nomi, `TEXT` - matn, `PRIMARY KEY` - birlamchi qiymat, qatorga shu ustun qiymati bilan murojaat qilinadi (takrorlanman bo'lishi kerak)\n",
        "- `density` - zichlik, `DOUBLE` - o'nlik son\n",
        "- `population` - aholi soni, `DOUBLE` - o'nlik son, `NOT NULL` - bo'sh bo'lmasligi (qiymat berilishi shart)\n",
        "- `area` - maydoni, `INT` - butun son, `NOT NULL` - qiymat berilishi shart."
      ],
      "metadata": {
        "id": "MtIfE6fqFFqs"
      }
    },
    {
      "cell_type": "code",
      "source": [
        "query=\"\"\"\n",
        "CREATE TABLE IF NOT EXISTS worldpop(\n",
        "  rank INT,\n",
        "  country TEXT PRIMARY KEY,\n",
        "  density DOUBLE,\n",
        "  population DOUBLE NOT NULL,\n",
        "  area INT NOT NULL\n",
        ");\n",
        "\"\"\"\n",
        "cursor.execute(query)\n",
        "db.commit()"
      ],
      "metadata": {
        "id": "DATWFuTOE0bV"
      },
      "execution_count": null,
      "outputs": []
    },
    {
      "cell_type": "code",
      "source": [
        "cursor.execute(\"SELECT name FROM sqlite_master WHERE type='table'\")\n",
        "cursor.fetchall()"
      ],
      "metadata": {
        "id": "8hXXccB2FyOd"
      },
      "execution_count": null,
      "outputs": []
    },
    {
      "cell_type": "code",
      "source": [
        "cursor.execute(\"PRAGMA table_info(worldpop)\")\n",
        "cursor.fetchall()"
      ],
      "metadata": {
        "id": "rJJTQ5EeGV0t"
      },
      "execution_count": null,
      "outputs": []
    },
    {
      "cell_type": "code",
      "source": [
        "query=\"SELECT * FROM worldpop\"\n",
        "df3=pd.read_sql(query, db)\n",
        "df3.head()"
      ],
      "metadata": {
        "id": "dkkhDcEiHfKd"
      },
      "execution_count": null,
      "outputs": []
    },
    {
      "cell_type": "code",
      "source": [
        "query=\"INSERT INTO worldpop VALUES (1, 'macau', 2346.4667,658.3940, 30)\"\n",
        "cursor.execute(query)\n",
        "db.commit()"
      ],
      "metadata": {
        "id": "OC2zjUx3H1am"
      },
      "execution_count": null,
      "outputs": []
    },
    {
      "cell_type": "code",
      "source": [
        "cursor.execute(\"SELECT * FROM worldpop\")\n",
        "cursor.fetchall()"
      ],
      "metadata": {
        "id": "Vfczs8ChJ5uv"
      },
      "execution_count": null,
      "outputs": []
    },
    {
      "cell_type": "code",
      "source": [
        "pd.read_sql(query, db)"
      ],
      "metadata": {
        "id": "u2G73pjnKDGF"
      },
      "execution_count": null,
      "outputs": []
    },
    {
      "cell_type": "code",
      "source": [
        "query=\"\"\"\n",
        "INSERT INTO worldpop (country, population, area)\n",
        "VALUES (\"Uzbekistan\", 33295.7360, 44700)\n",
        "\"\"\"\n",
        "cursor.execute(query)\n",
        "db.commit()"
      ],
      "metadata": {
        "id": "uc_LxG-9Msiy"
      },
      "execution_count": null,
      "outputs": []
    },
    {
      "cell_type": "code",
      "source": [
        "cursor.execute(\"SELECT * FROM worldpop\")\n",
        "cursor.fetchall()"
      ],
      "metadata": {
        "id": "8tGNtzfyMslK"
      },
      "execution_count": null,
      "outputs": []
    },
    {
      "cell_type": "code",
      "source": [
        "query=\"UPDATE worldpop SET rank=133, density=1223 WHERE country='Uzbekistan'\"\n",
        "cursor.execute(query)\n",
        "db.commit()"
      ],
      "metadata": {
        "id": "ZMIGxj6XMsoq"
      },
      "execution_count": null,
      "outputs": []
    },
    {
      "cell_type": "code",
      "source": [
        "query=\"SELECT * FROM worldpop\"\n",
        "cursor.execute(query)\n",
        "cursor.fetchall()"
      ],
      "metadata": {
        "id": "aF170UCOQO48"
      },
      "execution_count": null,
      "outputs": []
    },
    {
      "cell_type": "code",
      "source": [
        "pd.read_sql(query, db)"
      ],
      "metadata": {
        "id": "_89xOeHOQhpw"
      },
      "execution_count": null,
      "outputs": []
    },
    {
      "cell_type": "code",
      "source": [
        "query=\"DELETE FROM worldpop WHERE country='macau'\"\n",
        "cursor.execute(query)\n",
        "db.commit()"
      ],
      "metadata": {
        "id": "f448Xaa4Qo5V"
      },
      "execution_count": null,
      "outputs": []
    },
    {
      "cell_type": "code",
      "source": [
        "query=\"SELECT * FROM worldpop\"\n",
        "cursor.execute(query)\n",
        "cursor.fetchall()"
      ],
      "metadata": {
        "id": "g6CxzfWKRHEl"
      },
      "execution_count": null,
      "outputs": []
    },
    {
      "cell_type": "markdown",
      "source": [
        "## Jadvalni butunlay o'chirib tashlash"
      ],
      "metadata": {
        "id": "40L3arQ9RfDx"
      }
    },
    {
      "cell_type": "code",
      "source": [
        "cursor.execute(\"DROP TABLE worldpop\")\n",
        "db.commit()"
      ],
      "metadata": {
        "id": "SCayqVoDRTWh"
      },
      "execution_count": null,
      "outputs": []
    },
    {
      "cell_type": "code",
      "source": [
        "cursor.execute(\"SELECT name FROM sqlite_master WHERE type='table'\")\n",
        "cursor.fetchall()"
      ],
      "metadata": {
        "id": "yg9KyDc0Rozu"
      },
      "execution_count": null,
      "outputs": []
    },
    {
      "cell_type": "markdown",
      "source": [
        "# SQL buyruqlarni f-string yordamida yozish\n",
        "Biz yuqorida SQL buyruqlarni oddiy matn ko'rinishida yozayapamiz, demak Pythondagi f-string yordamida matnlarga o'zgaruvchilarning qiymatini ham qo'shish mumkin.\n",
        "\n",
        "Keling boshlanishiga quyidagi DF ni yaratib olamiz, so'ngra DF qatorlarini yangi SQL jadvalga f-string yordamida yozamiz."
      ],
      "metadata": {
        "id": "OcIfAD1OTJLH"
      }
    },
    {
      "cell_type": "code",
      "source": [
        "df = pd.read_csv(\"https://github.com/anvarnarz/praktikum_datasets/raw/main/world_population.csv\", index_col='rank')\n",
        "df.head()"
      ],
      "metadata": {
        "id": "wM9Wt5vdR51f"
      },
      "execution_count": null,
      "outputs": []
    },
    {
      "cell_type": "code",
      "source": [
        "query=\"\"\"\n",
        "CREATE TABLE IF NOT EXISTS worldpop(\n",
        "  rank INT,\n",
        "  country TEXT PRIMARY KEY,\n",
        "  density DOUBLE,\n",
        "  population DOUBLE NOT NULL,\n",
        "  area INT NOT NULL\n",
        ");\n",
        "\"\"\"\n",
        "cursor.execute(query)\n",
        "db.commit()"
      ],
      "metadata": {
        "id": "AMFij9vJTOPY"
      },
      "execution_count": null,
      "outputs": []
    },
    {
      "cell_type": "code",
      "source": [
        "uz=df[df.country=='Uzbekistan']\n",
        "uz"
      ],
      "metadata": {
        "id": "Vmg0Y-qvTZHf"
      },
      "execution_count": null,
      "outputs": []
    },
    {
      "cell_type": "code",
      "source": [
        "rank=uz.index.values[0]\n",
        "country=uz.at[rank, 'country']\n",
        "density=uz.at[rank, 'density']\n",
        "population=uz.at[rank, 'pop2021']\n",
        "area=uz.at[rank, 'area']\n",
        "print(f\"{rank}, {country}, {density}, {population}, {area}\")"
      ],
      "metadata": {
        "id": "vgbBBM21TkSI"
      },
      "execution_count": null,
      "outputs": []
    },
    {
      "cell_type": "code",
      "source": [
        "query=f\"\"\"\n",
        "INSERT INTO worldpop VALUES ({rank}, '{country}', {density}, {population}, {area})\n",
        "\"\"\"\n",
        "cursor.execute(query)\n",
        "db.commit()"
      ],
      "metadata": {
        "id": "lQSPq5UnUVY9"
      },
      "execution_count": null,
      "outputs": []
    },
    {
      "cell_type": "code",
      "source": [
        "cursor.execute(\"SELECT * FROM worldpop\")\n",
        "cursor.fetchall()"
      ],
      "metadata": {
        "id": "jWbNNudBVKhl"
      },
      "execution_count": null,
      "outputs": []
    },
    {
      "cell_type": "markdown",
      "source": [
        "###bazani yopamiz"
      ],
      "metadata": {
        "id": "4FGuXbKnVbp5"
      }
    },
    {
      "cell_type": "code",
      "source": [
        "db.close()"
      ],
      "metadata": {
        "id": "xgcQDl9FVUNG"
      },
      "execution_count": null,
      "outputs": []
    },
    {
      "cell_type": "code",
      "source": [
        "cursor.execute(\"SELECT * FROM worldpop\")\n",
        "cursor.fetchall()"
      ],
      "metadata": {
        "id": "aLA7ljO5VX8w"
      },
      "execution_count": null,
      "outputs": []
    }
  ]
}