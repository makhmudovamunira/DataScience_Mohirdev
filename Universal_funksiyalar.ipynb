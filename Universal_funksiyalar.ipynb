{
  "nbformat": 4,
  "nbformat_minor": 0,
  "metadata": {
    "colab": {
      "provenance": [],
      "authorship_tag": "ABX9TyOVpqH6+62AyxnumQoImH96",
      "include_colab_link": true
    },
    "kernelspec": {
      "name": "python3",
      "display_name": "Python 3"
    },
    "language_info": {
      "name": "python"
    }
  },
  "cells": [
    {
      "cell_type": "markdown",
      "metadata": {
        "id": "view-in-github",
        "colab_type": "text"
      },
      "source": [
        "<a href=\"https://colab.research.google.com/github/makhmudovamunira/DataScience_Mohirdev/blob/main/Universal_funksiyalar.ipynb\" target=\"_parent\"><img src=\"https://colab.research.google.com/assets/colab-badge.svg\" alt=\"Open In Colab\"/></a>"
      ]
    },
    {
      "cell_type": "code",
      "execution_count": 1,
      "metadata": {
        "id": "2TDml_WkKMBi"
      },
      "outputs": [],
      "source": [
        "import numpy as np"
      ]
    },
    {
      "cell_type": "markdown",
      "source": [
        "**Unary** funksiyalar. Bitta argument berishi mumkin bo'lgan funksiya"
      ],
      "metadata": {
        "id": "f39eC8gaN9V9"
      }
    },
    {
      "cell_type": "code",
      "source": [
        "arr=np.arange(10)\n",
        "arr"
      ],
      "metadata": {
        "colab": {
          "base_uri": "https://localhost:8080/"
        },
        "id": "iO4y3-EvKOge",
        "outputId": "108dff69-3738-404e-fd10-54808d7b32d0"
      },
      "execution_count": 2,
      "outputs": [
        {
          "output_type": "execute_result",
          "data": {
            "text/plain": [
              "array([0, 1, 2, 3, 4, 5, 6, 7, 8, 9])"
            ]
          },
          "metadata": {},
          "execution_count": 2
        }
      ]
    },
    {
      "cell_type": "code",
      "source": [
        "np.sqrt(arr)"
      ],
      "metadata": {
        "colab": {
          "base_uri": "https://localhost:8080/"
        },
        "id": "MyTSdmsQKXYB",
        "outputId": "4d402dad-b3d2-4f8c-9d87-29665cddd10b"
      },
      "execution_count": 3,
      "outputs": [
        {
          "output_type": "execute_result",
          "data": {
            "text/plain": [
              "array([0.        , 1.        , 1.41421356, 1.73205081, 2.        ,\n",
              "       2.23606798, 2.44948974, 2.64575131, 2.82842712, 3.        ])"
            ]
          },
          "metadata": {},
          "execution_count": 3
        }
      ]
    },
    {
      "cell_type": "code",
      "source": [
        "np.square(arr)"
      ],
      "metadata": {
        "colab": {
          "base_uri": "https://localhost:8080/"
        },
        "id": "ZinFlVP_KZ9H",
        "outputId": "0e2d3257-83eb-4280-b341-678d98a94df6"
      },
      "execution_count": 4,
      "outputs": [
        {
          "output_type": "execute_result",
          "data": {
            "text/plain": [
              "array([ 0,  1,  4,  9, 16, 25, 36, 49, 64, 81])"
            ]
          },
          "metadata": {},
          "execution_count": 4
        }
      ]
    },
    {
      "cell_type": "code",
      "source": [
        "np.exp(arr)"
      ],
      "metadata": {
        "colab": {
          "base_uri": "https://localhost:8080/"
        },
        "id": "O9JHTd18KcfX",
        "outputId": "e20035df-f992-4b56-e2c1-c6a0e0f7d8b8"
      },
      "execution_count": 5,
      "outputs": [
        {
          "output_type": "execute_result",
          "data": {
            "text/plain": [
              "array([1.00000000e+00, 2.71828183e+00, 7.38905610e+00, 2.00855369e+01,\n",
              "       5.45981500e+01, 1.48413159e+02, 4.03428793e+02, 1.09663316e+03,\n",
              "       2.98095799e+03, 8.10308393e+03])"
            ]
          },
          "metadata": {},
          "execution_count": 5
        }
      ]
    },
    {
      "cell_type": "code",
      "source": [
        "np.log(arr[1:]) # bunda 0-elementdan tashqari barcha elementlarning natural logarifmini hisoblaydi"
      ],
      "metadata": {
        "colab": {
          "base_uri": "https://localhost:8080/"
        },
        "id": "HOJeXa0FKfPP",
        "outputId": "152cf169-2af4-4857-f8a8-6487d9a51766"
      },
      "execution_count": 6,
      "outputs": [
        {
          "output_type": "stream",
          "name": "stderr",
          "text": [
            "<ipython-input-6-a67b4ae04e95>:1: RuntimeWarning: divide by zero encountered in log\n",
            "  np.log(arr)\n"
          ]
        },
        {
          "output_type": "execute_result",
          "data": {
            "text/plain": [
              "array([      -inf, 0.        , 0.69314718, 1.09861229, 1.38629436,\n",
              "       1.60943791, 1.79175947, 1.94591015, 2.07944154, 2.19722458])"
            ]
          },
          "metadata": {},
          "execution_count": 6
        }
      ]
    },
    {
      "cell_type": "markdown",
      "source": [
        "**modf** elementlarni qoldiq va butun qismlarga ajratib beruvchi funksiya"
      ],
      "metadata": {
        "id": "qdlgntJ0LCTx"
      }
    },
    {
      "cell_type": "code",
      "source": [
        "arr1=np.random.randn(6)\n",
        "arr1"
      ],
      "metadata": {
        "colab": {
          "base_uri": "https://localhost:8080/"
        },
        "id": "UtzwDU4lKj2f",
        "outputId": "9074b10e-db38-4978-ee3f-6961c2c4b977"
      },
      "execution_count": 7,
      "outputs": [
        {
          "output_type": "execute_result",
          "data": {
            "text/plain": [
              "array([-0.75039749,  0.27072574,  0.92638361, -0.79952587, -0.24648515,\n",
              "       -0.42532494])"
            ]
          },
          "metadata": {},
          "execution_count": 7
        }
      ]
    },
    {
      "cell_type": "code",
      "source": [
        "qoldiq, butun =np.modf(arr1)\n",
        "print(qoldiq)\n",
        "print(butun)"
      ],
      "metadata": {
        "colab": {
          "base_uri": "https://localhost:8080/"
        },
        "id": "yh6p0qEALREL",
        "outputId": "ebe639db-873b-4f37-82ff-271ac04ecb0d"
      },
      "execution_count": 8,
      "outputs": [
        {
          "output_type": "stream",
          "name": "stdout",
          "text": [
            "[-0.75039749  0.27072574  0.92638361 -0.79952587 -0.24648515 -0.42532494]\n",
            "[-0.  0.  0. -0. -0. -0.]\n"
          ]
        }
      ]
    },
    {
      "cell_type": "markdown",
      "source": [
        "**sign** element manfiy bo'lsa **-1** musbat bo'lsa **1** qaytaruvchi funksiya"
      ],
      "metadata": {
        "id": "93SnalpVLhzi"
      }
    },
    {
      "cell_type": "code",
      "source": [
        "np.sign(arr1)"
      ],
      "metadata": {
        "colab": {
          "base_uri": "https://localhost:8080/"
        },
        "id": "nwEYjybrLZuY",
        "outputId": "7fd50f25-c8a7-433c-9a41-d74846d381c2"
      },
      "execution_count": 9,
      "outputs": [
        {
          "output_type": "execute_result",
          "data": {
            "text/plain": [
              "array([-1.,  1.,  1., -1., -1., -1.])"
            ]
          },
          "metadata": {},
          "execution_count": 9
        }
      ]
    },
    {
      "cell_type": "markdown",
      "source": [
        "**isnan** massiv elementi NaN bo'lsa **True** aks holda **False** qiymat qaytaradi"
      ],
      "metadata": {
        "id": "j8muN1bzL2Fy"
      }
    },
    {
      "cell_type": "code",
      "source": [
        "np.isnan(arr1)"
      ],
      "metadata": {
        "colab": {
          "base_uri": "https://localhost:8080/"
        },
        "id": "PiEpmbhELvBq",
        "outputId": "735c6323-4dee-4c1d-a13c-c0ed5e43e2a4"
      },
      "execution_count": 10,
      "outputs": [
        {
          "output_type": "execute_result",
          "data": {
            "text/plain": [
              "array([False, False, False, False, False, False])"
            ]
          },
          "metadata": {},
          "execution_count": 10
        }
      ]
    },
    {
      "cell_type": "code",
      "source": [
        "arr1[0]=np.NaN # 0-elemntni nan qiymatga aylantirdik\n",
        "arr1"
      ],
      "metadata": {
        "colab": {
          "base_uri": "https://localhost:8080/"
        },
        "id": "xCW108H1MDqZ",
        "outputId": "d776dd1a-2df1-4b79-b4fd-00930d60a43f"
      },
      "execution_count": 13,
      "outputs": [
        {
          "output_type": "execute_result",
          "data": {
            "text/plain": [
              "array([        nan,  0.27072574,  0.92638361, -0.79952587, -0.24648515,\n",
              "       -0.42532494])"
            ]
          },
          "metadata": {},
          "execution_count": 13
        }
      ]
    },
    {
      "cell_type": "code",
      "source": [
        "np.isnan(arr1)"
      ],
      "metadata": {
        "colab": {
          "base_uri": "https://localhost:8080/"
        },
        "id": "lFdEUuX2MLcK",
        "outputId": "14f0f76f-fbe5-4ae8-da97-b96e33b1f582"
      },
      "execution_count": 15,
      "outputs": [
        {
          "output_type": "execute_result",
          "data": {
            "text/plain": [
              "array([ True, False, False, False, False, False])"
            ]
          },
          "metadata": {},
          "execution_count": 15
        }
      ]
    },
    {
      "cell_type": "markdown",
      "source": [
        "**Binary** ikta argument qatnashuvchi funksiya"
      ],
      "metadata": {
        "id": "PLizbsztOErf"
      }
    },
    {
      "cell_type": "markdown",
      "source": [
        "**add** funksiyasi. Arrayning mos elementlarini qo'shuvchi funksiya"
      ],
      "metadata": {
        "id": "_7qUPAUNOM3c"
      }
    },
    {
      "cell_type": "code",
      "source": [
        "arr2=np.random.randn(7)\n",
        "arr3=np.random.randn(7)"
      ],
      "metadata": {
        "id": "hRGQWgF4MVi7"
      },
      "execution_count": 16,
      "outputs": []
    },
    {
      "cell_type": "code",
      "source": [
        "np.add(arr2,arr3)"
      ],
      "metadata": {
        "colab": {
          "base_uri": "https://localhost:8080/"
        },
        "id": "G6ccXD0vOa5l",
        "outputId": "c3f2c2af-7f95-419e-fb58-a4cf91b30f8c"
      },
      "execution_count": 17,
      "outputs": [
        {
          "output_type": "execute_result",
          "data": {
            "text/plain": [
              "array([ 1.19103813,  0.69737327, -0.50470766, -0.77965651, -0.61244964,\n",
              "       -0.42610874,  1.0242826 ])"
            ]
          },
          "metadata": {},
          "execution_count": 17
        }
      ]
    },
    {
      "cell_type": "markdown",
      "source": [
        "**multiply** funksiyasi. Arrayning mos elementlarini ko'paytirib beruvchi funksiya"
      ],
      "metadata": {
        "id": "D361OpnjOeyP"
      }
    },
    {
      "cell_type": "code",
      "source": [
        "np.multiply(arr2,arr3)"
      ],
      "metadata": {
        "colab": {
          "base_uri": "https://localhost:8080/"
        },
        "id": "xEP3s7nvOd0u",
        "outputId": "1f25ee83-2743-45de-b2f8-9aaa28e775f4"
      },
      "execution_count": 18,
      "outputs": [
        {
          "output_type": "execute_result",
          "data": {
            "text/plain": [
              "array([ 0.04963412,  0.10889172,  0.05913527, -0.27835399,  0.01505525,\n",
              "        0.04379757,  0.21921036])"
            ]
          },
          "metadata": {},
          "execution_count": 18
        }
      ]
    },
    {
      "cell_type": "markdown",
      "source": [
        "**maximum** funksiyasi. Arrayning mos elementlaridan kattasini tanlab oluvchi funksiya"
      ],
      "metadata": {
        "id": "eFlkAAMtOxDd"
      }
    },
    {
      "cell_type": "code",
      "source": [
        "np.maximum(arr2,arr3)"
      ],
      "metadata": {
        "colab": {
          "base_uri": "https://localhost:8080/"
        },
        "id": "yod9MN76OwFZ",
        "outputId": "5884b8e0-7a05-4d1f-bd60-6b1a76156fd3"
      },
      "execution_count": 19,
      "outputs": [
        {
          "output_type": "execute_result",
          "data": {
            "text/plain": [
              "array([ 1.14779512,  0.46133942, -0.18492101,  0.2661596 , -0.02565685,\n",
              "       -0.17312193,  0.71969455])"
            ]
          },
          "metadata": {},
          "execution_count": 19
        }
      ]
    },
    {
      "cell_type": "code",
      "source": [],
      "metadata": {
        "id": "guxIivrDO9jP"
      },
      "execution_count": null,
      "outputs": []
    }
  ]
}