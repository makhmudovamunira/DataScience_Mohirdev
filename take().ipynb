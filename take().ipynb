{
  "nbformat": 4,
  "nbformat_minor": 0,
  "metadata": {
    "colab": {
      "private_outputs": true,
      "provenance": [],
      "authorship_tag": "ABX9TyMwDOtfj5HtTkW5UQQTdBDO",
      "include_colab_link": true
    },
    "kernelspec": {
      "name": "python3",
      "display_name": "Python 3"
    },
    "language_info": {
      "name": "python"
    }
  },
  "cells": [
    {
      "cell_type": "markdown",
      "metadata": {
        "id": "view-in-github",
        "colab_type": "text"
      },
      "source": [
        "<a href=\"https://colab.research.google.com/github/makhmudovamunira/DataScience_Mohirdev/blob/main/take().ipynb\" target=\"_parent\"><img src=\"https://colab.research.google.com/assets/colab-badge.svg\" alt=\"Open In Colab\"/></a>"
      ]
    },
    {
      "cell_type": "code",
      "execution_count": null,
      "metadata": {
        "id": "3Qw2jQV3biCm"
      },
      "outputs": [],
      "source": [
        "import pandas as pd\n",
        "import numpy as np"
      ]
    },
    {
      "cell_type": "code",
      "source": [
        "df = pd.read_csv(\"https://github.com/anvarnarz/praktikum_datasets/raw/main/MOCK_USER_DATA.csv\", index_col=0)\n",
        "df.head()"
      ],
      "metadata": {
        "id": "W4xd38Nabtrw"
      },
      "execution_count": null,
      "outputs": []
    },
    {
      "cell_type": "code",
      "source": [
        "df.describe()"
      ],
      "metadata": {
        "id": "Zu7mD4Buby0v"
      },
      "execution_count": null,
      "outputs": []
    },
    {
      "cell_type": "code",
      "source": [
        "idx=df[df['age']>123].index\n",
        "idx"
      ],
      "metadata": {
        "id": "NJmCyDVPb5Zi"
      },
      "execution_count": null,
      "outputs": []
    },
    {
      "cell_type": "code",
      "source": [
        "df[df['age']<0]"
      ],
      "metadata": {
        "id": "niv_gf8zb_sf"
      },
      "execution_count": null,
      "outputs": []
    },
    {
      "cell_type": "code",
      "source": [
        "df[(df.age>123) | (df.age<0)]"
      ],
      "metadata": {
        "id": "b1x1QgiOcESa"
      },
      "execution_count": null,
      "outputs": []
    },
    {
      "cell_type": "code",
      "source": [
        "df['age']=df['age'].apply(np.abs)\n",
        "df.head()"
      ],
      "metadata": {
        "id": "JroQJhXhcOcq"
      },
      "execution_count": null,
      "outputs": []
    },
    {
      "cell_type": "code",
      "source": [
        "idx=df[df['age']>123].index\n",
        "df.drop(index=idx, inplace=True)\n",
        "df"
      ],
      "metadata": {
        "id": "rHwIcCTJcifo"
      },
      "execution_count": null,
      "outputs": []
    },
    {
      "cell_type": "code",
      "source": [
        "df.describe()"
      ],
      "metadata": {
        "id": "KOZmDh3Pc6rc"
      },
      "execution_count": null,
      "outputs": []
    },
    {
      "cell_type": "code",
      "source": [
        "df=df[df['gender'].isin(['Male','Female'])]"
      ],
      "metadata": {
        "id": "hua7cp5vdBT6"
      },
      "execution_count": null,
      "outputs": []
    },
    {
      "cell_type": "code",
      "source": [
        "df.head(10)"
      ],
      "metadata": {
        "id": "GK4Hh6Owdcw4"
      },
      "execution_count": null,
      "outputs": []
    },
    {
      "cell_type": "code",
      "source": [
        "df.sample(10)"
      ],
      "metadata": {
        "id": "b-lSWU21dtaQ"
      },
      "execution_count": null,
      "outputs": []
    },
    {
      "cell_type": "code",
      "source": [
        "len(df)"
      ],
      "metadata": {
        "id": "u04WxbHHeCBi"
      },
      "execution_count": null,
      "outputs": []
    },
    {
      "cell_type": "code",
      "source": [
        "randlist=np.random.permutation(32)\n",
        "randlist"
      ],
      "metadata": {
        "id": "Syse8uIYdxhI"
      },
      "execution_count": null,
      "outputs": []
    },
    {
      "cell_type": "code",
      "source": [
        "df.take(randlist)"
      ],
      "metadata": {
        "id": "l9Ex-iXjeGCD"
      },
      "execution_count": null,
      "outputs": []
    },
    {
      "cell_type": "code",
      "source": [
        "df.sample(10, replace=True) # bunda replace=True malumotni qayta qayta takrorlab chiqarishi mumkin, False bo'lsa malumotlar takror chiqmaydi"
      ],
      "metadata": {
        "id": "EKdW5cY9eLui"
      },
      "execution_count": null,
      "outputs": []
    },
    {
      "cell_type": "code",
      "source": [],
      "metadata": {
        "id": "ASMj0pwGeV7U"
      },
      "execution_count": null,
      "outputs": []
    }
  ]
}