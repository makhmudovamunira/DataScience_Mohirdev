{
  "nbformat": 4,
  "nbformat_minor": 0,
  "metadata": {
    "colab": {
      "private_outputs": true,
      "provenance": [],
      "authorship_tag": "ABX9TyN13XEUvCOntyGqKsw6O1dM",
      "include_colab_link": true
    },
    "kernelspec": {
      "name": "python3",
      "display_name": "Python 3"
    },
    "language_info": {
      "name": "python"
    }
  },
  "cells": [
    {
      "cell_type": "markdown",
      "metadata": {
        "id": "view-in-github",
        "colab_type": "text"
      },
      "source": [
        "<a href=\"https://colab.research.google.com/github/makhmudovamunira/DataScience_Mohirdev/blob/main/CustomerChurn.ipynb\" target=\"_parent\"><img src=\"https://colab.research.google.com/assets/colab-badge.svg\" alt=\"Open In Colab\"/></a>"
      ]
    },
    {
      "cell_type": "markdown",
      "source": [
        "![Imgur](https://i.imgur.com/5pXzCIu.png)\n",
        "\n",
        "# Data Science va Sun'iy Intellekt Praktikum\n",
        "\n",
        "## 5-MODUL. Machine Learning.\n",
        "\n",
        "# Classification\n",
        "\n",
        "### Mijozning noroziligini (customer churn) aniqlash\n",
        "\n",
        "Biznesda eng ko'p uchraydigan muammolardan biri. Mijozning kayfiyatini aniqlash.\n",
        "\n",
        "Agar biznes egasi mijoz qaytmasligini, maxsulot yoki xizmatdan qayta foydanalmasligini oldindan bashorat qila olsa, mijozni ushlab qolish uchun, uning fikrini o'zgartirish uchun harakat qilishi mumkin.\n",
        "\n",
        "Ushbu amaliyotda biz online do'kon xaridorlari ma'lumotlarini tahlil qilish orqali mijozning qolish-qolmasligini bashorat qilamiz."
      ],
      "metadata": {
        "id": "5eyAltwZ3uda"
      }
    },
    {
      "cell_type": "code",
      "execution_count": null,
      "metadata": {
        "id": "me2oHpSH3s0R"
      },
      "outputs": [],
      "source": [
        "import pandas as pd\n",
        "import numpy as np\n",
        "import matplotlib.pyplot as plt\n",
        "import seaborn as sns\n",
        "\n",
        "from sklearn.preprocessing import StandardScaler\n",
        "from sklearn.model_selection import train_test_split\n",
        "\n",
        "from sklearn.linear_model import LogisticRegression\n",
        "from sklearn.tree import DecisionTreeClassifier, plot_tree\n",
        "from sklearn.ensemble import RandomForestClassifier\n",
        "from sklearn.svm import SVC\n",
        "from xgboost import XGBClassifier\n",
        "\n",
        "from sklearn.pipeline import Pipeline\n",
        "from sklearn import metrics"
      ]
    },
    {
      "cell_type": "code",
      "source": [
        "# Agar excel fayllarni ochish muammosi bo'lsa, xlrd paketining eski (1.2.0) versiyasini o'rnating.\n",
        "#pip install xlrd==1.2.0"
      ],
      "metadata": {
        "id": "GRkBIldM3xvA"
      },
      "execution_count": null,
      "outputs": []
    },
    {
      "cell_type": "code",
      "source": [
        "url=\"https://github.com/anvarnarz/praktikum_datasets/blob/main/E-Commerce-Dataset.xlsx?raw=true\"\n",
        "\n",
        "df = pd.read_excel(url, sheet_name=\"E Comm\")\n",
        "\n",
        "df.head()"
      ],
      "metadata": {
        "id": "S4zMj_WC46X9"
      },
      "execution_count": null,
      "outputs": []
    },
    {
      "cell_type": "code",
      "source": [
        "df.shape"
      ],
      "metadata": {
        "id": "zYmv9u7K49vw"
      },
      "execution_count": null,
      "outputs": []
    },
    {
      "cell_type": "code",
      "source": [
        "description=pd.read_excel(url, sheet_name='Data Dict', header=1, usecols=[1,2,3])\n",
        "description"
      ],
      "metadata": {
        "id": "vPi8OMni5LkN"
      },
      "execution_count": null,
      "outputs": []
    },
    {
      "cell_type": "markdown",
      "source": [
        "## Ma'lumotlarni tahlil qilamiz"
      ],
      "metadata": {
        "id": "f64_IBIS51Cj"
      }
    },
    {
      "cell_type": "code",
      "source": [
        "df.info()"
      ],
      "metadata": {
        "id": "XGnGejoA5q22"
      },
      "execution_count": null,
      "outputs": []
    },
    {
      "cell_type": "markdown",
      "source": [
        "- Qatorlar soni 5630 ta\n",
        "- Ba'zi ustunlarda qiymatlar tushib qolgan"
      ],
      "metadata": {
        "id": "LiIxMZdN6VeS"
      }
    },
    {
      "cell_type": "code",
      "source": [
        "df.head()"
      ],
      "metadata": {
        "id": "wCClDuYK52WI"
      },
      "execution_count": null,
      "outputs": []
    },
    {
      "cell_type": "code",
      "source": [
        "df.describe()"
      ],
      "metadata": {
        "id": "0o4metFO6Xqg"
      },
      "execution_count": null,
      "outputs": []
    },
    {
      "cell_type": "code",
      "source": [
        "df['Churn'].value_counts()"
      ],
      "metadata": {
        "id": "dH2fW1W96h2j"
      },
      "execution_count": null,
      "outputs": []
    },
    {
      "cell_type": "markdown",
      "source": [
        "- 4682 mijoz qayta xarid qilgan (qolgan)\n",
        "- 948 ta mijoz ketib qolgan"
      ],
      "metadata": {
        "id": "Dk-nKGQ07lWA"
      }
    },
    {
      "cell_type": "code",
      "source": [
        "churn_rate=df['Churn'].value_counts()/len(df)*100\n",
        "plt.figure(figsize=(5,5))\n",
        "plt.pie(churn_rate, labels=['Qolgan', 'Ketgan'])\n",
        "plt.show()"
      ],
      "metadata": {
        "id": "YYAsTTjR7XtA"
      },
      "execution_count": null,
      "outputs": []
    },
    {
      "cell_type": "markdown",
      "source": [
        "##Bazi sonli ustunlarni tahlil qilib ko'ramiz"
      ],
      "metadata": {
        "id": "DifD7EjA8aIN"
      }
    },
    {
      "cell_type": "code",
      "source": [
        "fig, axes=plt.subplots(1,3, figsize=(15,5))\n",
        "\n",
        "#tenure\n",
        "sns.histplot(x='Tenure', data=df, ax=axes[0])\n",
        "axes[0].set_title('Mijoz davomiyligi')\n",
        "\n",
        "#OrderCount\n",
        "sns.histplot(x='OrderCount', data=df, ax=axes[1])\n",
        "axes[1].set_title('Mijozning buyurtmalari soni')\n",
        "\n",
        "#CashbackAmount\n",
        "sns.histplot(x='CashbackAmount', data=df, ax=axes[2])\n",
        "axes[2].set_title('Mijozga qaytarilgan ceshback miqdori')\n",
        "\n",
        "plt.show()"
      ],
      "metadata": {
        "id": "AqdphI9t8Lee"
      },
      "execution_count": null,
      "outputs": []
    },
    {
      "cell_type": "markdown",
      "source": [
        "#### Kategoriyali ustunlarni tahlil qilamiz"
      ],
      "metadata": {
        "id": "T8y_2rAtAEvS"
      }
    },
    {
      "cell_type": "code",
      "source": [
        "fig, axes=plt.subplots(1,3, figsize=(15,5))\n",
        "\n",
        "#Gender\n",
        "sns.countplot(x='Gender', data=df, hue='Churn', ax=axes[0], palette='viridis')\n",
        "axes[0].set_title('Qolgan va qaytgan mijozrlarning jinsi')\n",
        "\n",
        "sns.countplot(x='MaritalStatus', data=df, hue='Churn', ax=axes[1], palette='viridis')\n",
        "axes[1].set_title('Qolgan va qaytgan mijozrlarning oilaviy holati')\n",
        "\n",
        "sns.countplot(x='Complain', data=df, hue='Churn', ax=axes[2], palette='viridis')\n",
        "axes[2].set_title('Qolgan va qaytgan mijozrlarning shikoyatlari')\n",
        "\n",
        "plt.show()"
      ],
      "metadata": {
        "id": "oVGmROsY93ui"
      },
      "execution_count": null,
      "outputs": []
    },
    {
      "cell_type": "code",
      "source": [
        "numeric_df=df.select_dtypes(include=['float64','int64'])\n",
        "numeric_df.corrwith(df['Churn']).abs().sort_values(ascending=False)"
      ],
      "metadata": {
        "id": "lmprSuPyC9nE"
      },
      "execution_count": null,
      "outputs": []
    },
    {
      "cell_type": "markdown",
      "source": [
        "## Ma'lumotlarga ishlov berish"
      ],
      "metadata": {
        "id": "knKefAnNstt4"
      }
    },
    {
      "cell_type": "code",
      "source": [
        "print(f\"Mavjud bo'lmagan qiymatlar soni: {df.isna().sum().sum()}ta\")\n",
        "missing_rows=df[df.isnull().any(axis=1)].shape[0]\n",
        "print(f\"Mavjud bo'lmagan qatorlar soni: {missing_rows}ta\")\n",
        "print(f\"Mavjud bo'lmagan qatorlar % da: {np.round(missing_rows/len(df)*100)}%\")"
      ],
      "metadata": {
        "id": "Ny0BJj_rDDft"
      },
      "execution_count": null,
      "outputs": []
    },
    {
      "cell_type": "markdown",
      "source": [
        "33% juda ham ko'p. Lekin biz barcha ustunlardan foydalanamizmi?\n",
        "\n",
        "Keling korrelyasiya yuqori bo'lgan va ba'zi kategoriyali (natbnli) ustuinlarni saralab olamiz (_qaysi ustunlarni saralashni siz xal qilishingiz kerak. Biz misol berayapmiz xolos_)"
      ],
      "metadata": {
        "id": "wfaAPRwEuj-R"
      }
    },
    {
      "cell_type": "code",
      "source": [
        "data = df[['Churn','Tenure','Complain','DaySinceLastOrder','CashbackAmount','MaritalStatus','Gender']]"
      ],
      "metadata": {
        "id": "PYEoya5Zrh9b"
      },
      "execution_count": null,
      "outputs": []
    },
    {
      "cell_type": "code",
      "source": [
        "print(f\"Mavjud bo'lmagan qiymatlar soni: {data.isna().sum().sum()}ta\")\n",
        "missing_rows=data[data.isnull().any(axis=1)].shape[0]\n",
        "print(f\"Mavjud bo'lmagan qatorlar soni: {missing_rows}ta\")\n",
        "print(f\"Mavjud bo'lmagan qatorlar % da: {np.round(missing_rows/len(data)*100)}%\")"
      ],
      "metadata": {
        "id": "m0YFKw7Yuydn"
      },
      "execution_count": null,
      "outputs": []
    },
    {
      "cell_type": "markdown",
      "source": [
        "10% qatorlar qiymati mavjud emas. Bu qiymatlar bilan qandya yo'l tutish sizga bog'liq.\n",
        "\n",
        "Biz esa hozircha bu qatorlarni tashlab ketamiz."
      ],
      "metadata": {
        "id": "pIi2wT7XvIze"
      }
    },
    {
      "cell_type": "code",
      "source": [
        "data=data.dropna()\n",
        "data.shape"
      ],
      "metadata": {
        "id": "RlEUc4mCvBA7"
      },
      "execution_count": null,
      "outputs": []
    },
    {
      "cell_type": "code",
      "source": [
        "data['Churn'].value_counts()/len(data)"
      ],
      "metadata": {
        "id": "UPV75r0RvL1C"
      },
      "execution_count": null,
      "outputs": []
    },
    {
      "cell_type": "markdown",
      "source": [
        "  ## ML ga tayyorgarlik"
      ],
      "metadata": {
        "id": "_-XDpr2Rvjbr"
      }
    },
    {
      "cell_type": "code",
      "source": [
        "#matnli ustunlarni songa o'tkazamiz\n",
        "encoded=pd.get_dummies(data)\n",
        "encoded.head()"
      ],
      "metadata": {
        "id": "271g8I3dveWG"
      },
      "execution_count": null,
      "outputs": []
    },
    {
      "cell_type": "code",
      "source": [
        "X=encoded.drop('Churn', axis=1)\n",
        "y=encoded['Churn']"
      ],
      "metadata": {
        "id": "58ayiImqv1pW"
      },
      "execution_count": null,
      "outputs": []
    },
    {
      "cell_type": "code",
      "source": [
        "scaler=StandardScaler()\n",
        "X=scaler.fit_transform(X)"
      ],
      "metadata": {
        "id": "aW9askBGzNdd"
      },
      "execution_count": null,
      "outputs": []
    },
    {
      "cell_type": "code",
      "source": [
        "X_train, X_test, y_train, y_test = train_test_split(X,y, test_size=0.2, stratify=y, random_state=0)"
      ],
      "metadata": {
        "id": "_n84BEnBzbf0"
      },
      "execution_count": null,
      "outputs": []
    },
    {
      "cell_type": "markdown",
      "source": [
        "## ML\n",
        "\n",
        "### Logistic Regression"
      ],
      "metadata": {
        "id": "J2ihN8sKzvC8"
      }
    },
    {
      "cell_type": "code",
      "source": [
        "#Modelni yaratamiz (training)\n",
        "LR_model=LogisticRegression()\n",
        "LR_model.fit(X_train, y_train)\n",
        "\n",
        "#modelni baholaymiz\n",
        "y_predict=LR_model.predict(X_test)\n",
        "metrics.classification_report(y_test, y_predict)\n",
        "print(\"Model aniqligi: \",metrics.accuracy_score(y_test, y_predict))\n",
        "\n",
        "#confusion matrix\n",
        "conf_matrix=metrics.confusion_matrix(y_test, y_predict)\n",
        "sns.heatmap(conf_matrix, annot=True, fmt='g')\n",
        "plt.show()\n",
        "\n",
        "#ROC curve\n",
        "fpr, tpr, thresholds=metrics.roc_curve(y_test, y_predict)\n",
        "roc_auc=metrics.auc(fpr, tpr)\n",
        "display=metrics.RocCurveDisplay(fpr=fpr, tpr=tpr, roc_auc=roc_auc, estimator_name='ROC curve')\n",
        "display.plot()\n",
        "plt.show()"
      ],
      "metadata": {
        "id": "ENk3U_V5ztSk"
      },
      "execution_count": null,
      "outputs": []
    },
    {
      "cell_type": "markdown",
      "source": [
        "### Support Vector Machines"
      ],
      "metadata": {
        "id": "CiNKdlBo4Y66"
      }
    },
    {
      "cell_type": "code",
      "source": [
        "#Modelni yaratamiz (training)\n",
        "svm_model=SVC()\n",
        "svm_model.fit(X_train, y_train)\n",
        "\n",
        "#Modelni abholaymiz\n",
        "y_predict=svm_model.predict(X_test)\n",
        "metrics.classification_report(y_test, y_predict)\n",
        "print('Model aniqligi: ', metrics.accuracy_score(y_test, y_predict))\n",
        "\n",
        "#confusion matrix\n",
        "conf_mat=metrics.confusion_matrix(y_test, y_predict)\n",
        "sns.heatmap(conf_mat, annot=True, fmt='g')\n",
        "\n",
        "#ROC cure\n",
        "fpr, tpr, thresholds=metrics.roc_curve(y_test, y_predict)\n",
        "roc_auc=metrics.auc(fpr, tpr)\n",
        "display=metrics.RocCurveDisplay(fpr=fpr, tpr=tpr, roc_auc=roc_auc, estimator_name='Roc curve')\n",
        "display.plot()\n",
        "plt.show()"
      ],
      "metadata": {
        "id": "x8TmB02v4Bk-"
      },
      "execution_count": null,
      "outputs": []
    },
    {
      "cell_type": "markdown",
      "source": [
        "##Decision Tree"
      ],
      "metadata": {
        "id": "e8pWLGbqr1_h"
      }
    },
    {
      "cell_type": "code",
      "source": [
        "#Model yaratamiz\n",
        "tree_model=DecisionTreeClassifier()\n",
        "tree_model.fit(X_train, y_train)\n",
        "\n",
        "#Modelni baholaymiz\n",
        "y_predict=tree_model.predict(X_test)\n",
        "metrics.classification_report(y_test, y_predict)\n",
        "print('Model aniqligi: ', metrics.accuracy_score(y_test, y_predict))\n",
        "\n",
        "#Confusion matrix\n",
        "conf_mat=metrics.confusion_matrix(y_test, y_predict)\n",
        "sns.heatmap(conf_mat, annot=True, fmt='g')\n",
        "plt.show()\n",
        "\n",
        "#ROC curve\n",
        "fpr, tpr, thresholds=metrics.roc_curve(y_test, y_predict)\n",
        "roc_auc=metrics.auc(fpr, tpr)\n",
        "display=metrics.RocCurveDisplay(fpr=fpr, tpr=tpr, roc_auc=roc_auc, estimator_name='ROC curve')\n",
        "display.plot()\n",
        "plt.show()"
      ],
      "metadata": {
        "id": "SWW-lfz3qY5h"
      },
      "execution_count": null,
      "outputs": []
    },
    {
      "cell_type": "code",
      "source": [
        "cols=encoded.drop('Churn', axis=1).columns\n",
        "\n",
        "plt.figure(figsize=(30,20))\n",
        "plot_tree(tree_model, feature_names=cols, filled=True)\n",
        "plt.show()"
      ],
      "metadata": {
        "id": "7qykZFbBtW_J"
      },
      "execution_count": null,
      "outputs": []
    },
    {
      "cell_type": "markdown",
      "source": [
        "##RandomForest"
      ],
      "metadata": {
        "id": "HGJjokP-v5au"
      }
    },
    {
      "cell_type": "code",
      "source": [
        "#Model yaratamiz\n",
        "rf_model=RandomForestClassifier(n_estimators=9)\n",
        "rf_model.fit(X_train, y_train)\n",
        "\n",
        "#modelni baholaymiz\n",
        "y_predict=rf_model.predict(X_test)\n",
        "metrics.classification_report(y_test, y_predict)\n",
        "print('Model aniqligi', metrics.accuracy_score(y_test, y_predict))\n",
        "\n",
        "#Confusion matrix\n",
        "conf_mat=metrics.confusion_matrix(y_test, y_predict)\n",
        "sns.heatmap(conf_mat, annot=True, fmt='g')\n",
        "plt.show()\n",
        "\n",
        "#ROC curve\n",
        "fpr, tpr, thresholds=metrics.roc_curve(y_test,y_predict)\n",
        "roc_auc=metrics.auc(fpr, tpr)\n",
        "display=metrics.RocCurveDisplay(fpr=fpr, tpr=tpr, roc_auc=roc_auc, estimator_name='ROC curve')\n",
        "display.plot()\n",
        "plt.show()"
      ],
      "metadata": {
        "id": "uzTT-kZyvNtn"
      },
      "execution_count": null,
      "outputs": []
    },
    {
      "cell_type": "markdown",
      "source": [
        "### XGBoost"
      ],
      "metadata": {
        "id": "WGhspsqlAIHT"
      }
    },
    {
      "cell_type": "code",
      "source": [
        "xgb_model=XGBClassifier()\n",
        "xgb_model.fit(X_train, y_train)\n",
        "\n",
        "y_predict=xgb_model.predict(X_test)\n",
        "metrics.classification_report(y_test, y_predict)\n",
        "print(\"Model aniqligi: \", metrics.accuracy_score(y_test, y_predict))\n",
        "\n",
        "conf_mat=metrics.confusion_matrix(y_test, y_predict)\n",
        "sns.heatmap(conf_mat, annot=True, fmt='g')\n",
        "plt.show()\n",
        "\n",
        "fpr,tpr, thresholds=metrics.roc_curve(y_test, y_predict)\n",
        "roc_auc=metrics.auc(fpr, tpr)\n",
        "display=metrics.RocCurveDisplay(fpr=fpr, tpr=tpr, roc_auc=roc_auc, estimator_name='ROC curve')\n",
        "display.plot()\n",
        "plt.show()"
      ],
      "metadata": {
        "id": "31thGyQq8kGV"
      },
      "execution_count": null,
      "outputs": []
    },
    {
      "cell_type": "code",
      "source": [
        "\n"
      ],
      "metadata": {
        "id": "lx3I04GdBvoV"
      },
      "execution_count": null,
      "outputs": []
    }
  ]
}