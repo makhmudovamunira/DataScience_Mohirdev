{
  "nbformat": 4,
  "nbformat_minor": 0,
  "metadata": {
    "colab": {
      "provenance": [],
      "authorship_tag": "ABX9TyNLTBcmq5PX9TutK7F1fXjf",
      "include_colab_link": true
    },
    "kernelspec": {
      "name": "python3",
      "display_name": "Python 3"
    },
    "language_info": {
      "name": "python"
    }
  },
  "cells": [
    {
      "cell_type": "markdown",
      "metadata": {
        "id": "view-in-github",
        "colab_type": "text"
      },
      "source": [
        "<a href=\"https://colab.research.google.com/github/makhmudovamunira/DataScience_Mohirdev/blob/main/Mantiqiy_shart_operatori.ipynb\" target=\"_parent\"><img src=\"https://colab.research.google.com/assets/colab-badge.svg\" alt=\"Open In Colab\"/></a>"
      ]
    },
    {
      "cell_type": "code",
      "execution_count": 1,
      "metadata": {
        "id": "47Ow-qcXQ7gL"
      },
      "outputs": [],
      "source": [
        "import numpy as np"
      ]
    },
    {
      "cell_type": "markdown",
      "source": [
        "**where** mantiqiy shart operatori"
      ],
      "metadata": {
        "id": "cb8enylrRDn5"
      }
    },
    {
      "cell_type": "code",
      "source": [
        "arr1=np.array([1.1,1.2,1.3,1.4,1.5])\n",
        "arr2=np.array([2.1,2.2,2.3,2.4,2.5])"
      ],
      "metadata": {
        "id": "m1OB4PmaRBhV"
      },
      "execution_count": 2,
      "outputs": []
    },
    {
      "cell_type": "code",
      "source": [
        "cond=np.array([True,False,True,False,False])"
      ],
      "metadata": {
        "id": "u_dDFuKVRfNe"
      },
      "execution_count": 3,
      "outputs": []
    },
    {
      "cell_type": "code",
      "source": [
        "np.where(cond,arr1,arr2)"
      ],
      "metadata": {
        "colab": {
          "base_uri": "https://localhost:8080/"
        },
        "id": "s1aoglAERo3e",
        "outputId": "b4483b7b-db32-4fcb-ea52-cb49ae275fc9"
      },
      "execution_count": 4,
      "outputs": [
        {
          "output_type": "execute_result",
          "data": {
            "text/plain": [
              "array([1.1, 2.2, 1.3, 2.4, 2.5])"
            ]
          },
          "metadata": {},
          "execution_count": 4
        }
      ]
    },
    {
      "cell_type": "code",
      "source": [
        "arr=np.random.randn(4,4)\n",
        "arr"
      ],
      "metadata": {
        "colab": {
          "base_uri": "https://localhost:8080/"
        },
        "id": "WYRBVNsoRwnx",
        "outputId": "2884319c-dbf6-49be-9276-9acc8721a129"
      },
      "execution_count": 8,
      "outputs": [
        {
          "output_type": "execute_result",
          "data": {
            "text/plain": [
              "array([[ 0.04469635,  0.4287483 , -0.4355471 ,  1.02328452],\n",
              "       [-0.0242017 ,  0.07027693, -0.35427927, -0.89425598],\n",
              "       [-0.1090231 , -2.88288629,  1.8476014 ,  0.80132468],\n",
              "       [-0.89099819, -0.71932509,  1.55520697, -1.09703337]])"
            ]
          },
          "metadata": {},
          "execution_count": 8
        }
      ]
    },
    {
      "cell_type": "code",
      "source": [
        "np.where(arr<0,-2,2)"
      ],
      "metadata": {
        "colab": {
          "base_uri": "https://localhost:8080/"
        },
        "id": "xFtt5bNER7UJ",
        "outputId": "b34d7e6c-dec4-406f-de33-71b4e172627e"
      },
      "execution_count": 10,
      "outputs": [
        {
          "output_type": "execute_result",
          "data": {
            "text/plain": [
              "array([[ 2,  2, -2,  2],\n",
              "       [-2,  2, -2, -2],\n",
              "       [-2, -2,  2,  2],\n",
              "       [-2, -2,  2, -2]])"
            ]
          },
          "metadata": {},
          "execution_count": 10
        }
      ]
    }
  ]
}