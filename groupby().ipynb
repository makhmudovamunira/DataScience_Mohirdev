{
  "nbformat": 4,
  "nbformat_minor": 0,
  "metadata": {
    "colab": {
      "private_outputs": true,
      "provenance": [],
      "authorship_tag": "ABX9TyN1FGsdN+VVKOTeBBzlMPNc",
      "include_colab_link": true
    },
    "kernelspec": {
      "name": "python3",
      "display_name": "Python 3"
    },
    "language_info": {
      "name": "python"
    }
  },
  "cells": [
    {
      "cell_type": "markdown",
      "metadata": {
        "id": "view-in-github",
        "colab_type": "text"
      },
      "source": [
        "<a href=\"https://colab.research.google.com/github/makhmudovamunira/DataScience_Mohirdev/blob/main/groupby().ipynb\" target=\"_parent\"><img src=\"https://colab.research.google.com/assets/colab-badge.svg\" alt=\"Open In Colab\"/></a>"
      ]
    },
    {
      "cell_type": "code",
      "execution_count": null,
      "metadata": {
        "id": "LdyN8GN8T38W"
      },
      "outputs": [],
      "source": [
        "import pandas as pd\n",
        "import numpy as np"
      ]
    },
    {
      "cell_type": "code",
      "source": [
        "df = pd.read_csv(\"https://github.com/anvarnarz/praktikum_datasets/raw/main/automobile_data.csv\", index_col=0)\n",
        "df.head()"
      ],
      "metadata": {
        "id": "iFbfYf2CUAlq"
      },
      "execution_count": null,
      "outputs": []
    },
    {
      "cell_type": "code",
      "source": [
        "df.groupby('company').mean(numeric_only=True)"
      ],
      "metadata": {
        "id": "O4KsLPkZUG7Y"
      },
      "execution_count": null,
      "outputs": []
    },
    {
      "cell_type": "code",
      "source": [
        "df.groupby('company').price.max()"
      ],
      "metadata": {
        "id": "EbL-F5riUPd2"
      },
      "execution_count": null,
      "outputs": []
    },
    {
      "cell_type": "code",
      "source": [
        "df.groupby(['company', 'body-style']).mean(numeric_only=True)"
      ],
      "metadata": {
        "id": "od501LA4VhTb"
      },
      "execution_count": null,
      "outputs": []
    },
    {
      "cell_type": "code",
      "source": [
        "df.groupby(['company']).max()"
      ],
      "metadata": {
        "id": "m5WoonshWDW5"
      },
      "execution_count": null,
      "outputs": []
    },
    {
      "cell_type": "code",
      "source": [
        "df.groupby('company').agg([len, min, max])"
      ],
      "metadata": {
        "id": "ooAENVgsWc4C"
      },
      "execution_count": null,
      "outputs": []
    },
    {
      "cell_type": "code",
      "source": [
        "df.groupby('body-style').price.agg([len, min, max, np.mean])"
      ],
      "metadata": {
        "id": "wAqJ-xnxW1U5"
      },
      "execution_count": null,
      "outputs": []
    },
    {
      "cell_type": "code",
      "source": [
        "df.groupby('body-style').price.agg([len, min, max, lambda x: np.mean(x)])"
      ],
      "metadata": {
        "id": "axTWarZcXPF2"
      },
      "execution_count": null,
      "outputs": []
    }
  ]
}