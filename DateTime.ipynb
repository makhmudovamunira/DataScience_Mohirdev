{
  "nbformat": 4,
  "nbformat_minor": 0,
  "metadata": {
    "colab": {
      "private_outputs": true,
      "provenance": [],
      "authorship_tag": "ABX9TyO/Zlk1hzDCVwnWHBwVjTUE",
      "include_colab_link": true
    },
    "kernelspec": {
      "name": "python3",
      "display_name": "Python 3"
    },
    "language_info": {
      "name": "python"
    }
  },
  "cells": [
    {
      "cell_type": "markdown",
      "metadata": {
        "id": "view-in-github",
        "colab_type": "text"
      },
      "source": [
        "<a href=\"https://colab.research.google.com/github/makhmudovamunira/DataScience_Mohirdev/blob/main/DateTime.ipynb\" target=\"_parent\"><img src=\"https://colab.research.google.com/assets/colab-badge.svg\" alt=\"Open In Colab\"/></a>"
      ]
    },
    {
      "cell_type": "code",
      "execution_count": null,
      "metadata": {
        "id": "dGov258LHPdt"
      },
      "outputs": [],
      "source": [
        "import pandas as pd\n",
        "import numpy as np"
      ]
    },
    {
      "cell_type": "code",
      "source": [
        "df = pd.read_csv(\"database.csv\")\n",
        "df.head()"
      ],
      "metadata": {
        "id": "UEiB3d3xIFr2"
      },
      "execution_count": null,
      "outputs": []
    },
    {
      "cell_type": "code",
      "source": [
        "import datetime as dt"
      ],
      "metadata": {
        "id": "Tc4Q6T8vIj3R"
      },
      "execution_count": null,
      "outputs": []
    },
    {
      "cell_type": "code",
      "source": [
        "hozir=dt.datetime.now()"
      ],
      "metadata": {
        "id": "cvNzFy66LQB7"
      },
      "execution_count": null,
      "outputs": []
    },
    {
      "cell_type": "code",
      "source": [
        "hozir"
      ],
      "metadata": {
        "id": "rqRn801JLTe8"
      },
      "execution_count": null,
      "outputs": []
    },
    {
      "cell_type": "code",
      "source": [
        "type(hozir)"
      ],
      "metadata": {
        "id": "6imnrq4WLVEj"
      },
      "execution_count": null,
      "outputs": []
    },
    {
      "cell_type": "code",
      "source": [
        "hozir.hour"
      ],
      "metadata": {
        "id": "Ku1tCT-eLb6X"
      },
      "execution_count": null,
      "outputs": []
    },
    {
      "cell_type": "code",
      "source": [
        "hozir.minute"
      ],
      "metadata": {
        "id": "L9AqCQkDLdal"
      },
      "execution_count": null,
      "outputs": []
    },
    {
      "cell_type": "code",
      "source": [
        "hozir.weekday()"
      ],
      "metadata": {
        "id": "cwtzq-iTLfdH"
      },
      "execution_count": null,
      "outputs": []
    },
    {
      "cell_type": "code",
      "source": [
        "hozir.month"
      ],
      "metadata": {
        "id": "D5wl5NVVLhzN"
      },
      "execution_count": null,
      "outputs": []
    },
    {
      "cell_type": "code",
      "source": [
        "df.info()"
      ],
      "metadata": {
        "id": "Jz4C0ts2Lkv4"
      },
      "execution_count": null,
      "outputs": []
    },
    {
      "cell_type": "code",
      "source": [
        "df.at[0, 'Date']"
      ],
      "metadata": {
        "id": "THsNOCmYLmEI"
      },
      "execution_count": null,
      "outputs": []
    },
    {
      "cell_type": "code",
      "source": [
        "type(df.at[0, 'Date'])"
      ],
      "metadata": {
        "id": "rpUzQhlpLvwW"
      },
      "execution_count": null,
      "outputs": []
    },
    {
      "cell_type": "code",
      "source": [
        "pd.to_datetime(df['Date'], format=\"%m/%d/%Y\")"
      ],
      "metadata": {
        "id": "JOmbFEdHLz6d"
      },
      "execution_count": null,
      "outputs": []
    },
    {
      "cell_type": "code",
      "source": [
        "df['Date'].str.len().value_counts()"
      ],
      "metadata": {
        "id": "E3Jz6eZ4MMSG"
      },
      "execution_count": null,
      "outputs": []
    },
    {
      "cell_type": "code",
      "source": [
        "df[df['Date'].str.len()==24]"
      ],
      "metadata": {
        "id": "dHaWGIHtMV0P"
      },
      "execution_count": null,
      "outputs": []
    },
    {
      "cell_type": "code",
      "source": [
        "df.loc[3378, 'Date']='02/23/1975'\n",
        "df.loc[7512, 'Date']='04/28/1985'\n",
        "df.loc[20650, 'Date']='03/13/2011'"
      ],
      "metadata": {
        "id": "wC6YO2DAMiIY"
      },
      "execution_count": null,
      "outputs": []
    },
    {
      "cell_type": "code",
      "source": [
        "df[df['Date'].str.len()==24]"
      ],
      "metadata": {
        "id": "cLqscmrhM49i"
      },
      "execution_count": null,
      "outputs": []
    },
    {
      "cell_type": "code",
      "source": [
        "df['datetime']=pd.to_datetime(df['Date'], format=\"%m/%d/%Y\")"
      ],
      "metadata": {
        "id": "hV0cI6JyNAAG"
      },
      "execution_count": null,
      "outputs": []
    },
    {
      "cell_type": "code",
      "source": [
        "df.head()"
      ],
      "metadata": {
        "id": "RBAJ-0PDNJTm"
      },
      "execution_count": null,
      "outputs": []
    },
    {
      "cell_type": "code",
      "source": [
        "df.at[0,'datetime'].weekday()"
      ],
      "metadata": {
        "id": "IXf11asvNKZ4"
      },
      "execution_count": null,
      "outputs": []
    },
    {
      "cell_type": "code",
      "source": [
        "df['month']=df['datetime'].dt.month\n",
        "df.head()"
      ],
      "metadata": {
        "id": "N_ndWgBiNXRx"
      },
      "execution_count": null,
      "outputs": []
    },
    {
      "cell_type": "code",
      "source": [
        "df['month'].value_counts()"
      ],
      "metadata": {
        "id": "kFD32xjzNity"
      },
      "execution_count": null,
      "outputs": []
    },
    {
      "cell_type": "code",
      "source": [
        "df['weekday']=df['datetime'].dt.weekday\n",
        "df.head()"
      ],
      "metadata": {
        "id": "RXy8S6CMNrSJ"
      },
      "execution_count": null,
      "outputs": []
    },
    {
      "cell_type": "code",
      "source": [
        "df.weekday.value_counts()"
      ],
      "metadata": {
        "id": "qzriLXxcNyfq"
      },
      "execution_count": null,
      "outputs": []
    },
    {
      "cell_type": "code",
      "source": [
        "df['time']=pd.to_datetime(df['Time'], format='%H:%M:%S')\n",
        "df.head()"
      ],
      "metadata": {
        "id": "O5wMbpmIOEP7"
      },
      "execution_count": null,
      "outputs": []
    },
    {
      "cell_type": "code",
      "source": [
        "df.Time.str.len().value_counts()"
      ],
      "metadata": {
        "id": "cXwgV1lzO4lM"
      },
      "execution_count": null,
      "outputs": []
    },
    {
      "cell_type": "code",
      "source": [
        "df[df['Time'].str.len()==24]"
      ],
      "metadata": {
        "id": "QThknlWtO2g5"
      },
      "execution_count": null,
      "outputs": []
    },
    {
      "cell_type": "code",
      "source": [
        "df.loc[3378, 'Time']='02:58:41'\n",
        "df.loc[7512, 'Time']='02:53:41'\n",
        "df.loc[20650, 'Time']='02:23:34'"
      ],
      "metadata": {
        "id": "9s53RVbBPUiL"
      },
      "execution_count": null,
      "outputs": []
    },
    {
      "cell_type": "code",
      "source": [
        "df.head()"
      ],
      "metadata": {
        "id": "JqbszPfyPdG7"
      },
      "execution_count": null,
      "outputs": []
    },
    {
      "cell_type": "code",
      "source": [
        "df['time']=pd.to_datetime(df['Time'], format='%H:%M:%S')\n",
        "df.head()"
      ],
      "metadata": {
        "id": "DOtovy6yP_iM"
      },
      "execution_count": null,
      "outputs": []
    },
    {
      "cell_type": "code",
      "source": [
        "df['hour']=df.time.dt.hour\n",
        "df.head()"
      ],
      "metadata": {
        "id": "Ibs5K3woQEjX"
      },
      "execution_count": null,
      "outputs": []
    },
    {
      "cell_type": "code",
      "source": [
        "df['minute']=df.time.dt.minute"
      ],
      "metadata": {
        "id": "XbU3hzr0QRXc"
      },
      "execution_count": null,
      "outputs": []
    },
    {
      "cell_type": "code",
      "source": [
        "df['second']=df.time.dt.second"
      ],
      "metadata": {
        "id": "pH3g7ZXZQaE5"
      },
      "execution_count": null,
      "outputs": []
    },
    {
      "cell_type": "code",
      "source": [
        "df.head()"
      ],
      "metadata": {
        "id": "fI2oBbD-Qey0"
      },
      "execution_count": null,
      "outputs": []
    },
    {
      "cell_type": "code",
      "source": [],
      "metadata": {
        "id": "FP66RyhLQfmA"
      },
      "execution_count": null,
      "outputs": []
    }
  ]
}