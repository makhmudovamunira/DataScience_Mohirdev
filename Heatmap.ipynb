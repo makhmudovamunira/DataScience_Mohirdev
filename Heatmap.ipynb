{
  "nbformat": 4,
  "nbformat_minor": 0,
  "metadata": {
    "colab": {
      "private_outputs": true,
      "provenance": [],
      "authorship_tag": "ABX9TyMQillsIBa9y60UrX6T6efr",
      "include_colab_link": true
    },
    "kernelspec": {
      "name": "python3",
      "display_name": "Python 3"
    },
    "language_info": {
      "name": "python"
    }
  },
  "cells": [
    {
      "cell_type": "markdown",
      "metadata": {
        "id": "view-in-github",
        "colab_type": "text"
      },
      "source": [
        "<a href=\"https://colab.research.google.com/github/makhmudovamunira/DataScience_Mohirdev/blob/main/Heatmap.ipynb\" target=\"_parent\"><img src=\"https://colab.research.google.com/assets/colab-badge.svg\" alt=\"Open In Colab\"/></a>"
      ]
    },
    {
      "cell_type": "code",
      "execution_count": null,
      "metadata": {
        "id": "by53Qe3uzZ5m"
      },
      "outputs": [],
      "source": [
        "import pandas as pd\n",
        "import numpy as np\n",
        "import matplotlib.pyplot as plt\n",
        "%matplotlib inline\n",
        "import seaborn as sns"
      ]
    },
    {
      "cell_type": "code",
      "source": [
        "df = pd.read_csv(\"https://raw.githubusercontent.com/anvarnarz/praktikum_datasets/main/uzbekistan.csv\", index_col=0)\n",
        "df.columns = ['maydon','aholi']\n",
        "df"
      ],
      "metadata": {
        "id": "sYVCDdqJ2No9"
      },
      "execution_count": null,
      "outputs": []
    },
    {
      "cell_type": "code",
      "source": [
        "plt.figure(figsize=(12,5))\n",
        "sns.barplot(x=df.index, y=df['aholi'])\n",
        "\n",
        "plt.title(\"O'zbekiston Respublikasi tarkibidagi hududlar aholi soni\")\n",
        "plt.xlabel(\"Hudud\")\n",
        "plt.ylabel(\"Aholi soni (million)\")\n",
        "plt.grid() # Chizmaga gorizontal va vertikal chiziqlar (setka) qo'shish\n",
        "plt.xticks(rotation=90)\n",
        "plt.show()"
      ],
      "metadata": {
        "id": "JQ6iuD5K2nm4"
      },
      "execution_count": null,
      "outputs": []
    },
    {
      "cell_type": "code",
      "source": [
        "plt.figure(figsize=(16,6))\n",
        "sns.barplot(x=df.index, y=df['maydon'])\n",
        "\n",
        "plt.title(\"O'zbekiston Respublikasi tarkibidagi hududlar maydoni\")\n",
        "plt.xlabel(\"Hudud\")\n",
        "plt.ylabel(\"Maydon (kv.km.)\")\n",
        "plt.grid() # Chizmaga gorizontal va vertikal chiziqlar (setka) qo'shish\n",
        "plt.xticks(rotation=90)\n",
        "plt.show()"
      ],
      "metadata": {
        "id": "0-_WveyK2_jy"
      },
      "execution_count": null,
      "outputs": []
    },
    {
      "cell_type": "markdown",
      "source": [
        "## Heatmap\n",
        "\n",
        "Keling endi yangi jadval o'qiymiz. Quyidagi jadvalda AQSHdagi ba'zi muzeylarga turli sanalarda tashrif buyurganlar soni saqlangan. Biz faqatgina birinchi muzey uchun qiymatlarni o'qiymi ( `usecols=[0,1]`)"
      ],
      "metadata": {
        "id": "HWfTUtbB3VNM"
      }
    },
    {
      "cell_type": "code",
      "source": [
        "df = pd.read_csv(\"https://github.com/anvarnarz/praktikum_datasets/raw/main/museum_visitors.csv\", index_col=0, parse_dates=[0], usecols=[0,1])\n",
        "df.head()"
      ],
      "metadata": {
        "id": "ZDGeCpBl3QvP"
      },
      "execution_count": null,
      "outputs": []
    },
    {
      "cell_type": "code",
      "source": [
        "type(df.index)"
      ],
      "metadata": {
        "id": "JRpxXsbv3Xy5"
      },
      "execution_count": null,
      "outputs": []
    },
    {
      "cell_type": "code",
      "source": [
        "df['month']=[i.month for i in df.index]\n",
        "df['year']=[i.year for i in df.index]\n",
        "df.head(10)"
      ],
      "metadata": {
        "id": "77JHl7_D3bB1"
      },
      "execution_count": null,
      "outputs": []
    },
    {
      "cell_type": "code",
      "source": [
        "df.groupby(['month','year']).max().head(10)"
      ],
      "metadata": {
        "id": "Q7nRMyHI3zbA"
      },
      "execution_count": null,
      "outputs": []
    },
    {
      "cell_type": "code",
      "source": [
        "df_m=df.groupby(['month','year']).max().unstack(level=0)\n",
        "df_m"
      ],
      "metadata": {
        "id": "3qZzdC084ABs"
      },
      "execution_count": null,
      "outputs": []
    },
    {
      "cell_type": "code",
      "source": [
        "plt.figure(figsize=(12,5))\n",
        "sns.heatmap(data=df_m)\n",
        "plt.show()"
      ],
      "metadata": {
        "id": "KcrPPoFh4_30"
      },
      "execution_count": null,
      "outputs": []
    },
    {
      "cell_type": "code",
      "source": [
        "plt.figure(figsize=(12,6))\n",
        "sns.heatmap(data=df_m, cmap='YlGnBu', linewidths=1, square=True)\n",
        "xtick_labels=['Jan', 'Feb','March','Apr','May','Jun','Jul','Avg','Sep','Oct','Nov', 'Dec']\n",
        "plt.xticks(np.arange(12), labels=xtick_labels)\n",
        "plt.show()"
      ],
      "metadata": {
        "id": "8KoBezFm5hL5"
      },
      "execution_count": null,
      "outputs": []
    },
    {
      "cell_type": "markdown",
      "source": [
        "### **`cmap` uchun mavjud ranglar:**\n",
        "`[‘Accent’, ‘Accent_r’, ‘Blues’, ‘Blues_r’, ‘BrBG’, ‘BrBG_r’, ‘BuGn’, ‘BuGn_r’, ‘BuPu’, ‘BuPu_r’,\n",
        " ‘CMRmap’, ‘CMRmap_r’, ‘Dark2’, ‘Dark2_r’, ‘GnBu’, ‘GnBu_r’, ‘Greens’, ‘Greens_r’, ‘Greys’, ‘Greys_r’, ‘OrRd’,\n",
        " ‘OrRd_r’, ‘Oranges’, ‘Oranges_r’, ‘PRGn’, ‘PRGn_r’, ‘Paired’, ‘Paired_r’, ‘Pastel1’,\n",
        " ‘Pastel1_r’, ‘Pastel2’, ‘Pastel2_r’, ‘PiYG’, ‘PiYG_r’, ‘PuBu’, ‘PuBuGn’, ‘PuBuGn_r’,\n",
        " ‘PuBu_r’, ‘PuOr’, ‘PuOr_r’, ‘PuRd’, ‘PuRd_r’, ‘Purples’, ‘Purples_r’, ‘RdBu’, ‘RdBu_r’,\n",
        " ‘RdGy’, ‘RdGy_r’, ‘RdPu’, ‘RdPu_r’, ‘RdYlBu’, ‘RdYlBu_r’, ‘RdYlGn’, ‘RdYlGn_r’, ‘Reds’,\n",
        " ‘Reds_r’, ‘Set1’, ‘Set1_r’, ‘Set2’, ‘Set2_r’, ‘Set3’, ‘Set3_r’, ‘Spectral’, ‘Spectral_r’,\n",
        " ‘Wistia’, ‘Wistia_r’, ‘YlGn’, ‘YlGnBu’, ‘YlGnBu_r’, ‘YlGn_r’, ‘YlOrBr’, ‘YlOrBr_r’, ‘YlOrRd’,\n",
        " ‘YlOrRd_r’, ‘afmhot’, ‘afmhot_r’, ‘autumn’, ‘autumn_r’, ‘binary’, ‘binary_r’, ‘bone’,\n",
        " ‘bone_r’, ‘brg’, ‘brg_r’, ‘bwr’, ‘bwr_r’, ‘cividis’, ‘cividis_r’, ‘cool’, ‘cool_r’, ‘coolwarm’, ‘coolwarm_r’, ‘copper’, ‘copper_r’,\n",
        " ‘cubehelix’, ‘cubehelix_r’, ‘flag’, ‘flag_r’, ‘gist_earth’, ‘gist_earth_r’, ‘gist_gray’, ‘gist_gray_r’, ‘gist_heat’, ‘gist_heat_r’, ‘gist_ncar’, ‘gist_ncar_r’,\n",
        " ‘gist_rainbow’, ‘gist_rainbow_r’, ‘gist_stern’, ‘gist_stern_r’, ‘gist_yarg’,\n",
        " ‘gist_yarg_r’, ‘gnuplot’, ‘gnuplot2’, ‘gnuplot2_r’, ‘gnuplot_r’, ‘gray’, ‘gray_r’,\n",
        " ‘hot’, ‘hot_r’, ‘hsv’, ‘hsv_r’, ‘icefire’, ‘icefire_r’, ‘inferno’,\n",
        " ‘inferno_r’, ‘magma’, ‘magma_r’, ‘mako’, ‘mako_r’,\n",
        " ‘nipy_spectral’, ‘nipy_spectral_r’, ‘ocean’, ‘ocean_r’, ‘pink’, ‘pink_r’,\n",
        " ‘plasma’, ‘plasma_r’, ‘prism’, ‘prism_r’, ‘rainbow’, ‘rainbow_r’,\n",
        " ‘rocket’, ‘rocket_r’, ‘seismic’, ‘seismic_r’, ‘spring’, ‘spring_r’,\n",
        " ‘summer’, ‘summer_r’, ‘tab10’, ‘tab10_r’, ‘tab20’, ‘tab20_r’, ‘tab20b’,\n",
        " ‘tab20b_r’, ‘tab20c’, ‘tab20c_r’, ‘terrain’, ‘terrain_r’, ‘twilight’,\n",
        " ‘twilight_r’, ‘twilight_shifted’, ‘twilight_shifted_r’, ‘viridis’, ‘viridis_r’, ‘vlag’, ‘vlag_r’, ‘winter’, ‘winter_r’]`"
      ],
      "metadata": {
        "id": "nwIUTzD-9ryB"
      }
    },
    {
      "cell_type": "markdown",
      "source": [
        "#### `seaborn.heatmap` haqida to'liq ma'lumot: https://seaborn.pydata.org/generated/seaborn.heatmap.html"
      ],
      "metadata": {
        "id": "kF0NX5op9uIN"
      }
    },
    {
      "cell_type": "code",
      "source": [
        "df = pd.read_csv(\"https://raw.githubusercontent.com/anvarnarz/praktikum_datasets/main/flight_delays.csv\")\n",
        "df.head()"
      ],
      "metadata": {
        "id": "gk-lvOuk6tZ-"
      },
      "execution_count": null,
      "outputs": []
    },
    {
      "cell_type": "code",
      "source": [
        "plt.figure(figsize=(12,6))\n",
        "sns.barplot(x=df['Month'], y=df['AA'])\n",
        "plt.title(\"American Airlines kompaniyasi samolyotlari o'rtacha kechikish vaqti\")\n",
        "plt.ylabel(\"Minutes\")\n",
        "plt.show()"
      ],
      "metadata": {
        "id": "JGK3VIYk-Iy2"
      },
      "execution_count": null,
      "outputs": []
    },
    {
      "cell_type": "markdown",
      "source": [
        "Keling endi bir nechta aviakompaniyalarni yonma-yon solishtiramiz. Buning uchun jadvalimizni shakl o'zgartirishimiz kerak.\n",
        "\n",
        "`Pandas`da df shaklini o'zgratirish uchun `reshape` yoki `melt` funksiyasidan foydalanishimiz mumkin.\n",
        "\n",
        "`melt` funksiyasi jadvlani eniga uzundan bo'yiga uzun holatga olib kelishda qo'llaniladi. Bunda df dagi bir nechta ustunlarni yagona `variable` ustuniga keltirish mumkin. Qiymatlar esa har bir `variable` uchun `value` ustunida ko'rsatiladi.\n",
        "\n",
        "Tushunarli bo'lishi uchun quyidagi misolga ahamiyat bering. Bu misolda biz AA va MQ aviakompaniyalari uchun ma'lumotlarni ajratib olganmiz.\n",
        "\n",
        "![](https://i.imgur.com/t9GxYtQ.png)\n"
      ],
      "metadata": {
        "id": "2LYVDj1WAejD"
      }
    },
    {
      "cell_type": "code",
      "source": [
        "df_melted=pd.melt(df, id_vars=['Month'],var_name='variable',value_name='value')"
      ],
      "metadata": {
        "id": "Fa5Vu3Q3-wBd"
      },
      "execution_count": null,
      "outputs": []
    },
    {
      "cell_type": "code",
      "source": [
        "df_melted=df_melted[(df_melted['variable']=='AA') | (df_melted['variable']=='MQ')]\n",
        "df_melted.head()"
      ],
      "metadata": {
        "id": "Fy8nljU4AjVk"
      },
      "execution_count": null,
      "outputs": []
    },
    {
      "cell_type": "code",
      "source": [
        "sns.catplot(data=df_melted,kind='bar', x='Month', y='value', hue='variable')\n",
        "plt.show()"
      ],
      "metadata": {
        "id": "4JfFyyJZECnR"
      },
      "execution_count": null,
      "outputs": []
    },
    {
      "cell_type": "code",
      "source": [
        "data = pd.melt(df, id_vars=['Month'], value_vars=['AA', 'AS', 'DL', 'WN', 'MQ'])\n",
        "data.head()"
      ],
      "metadata": {
        "id": "EHgoZqqNFKjU"
      },
      "execution_count": null,
      "outputs": []
    },
    {
      "cell_type": "code",
      "source": [
        "sns.catplot(data=data, kind=\"bar\", x=\"Month\", y=\"value\", hue=\"variable\")\n",
        "plt.show()"
      ],
      "metadata": {
        "id": "vV-rJ5QCGq7V"
      },
      "execution_count": null,
      "outputs": []
    },
    {
      "cell_type": "code",
      "source": [
        "plt.figure(figsize=(12,6))\n",
        "sns.heatmap(data=df.set_index('Month'), cmap='Accent', annot=True)\n",
        "plt.xlabel('Airline')\n",
        "plt.show()"
      ],
      "metadata": {
        "id": "DGuKe_kXGuKm"
      },
      "execution_count": null,
      "outputs": []
    },
    {
      "cell_type": "code",
      "source": [],
      "metadata": {
        "id": "eMsiy8FFHZnj"
      },
      "execution_count": null,
      "outputs": []
    }
  ]
}