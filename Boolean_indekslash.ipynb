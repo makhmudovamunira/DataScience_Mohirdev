{
  "nbformat": 4,
  "nbformat_minor": 0,
  "metadata": {
    "colab": {
      "provenance": [],
      "authorship_tag": "ABX9TyN83YIFmyRQnelngbqu34NH",
      "include_colab_link": true
    },
    "kernelspec": {
      "name": "python3",
      "display_name": "Python 3"
    },
    "language_info": {
      "name": "python"
    }
  },
  "cells": [
    {
      "cell_type": "markdown",
      "metadata": {
        "id": "view-in-github",
        "colab_type": "text"
      },
      "source": [
        "<a href=\"https://colab.research.google.com/github/makhmudovamunira/DataScience_Mohirdev/blob/main/Boolean_indekslash.ipynb\" target=\"_parent\"><img src=\"https://colab.research.google.com/assets/colab-badge.svg\" alt=\"Open In Colab\"/></a>"
      ]
    },
    {
      "cell_type": "code",
      "source": [
        "import numpy as np"
      ],
      "metadata": {
        "id": "4LhPYOeSfKQo"
      },
      "execution_count": 1,
      "outputs": []
    },
    {
      "cell_type": "code",
      "execution_count": 2,
      "metadata": {
        "colab": {
          "base_uri": "https://localhost:8080/"
        },
        "id": "S3PL1Y2KfKIP",
        "outputId": "f481efd6-37d9-4e69-f0ee-4187e7f95708"
      },
      "outputs": [
        {
          "output_type": "execute_result",
          "data": {
            "text/plain": [
              "array(['Munira', 'Nigora', 'Malika', 'Dilrabo', 'Fotima', 'Munira'],\n",
              "      dtype='<U7')"
            ]
          },
          "metadata": {},
          "execution_count": 2
        }
      ],
      "source": [
        "ismlar=np.array(['Munira','Nigora','Malika','Dilrabo','Fotima','Munira'])\n",
        "ismlar"
      ]
    },
    {
      "cell_type": "code",
      "source": [
        " #data\n",
        "data=np.random.randn(6,5)\n",
        "data"
      ],
      "metadata": {
        "colab": {
          "base_uri": "https://localhost:8080/"
        },
        "id": "36kVs6dbfskr",
        "outputId": "7fb13f1c-4fb3-4fea-a83e-4ef9bb4439d6"
      },
      "execution_count": 31,
      "outputs": [
        {
          "output_type": "execute_result",
          "data": {
            "text/plain": [
              "array([[-0.44748601,  0.14739917, -0.75472348, -0.80018541, -1.07041611],\n",
              "       [-0.47855122,  1.47523039,  1.46856463, -1.95180275, -0.55833504],\n",
              "       [ 0.12667421,  0.16034526, -0.63463719, -0.49110351,  1.11233183],\n",
              "       [ 0.98113201, -2.30702262,  1.67291106,  1.40866116,  0.44858704],\n",
              "       [ 0.23033331,  0.82359609,  0.76201204, -0.95394662,  0.38646864],\n",
              "       [ 1.17958416,  0.4676683 ,  0.23742926,  0.26109178, -1.01872254]])"
            ]
          },
          "metadata": {},
          "execution_count": 31
        }
      ]
    },
    {
      "cell_type": "code",
      "source": [
        "ismlar=='Nigora' #Bolean indekslash"
      ],
      "metadata": {
        "colab": {
          "base_uri": "https://localhost:8080/"
        },
        "id": "KkZwc11hftpb",
        "outputId": "885df92c-a3a4-49b2-b53c-921db5123901"
      },
      "execution_count": 4,
      "outputs": [
        {
          "output_type": "execute_result",
          "data": {
            "text/plain": [
              "array([False,  True, False, False, False, False])"
            ]
          },
          "metadata": {},
          "execution_count": 4
        }
      ]
    },
    {
      "cell_type": "code",
      "source": [
        "data[ismlar=='Nigora'] #Nigoraga tegishli malumotlarni ajratib oladi"
      ],
      "metadata": {
        "colab": {
          "base_uri": "https://localhost:8080/"
        },
        "id": "_tE67MqXftr0",
        "outputId": "0f5aafca-8c1d-46f0-d807-7e42f3b45b61"
      },
      "execution_count": 6,
      "outputs": [
        {
          "output_type": "execute_result",
          "data": {
            "text/plain": [
              "array([[0.90176198, 0.60881171, 0.02345458, 0.4066302 , 0.53447163]])"
            ]
          },
          "metadata": {},
          "execution_count": 6
        }
      ]
    },
    {
      "cell_type": "code",
      "source": [
        "data[ismlar!='Munira'] #Muniraga tegishli bo'lmagan barcha malumotlarni ajratib oladi"
      ],
      "metadata": {
        "colab": {
          "base_uri": "https://localhost:8080/"
        },
        "id": "k0iYo7mYfttv",
        "outputId": "e783238e-c5dc-4fa6-d421-94ddea2ab04a"
      },
      "execution_count": 8,
      "outputs": [
        {
          "output_type": "execute_result",
          "data": {
            "text/plain": [
              "array([[0.90176198, 0.60881171, 0.02345458, 0.4066302 , 0.53447163],\n",
              "       [0.98720238, 0.58598217, 0.51770044, 0.59859099, 0.69757473],\n",
              "       [0.50608718, 0.76434295, 0.34994626, 0.47170226, 0.44615714],\n",
              "       [0.82042644, 0.24861999, 0.06939092, 0.40620189, 0.39683302]])"
            ]
          },
          "metadata": {},
          "execution_count": 8
        }
      ]
    },
    {
      "cell_type": "code",
      "source": [
        "data[~(ismlar=='Munira')] #Yuqoridagi ceil bilan bir xil"
      ],
      "metadata": {
        "colab": {
          "base_uri": "https://localhost:8080/"
        },
        "id": "2yVtJLtdftxN",
        "outputId": "1ee8ef94-1e55-4620-e5d9-adcff0caf037"
      },
      "execution_count": 9,
      "outputs": [
        {
          "output_type": "execute_result",
          "data": {
            "text/plain": [
              "array([[0.90176198, 0.60881171, 0.02345458, 0.4066302 , 0.53447163],\n",
              "       [0.98720238, 0.58598217, 0.51770044, 0.59859099, 0.69757473],\n",
              "       [0.50608718, 0.76434295, 0.34994626, 0.47170226, 0.44615714],\n",
              "       [0.82042644, 0.24861999, 0.06939092, 0.40620189, 0.39683302]])"
            ]
          },
          "metadata": {},
          "execution_count": 9
        }
      ]
    },
    {
      "cell_type": "code",
      "source": [
        "data[ismlar=='Munira',2:4]"
      ],
      "metadata": {
        "colab": {
          "base_uri": "https://localhost:8080/"
        },
        "id": "nFtY4xO2h8PB",
        "outputId": "c4b88837-6fbb-4839-8ca4-abbd4e5f2c47"
      },
      "execution_count": 14,
      "outputs": [
        {
          "output_type": "execute_result",
          "data": {
            "text/plain": [
              "array([[0.72929462, 0.87478453],\n",
              "       [0.53062772, 0.88243911]])"
            ]
          },
          "metadata": {},
          "execution_count": 14
        }
      ]
    },
    {
      "cell_type": "code",
      "source": [
        "data[(ismlar=='Munira') | (ismlar=='Nigora')] # | operatori or operatoriga teng kuchli"
      ],
      "metadata": {
        "colab": {
          "base_uri": "https://localhost:8080/"
        },
        "id": "LQjCE8KsiClg",
        "outputId": "26acbae5-466d-4446-f0f4-a867ab6a0e77"
      },
      "execution_count": 23,
      "outputs": [
        {
          "output_type": "execute_result",
          "data": {
            "text/plain": [
              "array([[0.66671222, 0.07362336, 0.72929462, 0.87478453, 0.42102279],\n",
              "       [0.90176198, 0.60881171, 0.02345458, 0.4066302 , 0.53447163],\n",
              "       [0.69439357, 0.8508202 , 0.53062772, 0.88243911, 0.87632555]])"
            ]
          },
          "metadata": {},
          "execution_count": 23
        }
      ]
    },
    {
      "cell_type": "code",
      "source": [
        "data"
      ],
      "metadata": {
        "colab": {
          "base_uri": "https://localhost:8080/"
        },
        "id": "aXGDFfcpiUf2",
        "outputId": "853da13f-1f2f-4a1e-90e6-4c290b92df1b"
      },
      "execution_count": 32,
      "outputs": [
        {
          "output_type": "execute_result",
          "data": {
            "text/plain": [
              "array([[-0.44748601,  0.14739917, -0.75472348, -0.80018541, -1.07041611],\n",
              "       [-0.47855122,  1.47523039,  1.46856463, -1.95180275, -0.55833504],\n",
              "       [ 0.12667421,  0.16034526, -0.63463719, -0.49110351,  1.11233183],\n",
              "       [ 0.98113201, -2.30702262,  1.67291106,  1.40866116,  0.44858704],\n",
              "       [ 0.23033331,  0.82359609,  0.76201204, -0.95394662,  0.38646864],\n",
              "       [ 1.17958416,  0.4676683 ,  0.23742926,  0.26109178, -1.01872254]])"
            ]
          },
          "metadata": {},
          "execution_count": 32
        }
      ]
    },
    {
      "cell_type": "code",
      "source": [
        "data[data<0]=0\n",
        "data"
      ],
      "metadata": {
        "colab": {
          "base_uri": "https://localhost:8080/"
        },
        "id": "o9GFA3AAk4-v",
        "outputId": "207dc296-ce24-49b6-ec87-4ba5834d534d"
      },
      "execution_count": 33,
      "outputs": [
        {
          "output_type": "execute_result",
          "data": {
            "text/plain": [
              "array([[0.        , 0.14739917, 0.        , 0.        , 0.        ],\n",
              "       [0.        , 1.47523039, 1.46856463, 0.        , 0.        ],\n",
              "       [0.12667421, 0.16034526, 0.        , 0.        , 1.11233183],\n",
              "       [0.98113201, 0.        , 1.67291106, 1.40866116, 0.44858704],\n",
              "       [0.23033331, 0.82359609, 0.76201204, 0.        , 0.38646864],\n",
              "       [1.17958416, 0.4676683 , 0.23742926, 0.26109178, 0.        ]])"
            ]
          },
          "metadata": {},
          "execution_count": 33
        }
      ]
    },
    {
      "cell_type": "code",
      "source": [],
      "metadata": {
        "id": "pp2ghkOylJGb"
      },
      "execution_count": null,
      "outputs": []
    }
  ]
}