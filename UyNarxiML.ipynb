{
  "nbformat": 4,
  "nbformat_minor": 0,
  "metadata": {
    "colab": {
      "private_outputs": true,
      "provenance": [],
      "authorship_tag": "ABX9TyO4yn9wEp8UGOMO3JQZKx5U",
      "include_colab_link": true
    },
    "kernelspec": {
      "name": "python3",
      "display_name": "Python 3"
    },
    "language_info": {
      "name": "python"
    }
  },
  "cells": [
    {
      "cell_type": "markdown",
      "metadata": {
        "id": "view-in-github",
        "colab_type": "text"
      },
      "source": [
        "<a href=\"https://colab.research.google.com/github/makhmudovamunira/DataScience_Mohirdev/blob/main/UyNarxiML.ipynb\" target=\"_parent\"><img src=\"https://colab.research.google.com/assets/colab-badge.svg\" alt=\"Open In Colab\"/></a>"
      ]
    },
    {
      "cell_type": "code",
      "execution_count": null,
      "metadata": {
        "id": "4WIrsv8fK0A6"
      },
      "outputs": [],
      "source": [
        "import pandas as pd\n",
        "df = pd.read_csv('https://github.com/anvarnarz/praktikum_datasets/blob/main/housing_LR.csv?raw=true', index_col=0)\n",
        "df.head(10)"
      ]
    },
    {
      "cell_type": "markdown",
      "source": [
        "# Ustunlar ta'rifi\n",
        "- `location` - sotilayotgan uy manzili\n",
        "- `district` - uy joylashgan tuman\n",
        "- `rooms` - xonalar soni\n",
        "- `size` - uy maydoni (kv.m)\n",
        "- `level` - uy"
      ],
      "metadata": {
        "id": "aWYoL7JXK3vN"
      }
    },
    {
      "cell_type": "code",
      "source": [
        "df.head()"
      ],
      "metadata": {
        "id": "czc-6RWyK6MI"
      },
      "execution_count": null,
      "outputs": []
    },
    {
      "cell_type": "code",
      "source": [
        "df['district'].value_counts()"
      ],
      "metadata": {
        "id": "_GxbkxgBMLux"
      },
      "execution_count": null,
      "outputs": []
    },
    {
      "cell_type": "code",
      "source": [
        "housing = df[df.district=='Чиланзарский']\n",
        "housing.head()"
      ],
      "metadata": {
        "id": "RiOlh0v4MRcy"
      },
      "execution_count": null,
      "outputs": []
    },
    {
      "cell_type": "code",
      "source": [
        "X=housing['size']\n",
        "X"
      ],
      "metadata": {
        "id": "WCzVmNYzMdKO"
      },
      "execution_count": null,
      "outputs": []
    },
    {
      "cell_type": "code",
      "source": [
        "y=housing['price']\n",
        "y"
      ],
      "metadata": {
        "id": "rFWiM7DqMdGi"
      },
      "execution_count": null,
      "outputs": []
    },
    {
      "cell_type": "code",
      "source": [
        "import matplotlib.pyplot as plt\n",
        "import seaborn as sns\n",
        "%matplotlib inline"
      ],
      "metadata": {
        "id": "DmMZEbZeMsta"
      },
      "execution_count": null,
      "outputs": []
    },
    {
      "cell_type": "code",
      "source": [
        "plt.figure(figsize=(10,6))\n",
        "sns.scatterplot(data=housing, x='size', y='price')\n",
        "plt.xticks(rotation=90)\n",
        "plt.show()"
      ],
      "metadata": {
        "id": "xY_Ca8GtM-N9"
      },
      "execution_count": null,
      "outputs": []
    },
    {
      "cell_type": "code",
      "source": [
        "plt.figure(figsize=(10,6))\n",
        "sns.regplot(data=housing, x='size', y='price', line_kws={\"color\": \"red\"})\n",
        "plt.show()"
      ],
      "metadata": {
        "id": "2APDo44SN35N"
      },
      "execution_count": null,
      "outputs": []
    },
    {
      "cell_type": "code",
      "source": [
        "Xmean=X.mean()\n",
        "Xmean"
      ],
      "metadata": {
        "id": "sb4ef8l2Pziz"
      },
      "execution_count": null,
      "outputs": []
    },
    {
      "cell_type": "code",
      "source": [
        "ymean=y.mean()\n",
        "ymean"
      ],
      "metadata": {
        "id": "YtshMaMYQSBr"
      },
      "execution_count": null,
      "outputs": []
    },
    {
      "cell_type": "code",
      "source": [
        "teta1=sum((X-Xmean)*(y-ymean))/sum((X-Xmean)**2)\n",
        "teta1"
      ],
      "metadata": {
        "id": "wgllyRuAQgXQ"
      },
      "execution_count": null,
      "outputs": []
    },
    {
      "cell_type": "code",
      "source": [
        "teta0=ymean-teta1*Xmean\n",
        "teta0"
      ],
      "metadata": {
        "id": "KXwzZ8i5RdFh"
      },
      "execution_count": null,
      "outputs": []
    },
    {
      "cell_type": "code",
      "source": [
        "x_test=housing.sample(10, random_state=42)['size'].to_numpy()\n",
        "print(x_test)\n",
        "y_test=housing.sample(10, random_state=42)['price'].to_numpy()\n",
        "print(y_test)"
      ],
      "metadata": {
        "id": "VSaB6T12Y4In"
      },
      "execution_count": null,
      "outputs": []
    },
    {
      "cell_type": "code",
      "source": [
        "y_predict=teta0+teta1*x_test\n",
        "y_predict"
      ],
      "metadata": {
        "id": "yxX4tnM6HUiY"
      },
      "execution_count": null,
      "outputs": []
    },
    {
      "cell_type": "code",
      "source": [
        "import numpy as np"
      ],
      "metadata": {
        "id": "C_6xGA15JTxU"
      },
      "execution_count": null,
      "outputs": []
    },
    {
      "cell_type": "code",
      "source": [
        "MAE=np.sum(np.absolute(y_predict-y_test))/len(y_test)\n",
        "print(f\"{MAE=}\")"
      ],
      "metadata": {
        "id": "XOqH4mF7Is_L"
      },
      "execution_count": null,
      "outputs": []
    },
    {
      "cell_type": "code",
      "source": [
        "RMSE=np.sqrt(np.sum((y_predict-y_test)**2)/len(y_test))\n",
        "print(f\"{RMSE=}\")"
      ],
      "metadata": {
        "id": "cXoMn_hBJQ6y"
      },
      "execution_count": null,
      "outputs": []
    },
    {
      "cell_type": "code",
      "source": [
        "housing.shape"
      ],
      "metadata": {
        "id": "fO2FmdobJ5QZ"
      },
      "execution_count": null,
      "outputs": []
    },
    {
      "cell_type": "code",
      "source": [
        "from sklearn.model_selection import train_test_split\n",
        "train_set, test_set = train_test_split(housing, test_size=0.1, random_state=42)"
      ],
      "metadata": {
        "id": "Jd6bgpQHYVzw"
      },
      "execution_count": null,
      "outputs": []
    },
    {
      "cell_type": "code",
      "source": [
        "from sklearn import linear_model\n",
        "LR_model=linear_model.LinearRegression()\n",
        "\n",
        "x_train=np.asanyarray(train_set[['size']])\n",
        "y_train=np.asanyarray(train_set[['price']])\n",
        "\n",
        "LR_model.fit(x_train, y_train)\n",
        "\n",
        "teta1=LR_model.coef_[0][0]\n",
        "teta0=LR_model.intercept_[0]\n",
        "\n",
        "print (f'{teta1=}')\n",
        "print (f'{teta0=}')"
      ],
      "metadata": {
        "id": "47mmyvjsYj1Z"
      },
      "execution_count": null,
      "outputs": []
    },
    {
      "cell_type": "code",
      "source": [
        "plt.figure(figsize=(10,6))\n",
        "sns.scatterplot(data=housing, x='size', y='price')\n",
        "plt.plot(x_train, teta1*x_train + teta0, '-r')\n",
        "plt.xlabel(\"Size\")\n",
        "plt.ylabel(\"Price\")"
      ],
      "metadata": {
        "id": "9yfNx2l8ZbpV"
      },
      "execution_count": null,
      "outputs": []
    },
    {
      "cell_type": "code",
      "source": [
        "x_test=np.asanyarray(test_set[['size']])\n",
        "y_test=np.asanyarray(test_set[['price']])\n",
        "\n",
        "y_predict=LR_model.predict(x_test)\n",
        "\n",
        "from sklearn.metrics import mean_absolute_error, mean_squared_error\n",
        "\n",
        "mae=mean_absolute_error(y_test, y_predict)\n",
        "rmse=np.sqrt(mean_squared_error(y_test, y_predict))\n",
        "\n",
        "print(f\"{mae=}\")\n",
        "print(f\"{rmse=}\")"
      ],
      "metadata": {
        "id": "SrdwT45IZh_c"
      },
      "execution_count": null,
      "outputs": []
    }
  ]
}